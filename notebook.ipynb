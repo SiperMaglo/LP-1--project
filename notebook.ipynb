{
 "cells": [
  {
   "cell_type": "markdown",
   "metadata": {},
   "source": [
    "# Analysis of Indian Start-ups Funding (2018-2021)"
   ]
  },
  {
   "cell_type": "markdown",
   "metadata": {},
   "source": [
    "## Introduction\n",
    "India has witnessed a burgeoning start-up ecosystem over the past few years, marked by innovation, growth, and significant investments. This analysis delves into the funding landscape of Indian start-ups between 2018 and 2021, exploring the trends, patterns, and factors influencing their financial growth."
   ]
  },
  {
   "cell_type": "code",
   "execution_count": 1,
   "metadata": {},
   "outputs": [],
   "source": [
    "import pyodbc \n",
    "from dotenv import dotenv_values \n",
    "import re\n",
    "import pandas as pd\n",
    "import numpy as np\n",
    "import warnings \n",
    "warnings.filterwarnings('ignore')"
   ]
  },
  {
   "cell_type": "code",
   "execution_count": 2,
   "metadata": {},
   "outputs": [],
   "source": [
    "# importing visualization modules\n",
    "import seaborn as sns\n",
    "import matplotlib.pyplot as plt\n",
    "from scipy.stats import f_oneway\n",
    "from scipy import stats"
   ]
  },
  {
   "cell_type": "code",
   "execution_count": 3,
   "metadata": {},
   "outputs": [],
   "source": [
    "# Load environment variables from .env file into a dictionary\n",
    "environment_variables = dotenv_values('.env')\n",
    "\n",
    "# Get the values for the credentials you set in the '.env' file\n",
    "server = environment_variables.get(\"SERVER\")\n",
    "database = environment_variables.get(\"DATABASE\")\n",
    "username = environment_variables.get(\"UID\")\n",
    "password = environment_variables.get(\"PWD\")\n",
    "\n",
    "connection_string = f\"DRIVER={{SQL Server}};SERVER={server};DATABASE={database};UID={username};PWD={password}\""
   ]
  },
  {
   "cell_type": "code",
   "execution_count": 4,
   "metadata": {},
   "outputs": [],
   "source": [
    "# Use the connect method of the pyodbc library and pass in the connection string.\n",
    "# This will connect to the server and might take a few seconds to be complete. \n",
    "# Check your internet connection if it takes more time than necessary\n",
    "connection = pyodbc.connect(connection_string)"
   ]
  },
  {
   "cell_type": "markdown",
   "metadata": {},
   "source": [
    "##  Data Loading"
   ]
  },
  {
   "cell_type": "markdown",
   "metadata": {},
   "source": [
    "## Dataset of startup_funding 2020"
   ]
  },
  {
   "cell_type": "code",
   "execution_count": 5,
   "metadata": {},
   "outputs": [
    {
     "data": {
      "text/html": [
       "<div>\n",
       "<style scoped>\n",
       "    .dataframe tbody tr th:only-of-type {\n",
       "        vertical-align: middle;\n",
       "    }\n",
       "\n",
       "    .dataframe tbody tr th {\n",
       "        vertical-align: top;\n",
       "    }\n",
       "\n",
       "    .dataframe thead th {\n",
       "        text-align: right;\n",
       "    }\n",
       "</style>\n",
       "<table border=\"1\" class=\"dataframe\">\n",
       "  <thead>\n",
       "    <tr style=\"text-align: right;\">\n",
       "      <th></th>\n",
       "      <th>Company_Brand</th>\n",
       "      <th>Founded</th>\n",
       "      <th>HeadQuarter</th>\n",
       "      <th>Sector</th>\n",
       "      <th>What_it_does</th>\n",
       "      <th>Founders</th>\n",
       "      <th>Investor</th>\n",
       "      <th>Amount</th>\n",
       "      <th>Stage</th>\n",
       "      <th>column10</th>\n",
       "    </tr>\n",
       "  </thead>\n",
       "  <tbody>\n",
       "    <tr>\n",
       "      <th>0</th>\n",
       "      <td>Aqgromalin</td>\n",
       "      <td>2019.0</td>\n",
       "      <td>Chennai</td>\n",
       "      <td>AgriTech</td>\n",
       "      <td>Cultivating Ideas for Profit</td>\n",
       "      <td>Prasanna Manogaran, Bharani C L</td>\n",
       "      <td>Angel investors</td>\n",
       "      <td>200000.0</td>\n",
       "      <td>None</td>\n",
       "      <td>None</td>\n",
       "    </tr>\n",
       "    <tr>\n",
       "      <th>1</th>\n",
       "      <td>Krayonnz</td>\n",
       "      <td>2019.0</td>\n",
       "      <td>Bangalore</td>\n",
       "      <td>EdTech</td>\n",
       "      <td>An academy-guardian-scholar centric ecosystem ...</td>\n",
       "      <td>Saurabh Dixit, Gurudutt Upadhyay</td>\n",
       "      <td>GSF Accelerator</td>\n",
       "      <td>100000.0</td>\n",
       "      <td>Pre-seed</td>\n",
       "      <td>None</td>\n",
       "    </tr>\n",
       "    <tr>\n",
       "      <th>2</th>\n",
       "      <td>PadCare Labs</td>\n",
       "      <td>2018.0</td>\n",
       "      <td>Pune</td>\n",
       "      <td>Hygiene management</td>\n",
       "      <td>Converting bio-hazardous waste to harmless waste</td>\n",
       "      <td>Ajinkya Dhariya</td>\n",
       "      <td>Venture Center</td>\n",
       "      <td>NaN</td>\n",
       "      <td>Pre-seed</td>\n",
       "      <td>None</td>\n",
       "    </tr>\n",
       "    <tr>\n",
       "      <th>3</th>\n",
       "      <td>NCOME</td>\n",
       "      <td>2020.0</td>\n",
       "      <td>New Delhi</td>\n",
       "      <td>Escrow</td>\n",
       "      <td>Escrow-as-a-service platform</td>\n",
       "      <td>Ritesh Tiwari</td>\n",
       "      <td>Venture Catalysts, PointOne Capital</td>\n",
       "      <td>400000.0</td>\n",
       "      <td>None</td>\n",
       "      <td>None</td>\n",
       "    </tr>\n",
       "    <tr>\n",
       "      <th>4</th>\n",
       "      <td>Gramophone</td>\n",
       "      <td>2016.0</td>\n",
       "      <td>Indore</td>\n",
       "      <td>AgriTech</td>\n",
       "      <td>Gramophone is an AgTech platform enabling acce...</td>\n",
       "      <td>Ashish Rajan Singh, Harshit Gupta, Nishant Mah...</td>\n",
       "      <td>Siana Capital Management, Info Edge</td>\n",
       "      <td>340000.0</td>\n",
       "      <td>None</td>\n",
       "      <td>None</td>\n",
       "    </tr>\n",
       "  </tbody>\n",
       "</table>\n",
       "</div>"
      ],
      "text/plain": [
       "  Company_Brand  Founded HeadQuarter              Sector  \\\n",
       "0    Aqgromalin   2019.0     Chennai            AgriTech   \n",
       "1      Krayonnz   2019.0   Bangalore              EdTech   \n",
       "2  PadCare Labs   2018.0        Pune  Hygiene management   \n",
       "3         NCOME   2020.0   New Delhi              Escrow   \n",
       "4    Gramophone   2016.0      Indore            AgriTech   \n",
       "\n",
       "                                        What_it_does  \\\n",
       "0                       Cultivating Ideas for Profit   \n",
       "1  An academy-guardian-scholar centric ecosystem ...   \n",
       "2   Converting bio-hazardous waste to harmless waste   \n",
       "3                       Escrow-as-a-service platform   \n",
       "4  Gramophone is an AgTech platform enabling acce...   \n",
       "\n",
       "                                            Founders  \\\n",
       "0                    Prasanna Manogaran, Bharani C L   \n",
       "1                   Saurabh Dixit, Gurudutt Upadhyay   \n",
       "2                                    Ajinkya Dhariya   \n",
       "3                                      Ritesh Tiwari   \n",
       "4  Ashish Rajan Singh, Harshit Gupta, Nishant Mah...   \n",
       "\n",
       "                              Investor    Amount     Stage column10  \n",
       "0                      Angel investors  200000.0      None     None  \n",
       "1                      GSF Accelerator  100000.0  Pre-seed     None  \n",
       "2                       Venture Center       NaN  Pre-seed     None  \n",
       "3  Venture Catalysts, PointOne Capital  400000.0      None     None  \n",
       "4  Siana Capital Management, Info Edge  340000.0      None     None  "
      ]
     },
     "execution_count": 5,
     "metadata": {},
     "output_type": "execute_result"
    }
   ],
   "source": [
    "#load dataset\n",
    "# SQL query to fetch data from 'dbo.LP1_startup_funding2020' table\n",
    "query = \"Select * from dbo.LP1_startup_funding2020\"\n",
    " \n",
    "# Read data from the SQL query result\n",
    "data_2020 = pd.read_sql(query, connection)\n",
    "\n",
    " # Display the first few rows of the DataFrame\n",
    "data_2020.head()"
   ]
  },
  {
   "cell_type": "code",
   "execution_count": 6,
   "metadata": {},
   "outputs": [
    {
     "name": "stdout",
     "output_type": "stream",
     "text": [
      "<class 'pandas.core.frame.DataFrame'>\n",
      "RangeIndex: 1055 entries, 0 to 1054\n",
      "Data columns (total 10 columns):\n",
      " #   Column         Non-Null Count  Dtype  \n",
      "---  ------         --------------  -----  \n",
      " 0   Company_Brand  1055 non-null   object \n",
      " 1   Founded        842 non-null    float64\n",
      " 2   HeadQuarter    961 non-null    object \n",
      " 3   Sector         1042 non-null   object \n",
      " 4   What_it_does   1055 non-null   object \n",
      " 5   Founders       1043 non-null   object \n",
      " 6   Investor       1017 non-null   object \n",
      " 7   Amount         801 non-null    float64\n",
      " 8   Stage          591 non-null    object \n",
      " 9   column10       2 non-null      object \n",
      "dtypes: float64(2), object(8)\n",
      "memory usage: 82.5+ KB\n"
     ]
    }
   ],
   "source": [
    "# check dataset info\n",
    "data_2020.info()"
   ]
  },
  {
   "cell_type": "markdown",
   "metadata": {},
   "source": [
    "## investigating the table of data_2020"
   ]
  },
  {
   "cell_type": "code",
   "execution_count": 7,
   "metadata": {},
   "outputs": [
    {
     "data": {
      "text/html": [
       "<div>\n",
       "<style scoped>\n",
       "    .dataframe tbody tr th:only-of-type {\n",
       "        vertical-align: middle;\n",
       "    }\n",
       "\n",
       "    .dataframe tbody tr th {\n",
       "        vertical-align: top;\n",
       "    }\n",
       "\n",
       "    .dataframe thead th {\n",
       "        text-align: right;\n",
       "    }\n",
       "</style>\n",
       "<table border=\"1\" class=\"dataframe\">\n",
       "  <thead>\n",
       "    <tr style=\"text-align: right;\">\n",
       "      <th></th>\n",
       "      <th>Company_Brand</th>\n",
       "      <th>Founded</th>\n",
       "      <th>HeadQuarter</th>\n",
       "      <th>Sector</th>\n",
       "      <th>What_it_does</th>\n",
       "      <th>Founders</th>\n",
       "      <th>Investor</th>\n",
       "      <th>Amount</th>\n",
       "      <th>Stage</th>\n",
       "      <th>column10</th>\n",
       "    </tr>\n",
       "  </thead>\n",
       "  <tbody>\n",
       "    <tr>\n",
       "      <th>0</th>\n",
       "      <td>Aqgromalin</td>\n",
       "      <td>2019.0</td>\n",
       "      <td>Chennai</td>\n",
       "      <td>AgriTech</td>\n",
       "      <td>Cultivating Ideas for Profit</td>\n",
       "      <td>Prasanna Manogaran, Bharani C L</td>\n",
       "      <td>Angel investors</td>\n",
       "      <td>200000.0</td>\n",
       "      <td>None</td>\n",
       "      <td>None</td>\n",
       "    </tr>\n",
       "    <tr>\n",
       "      <th>1</th>\n",
       "      <td>Krayonnz</td>\n",
       "      <td>2019.0</td>\n",
       "      <td>Bangalore</td>\n",
       "      <td>EdTech</td>\n",
       "      <td>An academy-guardian-scholar centric ecosystem ...</td>\n",
       "      <td>Saurabh Dixit, Gurudutt Upadhyay</td>\n",
       "      <td>GSF Accelerator</td>\n",
       "      <td>100000.0</td>\n",
       "      <td>Pre-seed</td>\n",
       "      <td>None</td>\n",
       "    </tr>\n",
       "    <tr>\n",
       "      <th>2</th>\n",
       "      <td>PadCare Labs</td>\n",
       "      <td>2018.0</td>\n",
       "      <td>Pune</td>\n",
       "      <td>Hygiene management</td>\n",
       "      <td>Converting bio-hazardous waste to harmless waste</td>\n",
       "      <td>Ajinkya Dhariya</td>\n",
       "      <td>Venture Center</td>\n",
       "      <td>NaN</td>\n",
       "      <td>Pre-seed</td>\n",
       "      <td>None</td>\n",
       "    </tr>\n",
       "    <tr>\n",
       "      <th>3</th>\n",
       "      <td>NCOME</td>\n",
       "      <td>2020.0</td>\n",
       "      <td>New Delhi</td>\n",
       "      <td>Escrow</td>\n",
       "      <td>Escrow-as-a-service platform</td>\n",
       "      <td>Ritesh Tiwari</td>\n",
       "      <td>Venture Catalysts, PointOne Capital</td>\n",
       "      <td>400000.0</td>\n",
       "      <td>None</td>\n",
       "      <td>None</td>\n",
       "    </tr>\n",
       "    <tr>\n",
       "      <th>4</th>\n",
       "      <td>Gramophone</td>\n",
       "      <td>2016.0</td>\n",
       "      <td>Indore</td>\n",
       "      <td>AgriTech</td>\n",
       "      <td>Gramophone is an AgTech platform enabling acce...</td>\n",
       "      <td>Ashish Rajan Singh, Harshit Gupta, Nishant Mah...</td>\n",
       "      <td>Siana Capital Management, Info Edge</td>\n",
       "      <td>340000.0</td>\n",
       "      <td>None</td>\n",
       "      <td>None</td>\n",
       "    </tr>\n",
       "    <tr>\n",
       "      <th>5</th>\n",
       "      <td>qZense</td>\n",
       "      <td>2019.0</td>\n",
       "      <td>Bangalore</td>\n",
       "      <td>AgriTech</td>\n",
       "      <td>qZense Labs is building the next-generation Io...</td>\n",
       "      <td>Rubal Chib, Dr Srishti Batra</td>\n",
       "      <td>Venture Catalysts, 9Unicorns Accelerator Fund</td>\n",
       "      <td>600000.0</td>\n",
       "      <td>Seed</td>\n",
       "      <td>None</td>\n",
       "    </tr>\n",
       "    <tr>\n",
       "      <th>6</th>\n",
       "      <td>MyClassboard</td>\n",
       "      <td>2008.0</td>\n",
       "      <td>Hyderabad</td>\n",
       "      <td>EdTech</td>\n",
       "      <td>MyClassboard is a full-fledged School / Colleg...</td>\n",
       "      <td>Ajay Sakhamuri</td>\n",
       "      <td>ICICI Bank.</td>\n",
       "      <td>600000.0</td>\n",
       "      <td>Pre-series A</td>\n",
       "      <td>None</td>\n",
       "    </tr>\n",
       "    <tr>\n",
       "      <th>7</th>\n",
       "      <td>Metvy</td>\n",
       "      <td>2018.0</td>\n",
       "      <td>Gurgaon</td>\n",
       "      <td>Networking platform</td>\n",
       "      <td>AI driven networking platform for individuals ...</td>\n",
       "      <td>Shawrya Mehrotra</td>\n",
       "      <td>HostelFund</td>\n",
       "      <td>NaN</td>\n",
       "      <td>Pre-series</td>\n",
       "      <td>None</td>\n",
       "    </tr>\n",
       "    <tr>\n",
       "      <th>8</th>\n",
       "      <td>Rupeek</td>\n",
       "      <td>2015.0</td>\n",
       "      <td>Bangalore</td>\n",
       "      <td>FinTech</td>\n",
       "      <td>Rupeek is an online lending platform that spec...</td>\n",
       "      <td>Amar Prabhu, Ashwin Soni, Sumit Maniyar</td>\n",
       "      <td>KB Investment, Bertelsmann India Investments</td>\n",
       "      <td>45000000.0</td>\n",
       "      <td>Series C</td>\n",
       "      <td>None</td>\n",
       "    </tr>\n",
       "    <tr>\n",
       "      <th>9</th>\n",
       "      <td>Gig India</td>\n",
       "      <td>2017.0</td>\n",
       "      <td>Pune</td>\n",
       "      <td>Crowdsourcing</td>\n",
       "      <td>GigIndia is a marketplace that provides on-dem...</td>\n",
       "      <td>Aditya Shirole, Sahil Sharma</td>\n",
       "      <td>Shantanu Deshpande, Subramaniam Ramadorai</td>\n",
       "      <td>1000000.0</td>\n",
       "      <td>Pre-series A</td>\n",
       "      <td>None</td>\n",
       "    </tr>\n",
       "  </tbody>\n",
       "</table>\n",
       "</div>"
      ],
      "text/plain": [
       "  Company_Brand  Founded HeadQuarter               Sector  \\\n",
       "0    Aqgromalin   2019.0     Chennai             AgriTech   \n",
       "1      Krayonnz   2019.0   Bangalore               EdTech   \n",
       "2  PadCare Labs   2018.0        Pune   Hygiene management   \n",
       "3         NCOME   2020.0   New Delhi               Escrow   \n",
       "4    Gramophone   2016.0      Indore             AgriTech   \n",
       "5        qZense   2019.0   Bangalore             AgriTech   \n",
       "6  MyClassboard   2008.0   Hyderabad               EdTech   \n",
       "7         Metvy   2018.0     Gurgaon  Networking platform   \n",
       "8        Rupeek   2015.0   Bangalore              FinTech   \n",
       "9     Gig India   2017.0        Pune        Crowdsourcing   \n",
       "\n",
       "                                        What_it_does  \\\n",
       "0                       Cultivating Ideas for Profit   \n",
       "1  An academy-guardian-scholar centric ecosystem ...   \n",
       "2   Converting bio-hazardous waste to harmless waste   \n",
       "3                       Escrow-as-a-service platform   \n",
       "4  Gramophone is an AgTech platform enabling acce...   \n",
       "5  qZense Labs is building the next-generation Io...   \n",
       "6  MyClassboard is a full-fledged School / Colleg...   \n",
       "7  AI driven networking platform for individuals ...   \n",
       "8  Rupeek is an online lending platform that spec...   \n",
       "9  GigIndia is a marketplace that provides on-dem...   \n",
       "\n",
       "                                            Founders  \\\n",
       "0                    Prasanna Manogaran, Bharani C L   \n",
       "1                   Saurabh Dixit, Gurudutt Upadhyay   \n",
       "2                                    Ajinkya Dhariya   \n",
       "3                                      Ritesh Tiwari   \n",
       "4  Ashish Rajan Singh, Harshit Gupta, Nishant Mah...   \n",
       "5                       Rubal Chib, Dr Srishti Batra   \n",
       "6                                     Ajay Sakhamuri   \n",
       "7                                   Shawrya Mehrotra   \n",
       "8            Amar Prabhu, Ashwin Soni, Sumit Maniyar   \n",
       "9                       Aditya Shirole, Sahil Sharma   \n",
       "\n",
       "                                        Investor      Amount         Stage  \\\n",
       "0                                Angel investors    200000.0          None   \n",
       "1                                GSF Accelerator    100000.0      Pre-seed   \n",
       "2                                 Venture Center         NaN      Pre-seed   \n",
       "3            Venture Catalysts, PointOne Capital    400000.0          None   \n",
       "4            Siana Capital Management, Info Edge    340000.0          None   \n",
       "5  Venture Catalysts, 9Unicorns Accelerator Fund    600000.0          Seed   \n",
       "6                                    ICICI Bank.    600000.0  Pre-series A   \n",
       "7                                     HostelFund         NaN    Pre-series   \n",
       "8   KB Investment, Bertelsmann India Investments  45000000.0      Series C   \n",
       "9      Shantanu Deshpande, Subramaniam Ramadorai   1000000.0  Pre-series A   \n",
       "\n",
       "  column10  \n",
       "0     None  \n",
       "1     None  \n",
       "2     None  \n",
       "3     None  \n",
       "4     None  \n",
       "5     None  \n",
       "6     None  \n",
       "7     None  \n",
       "8     None  \n",
       "9     None  "
      ]
     },
     "execution_count": 7,
     "metadata": {},
     "output_type": "execute_result"
    }
   ],
   "source": [
    "data_2020.head(10)"
   ]
  },
  {
   "cell_type": "markdown",
   "metadata": {},
   "source": [
    "##  Data Cleaning"
   ]
  },
  {
   "cell_type": "markdown",
   "metadata": {},
   "source": [
    "### Renaming column names"
   ]
  },
  {
   "cell_type": "code",
   "execution_count": 8,
   "metadata": {},
   "outputs": [],
   "source": [
    "# Rename columns in data_2020 DataFrame\n",
    "data_2020.rename(columns={'Company_Brand': 'Company Brand', 'What_it_does': 'What it does'}, inplace=True)"
   ]
  },
  {
   "cell_type": "code",
   "execution_count": 9,
   "metadata": {},
   "outputs": [
    {
     "data": {
      "text/plain": [
       "3"
      ]
     },
     "execution_count": 9,
     "metadata": {},
     "output_type": "execute_result"
    }
   ],
   "source": [
    "# Identify Duplicates\n",
    "data_2020.duplicated().sum()"
   ]
  },
  {
   "cell_type": "markdown",
   "metadata": {},
   "source": [
    "### Removing Duplicates"
   ]
  },
  {
   "cell_type": "code",
   "execution_count": 10,
   "metadata": {},
   "outputs": [],
   "source": [
    "# Remove Duplicates\n",
    "data_2020.drop_duplicates(inplace= True)"
   ]
  },
  {
   "cell_type": "code",
   "execution_count": 11,
   "metadata": {},
   "outputs": [
    {
     "data": {
      "text/plain": [
       "Company Brand       0\n",
       "Founded           213\n",
       "HeadQuarter        94\n",
       "Sector             13\n",
       "What it does        0\n",
       "Founders           12\n",
       "Investor           38\n",
       "Amount            253\n",
       "Stage             462\n",
       "column10         1050\n",
       "dtype: int64"
      ]
     },
     "execution_count": 11,
     "metadata": {},
     "output_type": "execute_result"
    }
   ],
   "source": [
    "# check for missing values\n",
    "data_2020.isnull().sum()"
   ]
  },
  {
   "cell_type": "markdown",
   "metadata": {},
   "source": [
    "### Fill Founded column null values with median"
   ]
  },
  {
   "cell_type": "code",
   "execution_count": 12,
   "metadata": {},
   "outputs": [],
   "source": [
    "# This approach helps maintain the overall distribution of the data.\n",
    "median_founded_year = data_2020['Founded'].median()\n",
    "data_2020['Founded'].fillna(median_founded_year, inplace=True)"
   ]
  },
  {
   "cell_type": "code",
   "execution_count": 13,
   "metadata": {},
   "outputs": [],
   "source": [
    "# change Data Type for Founded to INT\n",
    "data_2020['Founded'] = data_2020['Founded'].astype(int)"
   ]
  },
  {
   "cell_type": "code",
   "execution_count": 14,
   "metadata": {},
   "outputs": [
    {
     "data": {
      "text/plain": [
       "Company Brand       0\n",
       "Founded             0\n",
       "HeadQuarter        94\n",
       "Sector             13\n",
       "What it does        0\n",
       "Founders           12\n",
       "Investor           38\n",
       "Amount            253\n",
       "Stage             462\n",
       "column10         1050\n",
       "dtype: int64"
      ]
     },
     "execution_count": 14,
     "metadata": {},
     "output_type": "execute_result"
    }
   ],
   "source": [
    "# check for missing values\n",
    "data_2020.isnull().sum()"
   ]
  },
  {
   "cell_type": "markdown",
   "metadata": {},
   "source": [
    "### split the 'HeadQuarter' column into separate columns based on the ', ' delimiter and then removes the additional columns 'f' and 'u' that resulted from the split."
   ]
  },
  {
   "cell_type": "code",
   "execution_count": 15,
   "metadata": {},
   "outputs": [],
   "source": [
    "data_2020[['HeadQuarter','f','u']] = data_2020['HeadQuarter'].str.split(', ',expand=True)\n",
    "data_2020.drop(columns=['f','u'], axis=1, inplace = True)"
   ]
  },
  {
   "cell_type": "markdown",
   "metadata": {},
   "source": [
    "### Fill missing value in HeadQuarter with Unknown"
   ]
  },
  {
   "cell_type": "code",
   "execution_count": 16,
   "metadata": {},
   "outputs": [],
   "source": [
    "# fill all missing values with unknown\n",
    "data_2020['HeadQuarter'].fillna('Unknown', inplace=True)"
   ]
  },
  {
   "cell_type": "markdown",
   "metadata": {},
   "source": [
    "### identifying Unique values in Headquarter after fill"
   ]
  },
  {
   "cell_type": "code",
   "execution_count": 17,
   "metadata": {},
   "outputs": [
    {
     "name": "stdout",
     "output_type": "stream",
     "text": [
      "['Chennai' 'Bangalore' 'Pune' 'New Delhi' 'Indore' 'Hyderabad' 'Gurgaon'\n",
      " 'Belgaum' 'Noida' 'Mumbai' 'Andheri' 'Jaipur' 'Ahmedabad' 'Kolkata'\n",
      " 'Tirunelveli' 'Thane' 'Unknown' 'Singapore' 'Gurugram' 'Gujarat'\n",
      " 'Haryana' 'Kerala' 'Jodhpur' 'Delhi' 'Frisco' 'California' 'Dhingsara'\n",
      " 'New York' 'Patna' 'San Francisco' 'San Ramon' 'Paris' 'Plano' 'Sydney'\n",
      " 'San Francisco Bay Area' 'Bangaldesh' 'London' 'Milano' 'Palmwoods'\n",
      " 'France' 'Trivandrum' 'Cochin' 'Samastipur' 'Irvine' 'Tumkur'\n",
      " 'Newcastle Upon Tyne' 'Shanghai' 'Jiaxing' 'Rajastan' 'Kochi' 'Ludhiana'\n",
      " 'Dehradun' 'San Franciscao' 'Tangerang' 'Berlin' 'Seattle' 'Riyadh'\n",
      " 'Seoul' 'Bangkok' 'Kanpur' 'Chandigarh' 'Warangal' 'Hyderebad' 'Odisha'\n",
      " 'Bihar' 'Goa' 'Tamil Nadu' 'Uttar Pradesh' 'Bhopal' 'Banglore'\n",
      " 'Coimbatore' 'Bengaluru']\n"
     ]
    }
   ],
   "source": [
    "print(data_2020['HeadQuarter'].unique())"
   ]
  },
  {
   "cell_type": "code",
   "execution_count": 18,
   "metadata": {},
   "outputs": [
    {
     "data": {
      "text/plain": [
       "0"
      ]
     },
     "execution_count": 18,
     "metadata": {},
     "output_type": "execute_result"
    }
   ],
   "source": [
    "# Identify rows with missing HeadQuarter values\n",
    "data_2020['HeadQuarter'].isnull().sum()"
   ]
  },
  {
   "cell_type": "code",
   "execution_count": 19,
   "metadata": {},
   "outputs": [
    {
     "data": {
      "text/plain": [
       "13"
      ]
     },
     "execution_count": 19,
     "metadata": {},
     "output_type": "execute_result"
    }
   ],
   "source": [
    "# Identify rows with missing Sector values\n",
    "data_2020['Sector'].isnull().sum()"
   ]
  },
  {
   "cell_type": "code",
   "execution_count": 20,
   "metadata": {},
   "outputs": [],
   "source": [
    "# fill all missing values with unknown\n",
    "data_2020['Sector'].fillna('Unknown', inplace=True)"
   ]
  },
  {
   "cell_type": "code",
   "execution_count": 21,
   "metadata": {},
   "outputs": [
    {
     "data": {
      "text/plain": [
       "0"
      ]
     },
     "execution_count": 21,
     "metadata": {},
     "output_type": "execute_result"
    }
   ],
   "source": [
    "# Identify rows with missing Sector values\n",
    "data_2020['Sector'].isnull().sum()"
   ]
  },
  {
   "cell_type": "markdown",
   "metadata": {},
   "source": [
    "### identifying Unique values in Sector colmun"
   ]
  },
  {
   "cell_type": "code",
   "execution_count": 22,
   "metadata": {},
   "outputs": [
    {
     "name": "stdout",
     "output_type": "stream",
     "text": [
      "['AgriTech' 'EdTech' 'Hygiene management' 'Escrow' 'Networking platform'\n",
      " 'FinTech' 'Crowdsourcing' 'Food & Bevarages' 'HealthTech'\n",
      " 'Fashion startup' 'Food Industry' 'Food Delivery'\n",
      " 'Virtual auditing startup' 'E-commerce' 'Gaming' 'Work fulfillment'\n",
      " 'AI startup' 'Telecommunication' 'Logistics' 'Tech Startup' 'Sports'\n",
      " 'Retail' 'Medtech' 'Tyre management' 'Cloud company' 'Software company'\n",
      " 'Venture capitalist' 'Renewable player' 'IoT startup' 'SaaS startup'\n",
      " 'Aero company' 'Marketing company' 'Retail startup' 'Co-working Startup'\n",
      " 'Finance company' 'Tech company' 'Solar Monitoring Company'\n",
      " 'Video sharing platform' 'Gaming startup' 'Video streaming platform'\n",
      " 'Consumer appliances' 'Blockchain startup' 'Conversational AI platform'\n",
      " 'Real Estate' 'SaaS platform' 'AI platform' 'Fusion beverages' 'HR Tech'\n",
      " 'Job portal' 'Hospitality' 'Digital Media' 'Dairy startup'\n",
      " 'Content management' 'Spacetech' 'Transportation' 'Trading platform'\n",
      " 'AI Company' 'Photonics startup' 'Entertainment' 'Cosmetics'\n",
      " 'Scanning app' 'Skincare startup' 'Food and Beverages'\n",
      " 'Biotechnology company' 'FoodTech' 'Proptech' 'CleanTech'\n",
      " 'Fitness startup' 'Healthcare' 'PaaS startup' 'Beverages' 'Social Media'\n",
      " 'Automobiles' 'Deeptech' 'EV startup' 'AR/VR startup'\n",
      " 'Recruitment startup' 'QSR startup' 'Video platform' 'Edtech'\n",
      " 'Fertility tech' 'Luxury car startup' 'FM' 'Food' 'Nutrition sector'\n",
      " 'Tech platform' 'Video' 'Retail Tech' 'HeathTech' 'Sles and marketing'\n",
      " 'LegalTech' 'Car Service' 'Bike marketplace' 'Agri tech' 'Reatil startup'\n",
      " 'AR platform' 'Consumer Goods' 'Content marketplace' 'Interior Design'\n",
      " 'Rental space' 'Soil-Tech' 'Ayurveda tech' 'Packaging solution startup'\n",
      " 'Cleantech' 'Sanitation solutions' 'HealthCare' 'Home Design'\n",
      " 'InsureTech' 'AI Startup' 'Solar solution' 'Jewellery startup'\n",
      " 'Multinational conglomerate company' 'Deeptech startup' 'Social Network'\n",
      " 'Publication' 'Tech' 'Fashion' 'Finance' 'Venture capital'\n",
      " 'Entreprenurship' 'Food devlivery' 'Warehouse' 'Online financial service'\n",
      " 'Eyeglasses' 'Battery design' 'Online credit management startup'\n",
      " 'Beverage' 'TravelTech' 'Agriculture' 'Startup laboratory'\n",
      " 'Personal care startup' 'Customer service company' 'SaaS\\xa0\\xa0startup'\n",
      " 'Marketing startup' 'Service industry' 'Social media' 'AI' 'Jewellery'\n",
      " 'AR startup' 'HR Tech startup' 'Automotive Startup' 'Food Startup'\n",
      " 'EdTech Startup' 'Car Trade' 'EdtTech' 'Manufacturing' 'AI Platform'\n",
      " 'Automation' 'Solar SaaS' 'WL & RAC protection' 'Social commerce'\n",
      " 'Home interior services' 'Agritech startup' 'API platform' 'Deep Tech'\n",
      " 'Electricity' 'Automotive company' 'FMCG' 'Insurance Tech'\n",
      " 'Video personalization' 'Software Company' 'Biomaterial startup' 'Health'\n",
      " 'IT' 'Craft Beer' 'Healthtech' 'Education' 'Investment'\n",
      " 'Linguistic Spiritual' 'Construction' 'Battery manufacturer'\n",
      " 'Nano Distribution Network' 'AI health' 'Dating app' 'Media' 'Fintech'\n",
      " 'Healthcare/Edtech' 'Social Commerce' 'Agritech/Commerce' 'Mobility tech'\n",
      " 'Social e-commerce' 'Food & Logistics' 'SpaceTech' 'Nutrition Tech' 'HR'\n",
      " 'IoT' 'Unknown' 'Agritech' 'Interior design' 'Foodtech' 'AR/VR'\n",
      " 'Appliance' 'HR tech' 'Food tech' 'Mental Health' 'Ecommerce'\n",
      " 'Solar Solution' 'SaaS' 'Automobile' 'B2B marketplace' 'Fashion Tech'\n",
      " 'Nutrition tech' 'Health & Wellness' 'Cloud Kitchen' 'IoT/Automobile'\n",
      " 'Eye Wear' 'Digital tech' 'Data Intelligence' 'Co-living'\n",
      " 'Food & Beverages' 'Automotive' 'B2B' 'Defense tech' 'Marketplace'\n",
      " 'Construction tech' 'Nutrition' 'Coworking' 'Micro-mobiity' 'Auto-tech'\n",
      " 'Beauty' 'Robotics' 'Yoga & wellness' 'Logitech' 'Med Tech'\n",
      " 'Life sciences' 'Retail Aggregator' 'Deep Tech AI' 'Biotech' 'Blockchain'\n",
      " 'HrTech' 'Mobility/Transport' 'Travel' 'Rental' 'AI & Debt' 'SaaS/Edtech'\n",
      " 'Transport' 'Co-working' 'Insurtech' 'Cryptocurrency' 'Automotive tech'\n",
      " 'Legal' 'Fitness' 'EV' 'Supply chain, Agritech' 'Pharma'\n",
      " 'Insurance technology' 'Foodtech & Logistics' 'Housing' 'Pharmaceutical'\n",
      " 'Data Analytics' 'Investment Tech' 'Financial Services' 'Biopharma'\n",
      " 'Dairy' 'Beauty & wellness' 'Travel & SaaS' 'Tourism & EV' 'Media Tech'\n",
      " 'Location Analytics' 'E store' 'Data Science' 'Insurance'\n",
      " 'Health and Fitness' 'Technology' 'Interior & decor' 'eMobility'\n",
      " 'Automation tech' 'Media & Networking' 'E-market' 'AI & Data science'\n",
      " 'Travel tech' 'Automotive and Rentals' 'E-tail' 'Accomodation'\n",
      " 'AI & Media' 'Machine Learning' 'Content Marktplace' 'Visual Media'\n",
      " 'Hygiene' 'VR & SaaS' 'Sales & Services' 'AI & Deep learning'\n",
      " 'Housing & Rentals' 'Estore' 'Marketing' 'E tailor' 'E-mobility'\n",
      " 'Ad-tech' 'Neo-banking' 'Transport Automation' 'Techonology'\n",
      " 'Transport & Rentals' 'AI Robotics' 'Preschool Daycare' 'Food diet'\n",
      " 'B2B Agritech' 'E-connect' 'Tech hub' 'Consultancy' 'Pharmacy'\n",
      " 'Deisgning' 'Taxation' 'Automobile Technology']\n"
     ]
    }
   ],
   "source": [
    "print(data_2020['Sector'].unique())"
   ]
  },
  {
   "cell_type": "code",
   "execution_count": 23,
   "metadata": {},
   "outputs": [
    {
     "data": {
      "text/plain": [
       "0"
      ]
     },
     "execution_count": 23,
     "metadata": {},
     "output_type": "execute_result"
    }
   ],
   "source": [
    "# Identify rows with missing What_it_does values\n",
    "data_2020['What it does'].isnull().sum()"
   ]
  },
  {
   "cell_type": "code",
   "execution_count": 24,
   "metadata": {},
   "outputs": [
    {
     "data": {
      "text/plain": [
       "12"
      ]
     },
     "execution_count": 24,
     "metadata": {},
     "output_type": "execute_result"
    }
   ],
   "source": [
    "# Identify rows with missing Founders values\n",
    "data_2020['Founders'].isnull().sum() "
   ]
  },
  {
   "cell_type": "markdown",
   "metadata": {},
   "source": [
    "### filling null values in founders colmun with Unknown"
   ]
  },
  {
   "cell_type": "code",
   "execution_count": 25,
   "metadata": {},
   "outputs": [],
   "source": [
    "# fill Founders Colmun Unknown\n",
    "data_2020['Founders'].fillna('Unknown',inplace=True)\n"
   ]
  },
  {
   "cell_type": "code",
   "execution_count": 26,
   "metadata": {},
   "outputs": [
    {
     "data": {
      "text/plain": [
       "0"
      ]
     },
     "execution_count": 26,
     "metadata": {},
     "output_type": "execute_result"
    }
   ],
   "source": [
    "# Identify rows with missing Founders values\n",
    "data_2020['Founders'].isnull().sum() "
   ]
  },
  {
   "cell_type": "code",
   "execution_count": 27,
   "metadata": {},
   "outputs": [
    {
     "data": {
      "text/plain": [
       "38"
      ]
     },
     "execution_count": 27,
     "metadata": {},
     "output_type": "execute_result"
    }
   ],
   "source": [
    "# Identify rows with missing Investor values\n",
    "data_2020['Investor'].isnull().sum() \n"
   ]
  },
  {
   "cell_type": "markdown",
   "metadata": {},
   "source": [
    "### filling null values in Investor colmun with Unknown"
   ]
  },
  {
   "cell_type": "code",
   "execution_count": 28,
   "metadata": {},
   "outputs": [],
   "source": [
    "# fill Investor Colmun Unknown\n",
    "data_2020['Investor'].fillna('Unknown', inplace=True)"
   ]
  },
  {
   "cell_type": "code",
   "execution_count": 29,
   "metadata": {},
   "outputs": [
    {
     "data": {
      "text/plain": [
       "0"
      ]
     },
     "execution_count": 29,
     "metadata": {},
     "output_type": "execute_result"
    }
   ],
   "source": [
    "# Identify rows with missing Investor values\n",
    "data_2020['Investor'].isnull().sum() "
   ]
  },
  {
   "cell_type": "markdown",
   "metadata": {},
   "source": [
    "## investigating the table after cleanup"
   ]
  },
  {
   "cell_type": "code",
   "execution_count": 30,
   "metadata": {},
   "outputs": [
    {
     "data": {
      "text/html": [
       "<div>\n",
       "<style scoped>\n",
       "    .dataframe tbody tr th:only-of-type {\n",
       "        vertical-align: middle;\n",
       "    }\n",
       "\n",
       "    .dataframe tbody tr th {\n",
       "        vertical-align: top;\n",
       "    }\n",
       "\n",
       "    .dataframe thead th {\n",
       "        text-align: right;\n",
       "    }\n",
       "</style>\n",
       "<table border=\"1\" class=\"dataframe\">\n",
       "  <thead>\n",
       "    <tr style=\"text-align: right;\">\n",
       "      <th></th>\n",
       "      <th>Company Brand</th>\n",
       "      <th>Founded</th>\n",
       "      <th>HeadQuarter</th>\n",
       "      <th>Sector</th>\n",
       "      <th>What it does</th>\n",
       "      <th>Founders</th>\n",
       "      <th>Investor</th>\n",
       "      <th>Amount</th>\n",
       "      <th>Stage</th>\n",
       "      <th>column10</th>\n",
       "    </tr>\n",
       "  </thead>\n",
       "  <tbody>\n",
       "    <tr>\n",
       "      <th>0</th>\n",
       "      <td>Aqgromalin</td>\n",
       "      <td>2019</td>\n",
       "      <td>Chennai</td>\n",
       "      <td>AgriTech</td>\n",
       "      <td>Cultivating Ideas for Profit</td>\n",
       "      <td>Prasanna Manogaran, Bharani C L</td>\n",
       "      <td>Angel investors</td>\n",
       "      <td>200000.0</td>\n",
       "      <td>None</td>\n",
       "      <td>None</td>\n",
       "    </tr>\n",
       "    <tr>\n",
       "      <th>1</th>\n",
       "      <td>Krayonnz</td>\n",
       "      <td>2019</td>\n",
       "      <td>Bangalore</td>\n",
       "      <td>EdTech</td>\n",
       "      <td>An academy-guardian-scholar centric ecosystem ...</td>\n",
       "      <td>Saurabh Dixit, Gurudutt Upadhyay</td>\n",
       "      <td>GSF Accelerator</td>\n",
       "      <td>100000.0</td>\n",
       "      <td>Pre-seed</td>\n",
       "      <td>None</td>\n",
       "    </tr>\n",
       "    <tr>\n",
       "      <th>2</th>\n",
       "      <td>PadCare Labs</td>\n",
       "      <td>2018</td>\n",
       "      <td>Pune</td>\n",
       "      <td>Hygiene management</td>\n",
       "      <td>Converting bio-hazardous waste to harmless waste</td>\n",
       "      <td>Ajinkya Dhariya</td>\n",
       "      <td>Venture Center</td>\n",
       "      <td>NaN</td>\n",
       "      <td>Pre-seed</td>\n",
       "      <td>None</td>\n",
       "    </tr>\n",
       "    <tr>\n",
       "      <th>3</th>\n",
       "      <td>NCOME</td>\n",
       "      <td>2020</td>\n",
       "      <td>New Delhi</td>\n",
       "      <td>Escrow</td>\n",
       "      <td>Escrow-as-a-service platform</td>\n",
       "      <td>Ritesh Tiwari</td>\n",
       "      <td>Venture Catalysts, PointOne Capital</td>\n",
       "      <td>400000.0</td>\n",
       "      <td>None</td>\n",
       "      <td>None</td>\n",
       "    </tr>\n",
       "    <tr>\n",
       "      <th>4</th>\n",
       "      <td>Gramophone</td>\n",
       "      <td>2016</td>\n",
       "      <td>Indore</td>\n",
       "      <td>AgriTech</td>\n",
       "      <td>Gramophone is an AgTech platform enabling acce...</td>\n",
       "      <td>Ashish Rajan Singh, Harshit Gupta, Nishant Mah...</td>\n",
       "      <td>Siana Capital Management, Info Edge</td>\n",
       "      <td>340000.0</td>\n",
       "      <td>None</td>\n",
       "      <td>None</td>\n",
       "    </tr>\n",
       "  </tbody>\n",
       "</table>\n",
       "</div>"
      ],
      "text/plain": [
       "  Company Brand  Founded HeadQuarter              Sector  \\\n",
       "0    Aqgromalin     2019     Chennai            AgriTech   \n",
       "1      Krayonnz     2019   Bangalore              EdTech   \n",
       "2  PadCare Labs     2018        Pune  Hygiene management   \n",
       "3         NCOME     2020   New Delhi              Escrow   \n",
       "4    Gramophone     2016      Indore            AgriTech   \n",
       "\n",
       "                                        What it does  \\\n",
       "0                       Cultivating Ideas for Profit   \n",
       "1  An academy-guardian-scholar centric ecosystem ...   \n",
       "2   Converting bio-hazardous waste to harmless waste   \n",
       "3                       Escrow-as-a-service platform   \n",
       "4  Gramophone is an AgTech platform enabling acce...   \n",
       "\n",
       "                                            Founders  \\\n",
       "0                    Prasanna Manogaran, Bharani C L   \n",
       "1                   Saurabh Dixit, Gurudutt Upadhyay   \n",
       "2                                    Ajinkya Dhariya   \n",
       "3                                      Ritesh Tiwari   \n",
       "4  Ashish Rajan Singh, Harshit Gupta, Nishant Mah...   \n",
       "\n",
       "                              Investor    Amount     Stage column10  \n",
       "0                      Angel investors  200000.0      None     None  \n",
       "1                      GSF Accelerator  100000.0  Pre-seed     None  \n",
       "2                       Venture Center       NaN  Pre-seed     None  \n",
       "3  Venture Catalysts, PointOne Capital  400000.0      None     None  \n",
       "4  Siana Capital Management, Info Edge  340000.0      None     None  "
      ]
     },
     "execution_count": 30,
     "metadata": {},
     "output_type": "execute_result"
    }
   ],
   "source": [
    "data_2020.head()"
   ]
  },
  {
   "cell_type": "markdown",
   "metadata": {},
   "source": [
    "## Droping unused colmun10"
   ]
  },
  {
   "cell_type": "code",
   "execution_count": 31,
   "metadata": {},
   "outputs": [],
   "source": [
    "# removing unused column10\n",
    "data_2020 = data_2020.drop(columns=[\"column10\"])\n"
   ]
  },
  {
   "cell_type": "code",
   "execution_count": 32,
   "metadata": {},
   "outputs": [
    {
     "data": {
      "text/plain": [
       "253"
      ]
     },
     "execution_count": 32,
     "metadata": {},
     "output_type": "execute_result"
    }
   ],
   "source": [
    "# Identify rows with missing Amount values\n",
    "data_2020['Amount'].isnull().sum() "
   ]
  },
  {
   "cell_type": "markdown",
   "metadata": {},
   "source": [
    "### filling missing  values with Unknown"
   ]
  },
  {
   "cell_type": "code",
   "execution_count": 33,
   "metadata": {},
   "outputs": [],
   "source": [
    "# fill all missing values with unknown\n",
    "data_2020 = data_2020.fillna('Unknown')"
   ]
  },
  {
   "cell_type": "code",
   "execution_count": 34,
   "metadata": {},
   "outputs": [
    {
     "data": {
      "text/plain": [
       "0"
      ]
     },
     "execution_count": 34,
     "metadata": {},
     "output_type": "execute_result"
    }
   ],
   "source": [
    "# Identify rows with missing Amount values\n",
    "data_2020['Amount'].isnull().sum() "
   ]
  },
  {
   "cell_type": "markdown",
   "metadata": {},
   "source": [
    "### identifying Unique values in Amount colmun"
   ]
  },
  {
   "cell_type": "code",
   "execution_count": 35,
   "metadata": {},
   "outputs": [
    {
     "name": "stdout",
     "output_type": "stream",
     "text": [
      "[200000.0 100000.0 'Unknown' 400000.0 340000.0 600000.0 45000000.0\n",
      " 1000000.0 2000000.0 1200000.0 660000000.0 120000.0 7500000.0 5000000.0\n",
      " 500000.0 3000000.0 10000000.0 145000000.0 100000000.0 21000000.0\n",
      " 4000000.0 20000000.0 560000.0 275000.0 4500000.0 15000000.0 390000000.0\n",
      " 7000000.0 5100000.0 700000000.0 2300000.0 700000.0 19000000.0 9000000.0\n",
      " 40000000.0 750000.0 1500000.0 7800000.0 50000000.0 80000000.0 30000000.0\n",
      " 1700000.0 2500000.0 40000.0 33000000.0 35000000.0 300000.0 25000000.0\n",
      " 3500000.0 200000000.0 6000000.0 1300000.0 4100000.0 575000.0 800000.0\n",
      " 28000000.0 18000000.0 3200000.0 900000.0 250000.0 4700000.0 75000000.0\n",
      " 8000000.0 121000000.0 55000000.0 3300000.0 11000000.0 16000000.0\n",
      " 5400000.0 150000000.0 4200000.0 22000000.0 52000000.0 1100000.0\n",
      " 118000000.0 1600000.0 18500000.0 70000000000.0 800000000.0 400000000.0\n",
      " 150000.0 176000000.0 60000000.0 470000.0 240000.0 3000000000.0 74000000.0\n",
      " 62000000.0 2100000.0 500000000.0 12500000.0 2200000000.0 5060000.0\n",
      " 225000000.0 24700000.0 7700000.0 19067328.0 51000000.0 115000.0 54000.0\n",
      " 20000.0 803146.0 238000.0 10220000.0 1020000.0 12000000.0 13400000.0\n",
      " 170000000.0 2900000.0 543000.0 90000000.0 3400000.0 23000000.0 8090000.0\n",
      " 1030000.0 5040000.0 360000.0 1400000.0 650000.0 54000000.0 42500000.0\n",
      " 11370000.0 325000.0 410000.0 450000.0 682000.0 4050000.0 1050000.0\n",
      " 1080000.0 4300000.0 6800000.0 2110000.0 764000.0 603000.0 409000.0\n",
      " 292000.0 286000.0 136000.0 546000.0 887000.0 43000.0 40900.0 2200000.0\n",
      " 5660000.0 350000.0 110000.0 122000000.0 11635000.0 2800000.0 1065000.0\n",
      " 669000.0 16076000.0 649600.0 6700000.0 220000.0 266500.0 2879000.0\n",
      " 26500000.0 351000.0 46761000.0 175000.0 11241000.0 804000.0 1340000.0\n",
      " 467000.0 133000.0 3823000.0 934000.0 293000.0 198000.0 927000.0 971000.0\n",
      " 3060000.0 1862000.0 232000.0 2888000.0 1328000.0 15500000.0 56000000.0\n",
      " 2250000.0 16753000.0 3700000.0 1470000.0 530000.0 267000.0 3344000.0\n",
      " 7200000.0 2743000.0 6082000.0 6609000.0 27700000.0 5940000.0 3964000.0\n",
      " 5500000.0 197000.0 4327000.0 459000.0 3937000.0 1313500.0 229800.0\n",
      " 5305000.0 264000.0 1750000.0 5967000.0 2980000.0 323000.0 1326000.0\n",
      " 27000000.0 5200000.0 2530000.0 792000.0 11363000.0 1715000.0 329000.0\n",
      " 5271000.0 8700000.0 3226000.0 5900000.0 44000000.0 3879000.0 13000000.0\n",
      " 8800000.0 9500000.0 920000.0 35600000.0 9400000.0 790000.0 480000.0\n",
      " 160000.0 8200000.0 4257000.0 1410000.0 349800.0 786000.0 2004000.0\n",
      " 123000000.0 248000.0 24000000.0 14259000.0 24500000.0 3800000.0\n",
      " 18370000.0 68525000.0 4800000.0 1834000.0 23850000.0 43000000.0\n",
      " 21600000.0 4598000.0 13137000.0 115000000.0 3900000.0 670000.0 8500000.0\n",
      " 3148000.0 2600000.0 4049500.0 10500000.0 6500000.0 43700000.0 13800000.0\n",
      " 306900.0 420000.0 627300.0 113000000.0 32000000.0 110000000.0 1397000.0\n",
      " 448500.0 7975700.0 330000.0 5600000.0 1402000.0 21500000.0 296000000.0\n",
      " 4900000.0 1402400.0 12618300.0 9900000.0 982530.0 70185200.0 210000000.0\n",
      " 84000000.0 39000000.0 2700000.0 1403400.0 105000000.0 103000000.0\n",
      " 281300.0 12700.0 25000.0 97500000.0 507000.0 8400000.0 18300000.0\n",
      " 125000000.0 181000.0 280000.0 14700000.0 13200000.0 8043000.0]\n"
     ]
    }
   ],
   "source": [
    "print(data_2020['Amount'].unique())"
   ]
  },
  {
   "cell_type": "markdown",
   "metadata": {},
   "source": [
    "### removing rows with the 'Unknown' value in specific columns ('HeadQuarter', 'Stage', 'Amount', and 'Sector')."
   ]
  },
  {
   "cell_type": "code",
   "execution_count": 36,
   "metadata": {},
   "outputs": [],
   "source": [
    "# Drop Unknown in HeadQuarter and Stage\n",
    "value_to_drop = 'Unknown'\n",
    "data_2020 = data_2020[data_2020['HeadQuarter'] != value_to_drop]\n",
    "\n",
    "value_to_drop = 'Unknown'\n",
    "data_2020 = data_2020[data_2020['Stage'] != value_to_drop]\n",
    "\n",
    "# Drop Unknown in Amount($) and Sector\n",
    "value_to_drop = 'Unknown'\n",
    "data_2020 = data_2020[data_2020['Sector'] != value_to_drop]\n",
    "\n",
    "value_to_drop = 'Unknown'\n",
    "data_2020 = data_2020[data_2020['Amount'] != value_to_drop]"
   ]
  },
  {
   "cell_type": "code",
   "execution_count": 37,
   "metadata": {},
   "outputs": [
    {
     "data": {
      "text/plain": [
       "0"
      ]
     },
     "execution_count": 37,
     "metadata": {},
     "output_type": "execute_result"
    }
   ],
   "source": [
    "# Identify rows with missing Amount values\n",
    "data_2020['Stage'].isnull().sum() "
   ]
  },
  {
   "cell_type": "markdown",
   "metadata": {},
   "source": [
    "### identifying Unique values in Stage colmun"
   ]
  },
  {
   "cell_type": "code",
   "execution_count": 38,
   "metadata": {},
   "outputs": [
    {
     "name": "stdout",
     "output_type": "stream",
     "text": [
      "['Pre-seed' 'Seed' 'Pre-series A' 'Series C' 'Series A' 'Series B' 'Debt'\n",
      " 'Pre-series C' 'Series E' 'Series D' 'Bridge' 'Series B2' 'Pre-series B'\n",
      " 'Series F' 'Pre- series A' 'Edge' 'Series H' 'Pre-Series B' 'Seed A'\n",
      " 'Series A-1' 'Seed round' 'Seed Round & Series A' 'Pre Series A'\n",
      " 'Pre series A1' 'Series E2' 'Pre series A' 'Seed Round' 'Pre series B'\n",
      " 'Pre series C' 'Angel Round' 'Series D1' 'Mid series' 'Seed funding'\n",
      " 'Seed Funding']\n"
     ]
    }
   ],
   "source": [
    "print(data_2020['Stage'].unique())"
   ]
  },
  {
   "cell_type": "markdown",
   "metadata": {},
   "source": [
    "### reassigns or consolidates different stage labels into a more uniform set of stage names within the 'Stage' column."
   ]
  },
  {
   "cell_type": "code",
   "execution_count": 39,
   "metadata": {},
   "outputs": [],
   "source": [
    "replacement3 = { \n",
    "    'Bridge':'Bridge Round',\n",
    "    'Edge': 'Series B',\n",
    "    'Mid series':'Series B',\n",
    "    'Pre seed Round':'Pre-series A',\n",
    "    'Pre Series A':'Pre-series A',\n",
    "    'Pre- series A':'Pre-series A',\n",
    "    'Pre series A1':'Pre-series A',\n",
    "    'Pre series B':'Pre-series A',\n",
    "    'Pre series C':'Pre-series A',\n",
    "    'Pre-seed':'Pre-series A',\n",
    "    'Pre-seed Round':'Pre-series A',\n",
    "    'Pre-series':'Pre-series A',\n",
    "    'Pre-series B':'Pre-series A',\n",
    "    'Pre-series C':'Pre-series A',\n",
    "    'Seed':'Pre-series A',\n",
    "    'Seed A':'Series A',\n",
    "    'Seed Funding':'Pre-series A',\n",
    "    'Seed Investment':'Pre-series A',\n",
    "    'Seed round':'Pre-series A',\n",
    "    'Seed Round & Series A':'Series A',\n",
    "    'Series A-1':'Series A',\n",
    "    'Series B':'Series B',\n",
    "    'Series B2':'Series B',\n",
    "    'Series C, D':'Series C',\n",
    "    'Series D1':'Series D',\n",
    "    'Series E2':'Series E',\n",
    "    'Seed funding':'Pre-series A',\n",
    "    'Pre seed round':'Pre-series A',\n",
    "    'Seed Round':'Pre-series A',\n",
    "    'Pre series A':'Pre-series A',\n",
    "    'Pre-Seed':'Pre-series A',\n",
    "    'Pre-Series B':'Pre-series A',\n",
    "}\n",
    "\n",
    "data_2020['Stage'] = data_2020['Stage'].replace(replacement3)"
   ]
  },
  {
   "cell_type": "code",
   "execution_count": 40,
   "metadata": {},
   "outputs": [
    {
     "data": {
      "text/plain": [
       "0"
      ]
     },
     "execution_count": 40,
     "metadata": {},
     "output_type": "execute_result"
    }
   ],
   "source": [
    "# Identify rows with missing Amount values\n",
    "data_2020['Stage'].isnull().sum() "
   ]
  },
  {
   "cell_type": "code",
   "execution_count": 41,
   "metadata": {},
   "outputs": [],
   "source": [
    "# Change dtype to float\n",
    "data_2020['Amount'] = data_2020['Amount'].astype(float) "
   ]
  },
  {
   "cell_type": "markdown",
   "metadata": {},
   "source": [
    "### adding new colmun year for 2020 for analysis"
   ]
  },
  {
   "cell_type": "code",
   "execution_count": 42,
   "metadata": {},
   "outputs": [],
   "source": [
    "data_2020['Year'] = 2020"
   ]
  },
  {
   "cell_type": "code",
   "execution_count": 43,
   "metadata": {},
   "outputs": [
    {
     "data": {
      "text/html": [
       "<div>\n",
       "<style scoped>\n",
       "    .dataframe tbody tr th:only-of-type {\n",
       "        vertical-align: middle;\n",
       "    }\n",
       "\n",
       "    .dataframe tbody tr th {\n",
       "        vertical-align: top;\n",
       "    }\n",
       "\n",
       "    .dataframe thead th {\n",
       "        text-align: right;\n",
       "    }\n",
       "</style>\n",
       "<table border=\"1\" class=\"dataframe\">\n",
       "  <thead>\n",
       "    <tr style=\"text-align: right;\">\n",
       "      <th></th>\n",
       "      <th>Company Brand</th>\n",
       "      <th>Founded</th>\n",
       "      <th>HeadQuarter</th>\n",
       "      <th>Sector</th>\n",
       "      <th>What it does</th>\n",
       "      <th>Founders</th>\n",
       "      <th>Investor</th>\n",
       "      <th>Amount</th>\n",
       "      <th>Stage</th>\n",
       "      <th>Year</th>\n",
       "    </tr>\n",
       "  </thead>\n",
       "  <tbody>\n",
       "    <tr>\n",
       "      <th>1</th>\n",
       "      <td>Krayonnz</td>\n",
       "      <td>2019</td>\n",
       "      <td>Bangalore</td>\n",
       "      <td>EdTech</td>\n",
       "      <td>An academy-guardian-scholar centric ecosystem ...</td>\n",
       "      <td>Saurabh Dixit, Gurudutt Upadhyay</td>\n",
       "      <td>GSF Accelerator</td>\n",
       "      <td>100000.0</td>\n",
       "      <td>Pre-series A</td>\n",
       "      <td>2020</td>\n",
       "    </tr>\n",
       "    <tr>\n",
       "      <th>5</th>\n",
       "      <td>qZense</td>\n",
       "      <td>2019</td>\n",
       "      <td>Bangalore</td>\n",
       "      <td>AgriTech</td>\n",
       "      <td>qZense Labs is building the next-generation Io...</td>\n",
       "      <td>Rubal Chib, Dr Srishti Batra</td>\n",
       "      <td>Venture Catalysts, 9Unicorns Accelerator Fund</td>\n",
       "      <td>600000.0</td>\n",
       "      <td>Pre-series A</td>\n",
       "      <td>2020</td>\n",
       "    </tr>\n",
       "    <tr>\n",
       "      <th>6</th>\n",
       "      <td>MyClassboard</td>\n",
       "      <td>2008</td>\n",
       "      <td>Hyderabad</td>\n",
       "      <td>EdTech</td>\n",
       "      <td>MyClassboard is a full-fledged School / Colleg...</td>\n",
       "      <td>Ajay Sakhamuri</td>\n",
       "      <td>ICICI Bank.</td>\n",
       "      <td>600000.0</td>\n",
       "      <td>Pre-series A</td>\n",
       "      <td>2020</td>\n",
       "    </tr>\n",
       "    <tr>\n",
       "      <th>8</th>\n",
       "      <td>Rupeek</td>\n",
       "      <td>2015</td>\n",
       "      <td>Bangalore</td>\n",
       "      <td>FinTech</td>\n",
       "      <td>Rupeek is an online lending platform that spec...</td>\n",
       "      <td>Amar Prabhu, Ashwin Soni, Sumit Maniyar</td>\n",
       "      <td>KB Investment, Bertelsmann India Investments</td>\n",
       "      <td>45000000.0</td>\n",
       "      <td>Series C</td>\n",
       "      <td>2020</td>\n",
       "    </tr>\n",
       "    <tr>\n",
       "      <th>9</th>\n",
       "      <td>Gig India</td>\n",
       "      <td>2017</td>\n",
       "      <td>Pune</td>\n",
       "      <td>Crowdsourcing</td>\n",
       "      <td>GigIndia is a marketplace that provides on-dem...</td>\n",
       "      <td>Aditya Shirole, Sahil Sharma</td>\n",
       "      <td>Shantanu Deshpande, Subramaniam Ramadorai</td>\n",
       "      <td>1000000.0</td>\n",
       "      <td>Pre-series A</td>\n",
       "      <td>2020</td>\n",
       "    </tr>\n",
       "    <tr>\n",
       "      <th>...</th>\n",
       "      <td>...</td>\n",
       "      <td>...</td>\n",
       "      <td>...</td>\n",
       "      <td>...</td>\n",
       "      <td>...</td>\n",
       "      <td>...</td>\n",
       "      <td>...</td>\n",
       "      <td>...</td>\n",
       "      <td>...</td>\n",
       "      <td>...</td>\n",
       "    </tr>\n",
       "    <tr>\n",
       "      <th>1042</th>\n",
       "      <td>Super Surfaces</td>\n",
       "      <td>2016</td>\n",
       "      <td>Hyderabad</td>\n",
       "      <td>Deisgning</td>\n",
       "      <td>A design solution based company</td>\n",
       "      <td>Kumar Varma</td>\n",
       "      <td>Vishnu Reddy</td>\n",
       "      <td>500000.0</td>\n",
       "      <td>Series A</td>\n",
       "      <td>2020</td>\n",
       "    </tr>\n",
       "    <tr>\n",
       "      <th>1048</th>\n",
       "      <td>GoMechanic</td>\n",
       "      <td>2016</td>\n",
       "      <td>Delhi</td>\n",
       "      <td>Automobile Technology</td>\n",
       "      <td>Find automobile repair and maintenance service...</td>\n",
       "      <td>Amit Bhasin, Kushal Karwa, Nitin Rana, Rishabh...</td>\n",
       "      <td>Chiratae Ventures, Sequoia Capital, Orios Vent...</td>\n",
       "      <td>14700000.0</td>\n",
       "      <td>Series B</td>\n",
       "      <td>2020</td>\n",
       "    </tr>\n",
       "    <tr>\n",
       "      <th>1049</th>\n",
       "      <td>Fashor</td>\n",
       "      <td>2017</td>\n",
       "      <td>Chennai</td>\n",
       "      <td>Fashion</td>\n",
       "      <td>Women’s fashion and apparel</td>\n",
       "      <td>Vikram Kankaria, Priyanka Kankaria</td>\n",
       "      <td>Sprout venture partners</td>\n",
       "      <td>1000000.0</td>\n",
       "      <td>Pre-series A</td>\n",
       "      <td>2020</td>\n",
       "    </tr>\n",
       "    <tr>\n",
       "      <th>1053</th>\n",
       "      <td>Shuttl</td>\n",
       "      <td>2015</td>\n",
       "      <td>Delhi</td>\n",
       "      <td>Transport</td>\n",
       "      <td>App based bus aggregator serice</td>\n",
       "      <td>Amit Singh, Deepanshu Malviya</td>\n",
       "      <td>SIG Global India Fund LLP.</td>\n",
       "      <td>8043000.0</td>\n",
       "      <td>Series C</td>\n",
       "      <td>2020</td>\n",
       "    </tr>\n",
       "    <tr>\n",
       "      <th>1054</th>\n",
       "      <td>Pando</td>\n",
       "      <td>2017</td>\n",
       "      <td>Chennai</td>\n",
       "      <td>Logitech</td>\n",
       "      <td>Networked logistics management software</td>\n",
       "      <td>Jayakrishnan, Abhijeet Manohar</td>\n",
       "      <td>Chiratae Ventures</td>\n",
       "      <td>9000000.0</td>\n",
       "      <td>Series A</td>\n",
       "      <td>2020</td>\n",
       "    </tr>\n",
       "  </tbody>\n",
       "</table>\n",
       "<p>430 rows × 10 columns</p>\n",
       "</div>"
      ],
      "text/plain": [
       "       Company Brand  Founded HeadQuarter                 Sector  \\\n",
       "1           Krayonnz     2019   Bangalore                 EdTech   \n",
       "5             qZense     2019   Bangalore               AgriTech   \n",
       "6       MyClassboard     2008   Hyderabad                 EdTech   \n",
       "8             Rupeek     2015   Bangalore                FinTech   \n",
       "9          Gig India     2017        Pune          Crowdsourcing   \n",
       "...              ...      ...         ...                    ...   \n",
       "1042  Super Surfaces     2016   Hyderabad              Deisgning   \n",
       "1048      GoMechanic     2016       Delhi  Automobile Technology   \n",
       "1049          Fashor     2017     Chennai                Fashion   \n",
       "1053          Shuttl     2015       Delhi              Transport   \n",
       "1054           Pando     2017     Chennai               Logitech   \n",
       "\n",
       "                                           What it does  \\\n",
       "1     An academy-guardian-scholar centric ecosystem ...   \n",
       "5     qZense Labs is building the next-generation Io...   \n",
       "6     MyClassboard is a full-fledged School / Colleg...   \n",
       "8     Rupeek is an online lending platform that spec...   \n",
       "9     GigIndia is a marketplace that provides on-dem...   \n",
       "...                                                 ...   \n",
       "1042                    A design solution based company   \n",
       "1048  Find automobile repair and maintenance service...   \n",
       "1049                        Women’s fashion and apparel   \n",
       "1053                    App based bus aggregator serice   \n",
       "1054            Networked logistics management software   \n",
       "\n",
       "                                               Founders  \\\n",
       "1                      Saurabh Dixit, Gurudutt Upadhyay   \n",
       "5                          Rubal Chib, Dr Srishti Batra   \n",
       "6                                        Ajay Sakhamuri   \n",
       "8               Amar Prabhu, Ashwin Soni, Sumit Maniyar   \n",
       "9                          Aditya Shirole, Sahil Sharma   \n",
       "...                                                 ...   \n",
       "1042                                        Kumar Varma   \n",
       "1048  Amit Bhasin, Kushal Karwa, Nitin Rana, Rishabh...   \n",
       "1049                 Vikram Kankaria, Priyanka Kankaria   \n",
       "1053                      Amit Singh, Deepanshu Malviya   \n",
       "1054                     Jayakrishnan, Abhijeet Manohar   \n",
       "\n",
       "                                               Investor      Amount  \\\n",
       "1                                       GSF Accelerator    100000.0   \n",
       "5         Venture Catalysts, 9Unicorns Accelerator Fund    600000.0   \n",
       "6                                           ICICI Bank.    600000.0   \n",
       "8          KB Investment, Bertelsmann India Investments  45000000.0   \n",
       "9             Shantanu Deshpande, Subramaniam Ramadorai   1000000.0   \n",
       "...                                                 ...         ...   \n",
       "1042                                       Vishnu Reddy    500000.0   \n",
       "1048  Chiratae Ventures, Sequoia Capital, Orios Vent...  14700000.0   \n",
       "1049                            Sprout venture partners   1000000.0   \n",
       "1053                         SIG Global India Fund LLP.   8043000.0   \n",
       "1054                                  Chiratae Ventures   9000000.0   \n",
       "\n",
       "             Stage  Year  \n",
       "1     Pre-series A  2020  \n",
       "5     Pre-series A  2020  \n",
       "6     Pre-series A  2020  \n",
       "8         Series C  2020  \n",
       "9     Pre-series A  2020  \n",
       "...            ...   ...  \n",
       "1042      Series A  2020  \n",
       "1048      Series B  2020  \n",
       "1049  Pre-series A  2020  \n",
       "1053      Series C  2020  \n",
       "1054      Series A  2020  \n",
       "\n",
       "[430 rows x 10 columns]"
      ]
     },
     "execution_count": 43,
     "metadata": {},
     "output_type": "execute_result"
    }
   ],
   "source": [
    "data_2020"
   ]
  },
  {
   "cell_type": "markdown",
   "metadata": {},
   "source": [
    "## Dataset of startup_funding 2021"
   ]
  },
  {
   "cell_type": "code",
   "execution_count": 44,
   "metadata": {},
   "outputs": [
    {
     "data": {
      "text/html": [
       "<div>\n",
       "<style scoped>\n",
       "    .dataframe tbody tr th:only-of-type {\n",
       "        vertical-align: middle;\n",
       "    }\n",
       "\n",
       "    .dataframe tbody tr th {\n",
       "        vertical-align: top;\n",
       "    }\n",
       "\n",
       "    .dataframe thead th {\n",
       "        text-align: right;\n",
       "    }\n",
       "</style>\n",
       "<table border=\"1\" class=\"dataframe\">\n",
       "  <thead>\n",
       "    <tr style=\"text-align: right;\">\n",
       "      <th></th>\n",
       "      <th>Company_Brand</th>\n",
       "      <th>Founded</th>\n",
       "      <th>HeadQuarter</th>\n",
       "      <th>Sector</th>\n",
       "      <th>What_it_does</th>\n",
       "      <th>Founders</th>\n",
       "      <th>Investor</th>\n",
       "      <th>Amount</th>\n",
       "      <th>Stage</th>\n",
       "    </tr>\n",
       "  </thead>\n",
       "  <tbody>\n",
       "    <tr>\n",
       "      <th>0</th>\n",
       "      <td>Unbox Robotics</td>\n",
       "      <td>2019.0</td>\n",
       "      <td>Bangalore</td>\n",
       "      <td>AI startup</td>\n",
       "      <td>Unbox Robotics builds on-demand AI-driven ware...</td>\n",
       "      <td>Pramod Ghadge, Shahid Memon</td>\n",
       "      <td>BEENEXT, Entrepreneur First</td>\n",
       "      <td>$1,200,000</td>\n",
       "      <td>Pre-series A</td>\n",
       "    </tr>\n",
       "    <tr>\n",
       "      <th>1</th>\n",
       "      <td>upGrad</td>\n",
       "      <td>2015.0</td>\n",
       "      <td>Mumbai</td>\n",
       "      <td>EdTech</td>\n",
       "      <td>UpGrad is an online higher education platform.</td>\n",
       "      <td>Mayank Kumar, Phalgun Kompalli, Ravijot Chugh,...</td>\n",
       "      <td>Unilazer Ventures, IIFL Asset Management</td>\n",
       "      <td>$120,000,000</td>\n",
       "      <td>None</td>\n",
       "    </tr>\n",
       "    <tr>\n",
       "      <th>2</th>\n",
       "      <td>Lead School</td>\n",
       "      <td>2012.0</td>\n",
       "      <td>Mumbai</td>\n",
       "      <td>EdTech</td>\n",
       "      <td>LEAD School offers technology based school tra...</td>\n",
       "      <td>Smita Deorah, Sumeet Mehta</td>\n",
       "      <td>GSV Ventures, Westbridge Capital</td>\n",
       "      <td>$30,000,000</td>\n",
       "      <td>Series D</td>\n",
       "    </tr>\n",
       "    <tr>\n",
       "      <th>3</th>\n",
       "      <td>Bizongo</td>\n",
       "      <td>2015.0</td>\n",
       "      <td>Mumbai</td>\n",
       "      <td>B2B E-commerce</td>\n",
       "      <td>Bizongo is a business-to-business online marke...</td>\n",
       "      <td>Aniket Deb, Ankit Tomar, Sachin Agrawal</td>\n",
       "      <td>CDC Group, IDG Capital</td>\n",
       "      <td>$51,000,000</td>\n",
       "      <td>Series C</td>\n",
       "    </tr>\n",
       "    <tr>\n",
       "      <th>4</th>\n",
       "      <td>FypMoney</td>\n",
       "      <td>2021.0</td>\n",
       "      <td>Gurugram</td>\n",
       "      <td>FinTech</td>\n",
       "      <td>FypMoney is Digital NEO Bank for Teenagers, em...</td>\n",
       "      <td>Kapil Banwari</td>\n",
       "      <td>Liberatha Kallat, Mukesh Yadav, Dinesh Nagpal</td>\n",
       "      <td>$2,000,000</td>\n",
       "      <td>Seed</td>\n",
       "    </tr>\n",
       "  </tbody>\n",
       "</table>\n",
       "</div>"
      ],
      "text/plain": [
       "    Company_Brand  Founded HeadQuarter          Sector  \\\n",
       "0  Unbox Robotics   2019.0   Bangalore      AI startup   \n",
       "1          upGrad   2015.0      Mumbai          EdTech   \n",
       "2     Lead School   2012.0      Mumbai          EdTech   \n",
       "3         Bizongo   2015.0      Mumbai  B2B E-commerce   \n",
       "4        FypMoney   2021.0    Gurugram         FinTech   \n",
       "\n",
       "                                        What_it_does  \\\n",
       "0  Unbox Robotics builds on-demand AI-driven ware...   \n",
       "1     UpGrad is an online higher education platform.   \n",
       "2  LEAD School offers technology based school tra...   \n",
       "3  Bizongo is a business-to-business online marke...   \n",
       "4  FypMoney is Digital NEO Bank for Teenagers, em...   \n",
       "\n",
       "                                            Founders  \\\n",
       "0                        Pramod Ghadge, Shahid Memon   \n",
       "1  Mayank Kumar, Phalgun Kompalli, Ravijot Chugh,...   \n",
       "2                         Smita Deorah, Sumeet Mehta   \n",
       "3            Aniket Deb, Ankit Tomar, Sachin Agrawal   \n",
       "4                                      Kapil Banwari   \n",
       "\n",
       "                                        Investor        Amount         Stage  \n",
       "0                    BEENEXT, Entrepreneur First    $1,200,000  Pre-series A  \n",
       "1       Unilazer Ventures, IIFL Asset Management  $120,000,000          None  \n",
       "2               GSV Ventures, Westbridge Capital   $30,000,000      Series D  \n",
       "3                         CDC Group, IDG Capital   $51,000,000      Series C  \n",
       "4  Liberatha Kallat, Mukesh Yadav, Dinesh Nagpal    $2,000,000          Seed  "
      ]
     },
     "execution_count": 44,
     "metadata": {},
     "output_type": "execute_result"
    }
   ],
   "source": [
    "# Now the sql query to get the data is what what you see below. \n",
    "# Note that you will not have permissions to insert delete or update this database table. \n",
    "\n",
    "# SQL query to fetch data from 'dbo.LP1_startup_funding2020' table\n",
    "query = \"Select * from dbo.LP1_startup_funding2021\"\n",
    " \n",
    "# Read data from the SQL query result\n",
    "data_2021 = pd.read_sql(query, connection)\n",
    "\n",
    "# Display the first few rows of the DataFrame\n",
    "data_2021.head()"
   ]
  },
  {
   "cell_type": "code",
   "execution_count": 45,
   "metadata": {},
   "outputs": [
    {
     "name": "stdout",
     "output_type": "stream",
     "text": [
      "<class 'pandas.core.frame.DataFrame'>\n",
      "RangeIndex: 1209 entries, 0 to 1208\n",
      "Data columns (total 9 columns):\n",
      " #   Column         Non-Null Count  Dtype  \n",
      "---  ------         --------------  -----  \n",
      " 0   Company_Brand  1209 non-null   object \n",
      " 1   Founded        1208 non-null   float64\n",
      " 2   HeadQuarter    1208 non-null   object \n",
      " 3   Sector         1209 non-null   object \n",
      " 4   What_it_does   1209 non-null   object \n",
      " 5   Founders       1205 non-null   object \n",
      " 6   Investor       1147 non-null   object \n",
      " 7   Amount         1206 non-null   object \n",
      " 8   Stage          781 non-null    object \n",
      "dtypes: float64(1), object(8)\n",
      "memory usage: 85.1+ KB\n"
     ]
    }
   ],
   "source": [
    "# Get summary information about the DataFrame\n",
    "data_2021.info()"
   ]
  },
  {
   "cell_type": "markdown",
   "metadata": {},
   "source": [
    "## Data Cleaning"
   ]
  },
  {
   "cell_type": "markdown",
   "metadata": {},
   "source": [
    "### Renaming column names"
   ]
  },
  {
   "cell_type": "markdown",
   "metadata": {},
   "source": [
    "### Renaming column names"
   ]
  },
  {
   "cell_type": "code",
   "execution_count": 46,
   "metadata": {},
   "outputs": [],
   "source": [
    "# Rename columns in data_2021 DataFrame\n",
    "data_2021.rename(columns={'Company_Brand': 'Company Brand', 'What_it_does': 'What it does'}, inplace=True)"
   ]
  },
  {
   "cell_type": "code",
   "execution_count": 47,
   "metadata": {},
   "outputs": [
    {
     "data": {
      "text/plain": [
       "19"
      ]
     },
     "execution_count": 47,
     "metadata": {},
     "output_type": "execute_result"
    }
   ],
   "source": [
    "data_2021.duplicated().sum()"
   ]
  },
  {
   "cell_type": "markdown",
   "metadata": {},
   "source": [
    "### Droping duplicates"
   ]
  },
  {
   "cell_type": "code",
   "execution_count": 48,
   "metadata": {},
   "outputs": [],
   "source": [
    "data_2021.drop_duplicates(inplace=True)"
   ]
  },
  {
   "cell_type": "code",
   "execution_count": 49,
   "metadata": {},
   "outputs": [
    {
     "data": {
      "text/plain": [
       "Company Brand      0\n",
       "Founded            1\n",
       "HeadQuarter        1\n",
       "Sector             0\n",
       "What it does       0\n",
       "Founders           4\n",
       "Investor          61\n",
       "Amount             3\n",
       "Stage            421\n",
       "dtype: int64"
      ]
     },
     "execution_count": 49,
     "metadata": {},
     "output_type": "execute_result"
    }
   ],
   "source": [
    "# check for missing values\n",
    "data_2021.isnull().sum()"
   ]
  },
  {
   "cell_type": "markdown",
   "metadata": {},
   "source": [
    "### Fill Founded column null values with median"
   ]
  },
  {
   "cell_type": "code",
   "execution_count": 50,
   "metadata": {},
   "outputs": [],
   "source": [
    "# This approach helps maintain the overall distribution of the data.\n",
    "median_founded_year = data_2021['Founded'].median()\n",
    "data_2021['Founded'].fillna(median_founded_year, inplace=True)"
   ]
  },
  {
   "cell_type": "code",
   "execution_count": 51,
   "metadata": {},
   "outputs": [],
   "source": [
    "# change Data Type for Founded to INT\n",
    "data_2021['Founded'] = data_2021['Founded'].astype(int)"
   ]
  },
  {
   "cell_type": "code",
   "execution_count": 52,
   "metadata": {},
   "outputs": [
    {
     "data": {
      "text/plain": [
       "Company Brand      0\n",
       "Founded            0\n",
       "HeadQuarter        1\n",
       "Sector             0\n",
       "What it does       0\n",
       "Founders           4\n",
       "Investor          61\n",
       "Amount             3\n",
       "Stage            421\n",
       "dtype: int64"
      ]
     },
     "execution_count": 52,
     "metadata": {},
     "output_type": "execute_result"
    }
   ],
   "source": [
    "# check for missing values\n",
    "data_2021.isnull().sum()"
   ]
  },
  {
   "cell_type": "markdown",
   "metadata": {},
   "source": [
    "### Fill missing value in HeadQuarter with Unknown"
   ]
  },
  {
   "cell_type": "code",
   "execution_count": 53,
   "metadata": {},
   "outputs": [],
   "source": [
    "# fill all missing values with unknown\n",
    "data_2021['HeadQuarter'].fillna('Unknown', inplace=True)"
   ]
  },
  {
   "cell_type": "markdown",
   "metadata": {},
   "source": [
    "### identifying Unique values in HeadQuarter colmun"
   ]
  },
  {
   "cell_type": "code",
   "execution_count": 54,
   "metadata": {},
   "outputs": [
    {
     "name": "stdout",
     "output_type": "stream",
     "text": [
      "['Bangalore' 'Mumbai' 'Gurugram' 'New Delhi' 'Hyderabad' 'Jaipur'\n",
      " 'Ahmadabad' 'Chennai' 'Unknown' 'Small Towns, Andhra Pradesh' 'Goa'\n",
      " 'Rajsamand' 'Ranchi' 'Faridabad, Haryana' 'Gujarat' 'Pune' 'Thane'\n",
      " 'Computer Games' 'Cochin' 'Noida' 'Chandigarh' 'Gurgaon' 'Vadodara'\n",
      " 'Food & Beverages' 'Pharmaceuticals\\t#REF!' 'Gurugram\\t#REF!' 'Kolkata'\n",
      " 'Ahmedabad' 'Mohali' 'Haryana' 'Indore' 'Powai' 'Ghaziabad' 'Nagpur'\n",
      " 'West Bengal' 'Patna' 'Samsitpur' 'Lucknow' 'Telangana' 'Silvassa'\n",
      " 'Thiruvananthapuram' 'Faridabad' 'Roorkee' 'Ambernath' 'Panchkula'\n",
      " 'Surat' 'Coimbatore' 'Andheri' 'Mangalore' 'Telugana' 'Bhubaneswar'\n",
      " 'Kottayam' 'Beijing' 'Panaji' 'Satara' 'Orissia' 'Jodhpur' 'New York'\n",
      " 'Santra' 'Mountain View, CA' 'Trivandrum' 'Jharkhand' 'Kanpur' 'Bhilwara'\n",
      " 'Guwahati' 'Online Media\\t#REF!' 'Kochi' 'London'\n",
      " 'Information Technology & Services' 'The Nilgiris' 'Gandhinagar']\n"
     ]
    }
   ],
   "source": [
    "print(data_2021['HeadQuarter'].unique())"
   ]
  },
  {
   "cell_type": "markdown",
   "metadata": {},
   "source": [
    "### identifying Unique values in Sector colmun"
   ]
  },
  {
   "cell_type": "code",
   "execution_count": 55,
   "metadata": {},
   "outputs": [
    {
     "name": "stdout",
     "output_type": "stream",
     "text": [
      "['AI startup' 'EdTech' 'B2B E-commerce' 'FinTech' 'Home services'\n",
      " 'HealthTech' 'Tech Startup' 'E-commerce' 'B2B service' 'Helathcare'\n",
      " 'Renewable Energy' 'Electronics' 'IT startup' 'Food & Beverages'\n",
      " 'Aeorspace' 'Deep Tech' 'Dating' 'Gaming' 'Robotics' 'Retail' 'Food'\n",
      " 'Oil and Energy' 'AgriTech' 'Telecommuncation' 'Milk startup'\n",
      " 'AI Chatbot' 'IT' 'Logistics' 'Hospitality' 'Fashion' 'Marketing'\n",
      " 'Transportation' 'LegalTech' 'Food delivery' 'Automotive' 'SaaS startup'\n",
      " 'Fantasy sports' 'Video communication' 'Social Media' 'Skill development'\n",
      " 'Rental' 'Recruitment' 'HealthCare' 'Sports' 'Computer Games'\n",
      " 'Consumer Goods' 'Information Technology' 'Apparel & Fashion'\n",
      " 'Logistics & Supply Chain' 'Healthtech' 'Healthcare' 'SportsTech'\n",
      " 'HRTech' 'Wine & Spirits' 'Mechanical & Industrial Engineering'\n",
      " 'Spiritual' 'Financial Services' 'Industrial Automation' 'Health'\n",
      " 'Lifestyle' 'IoT' 'Banking' 'Computer software' 'Tech startup'\n",
      " 'Digital mortgage' 'Information Technology & Services' 'Furniture'\n",
      " 'B2B marketplace' 'Healtcare' 'Location Analytics' 'Media'\n",
      " 'Consumer Electronics' 'Tobacco' 'Deeptech' 'Insuretech' 'MLOps platform'\n",
      " 'Venture Capital' 'Pet care' 'Drone' 'Wholesale' 'Construction'\n",
      " 'E-learning' 'Consumer Services' 'Venture Capital & Private Equity'\n",
      " 'Health, Wellness & Fitness' 'OTT' 'Education Management'\n",
      " 'Computer Software' 'Insurance' 'Software Startup'\n",
      " 'Computer & Network Security' 'Capital Markets' 'Social network'\n",
      " 'Hospital & Health Care' 'Music' 'Hauz Khas'\n",
      " 'Primary Business is Development and Manufacturing of Novel Healthcare Products in Effervescent forms using imported propriety ingredients.'\n",
      " \"MoEVing is India's only Electric Mobility focused Technology Platform with a vision to accelerate EV adoption in India.\"\n",
      " 'Cosmetics' 'Mobility' 'Social media' 'Real Estate' 'Digital platform'\n",
      " 'B2B Ecommerce' 'Online Media' 'Social commerce' 'Mobile Games'\n",
      " 'Food Production' 'Podcast' 'HeathTech' 'Battery' 'Content publishing'\n",
      " 'Water purification' 'Content commerce' 'Innovation Management'\n",
      " 'Software company' 'Automation' 'Food Industry' 'Celebrity Engagement'\n",
      " 'Trading platform' 'Personal Care' 'Cannabis startup' 'Blogging'\n",
      " 'Consulting' 'BioTechnology' 'B2B Marketplace' 'Health care'\n",
      " 'Social audio' 'Fashion and lifestyle' 'Delivery service'\n",
      " 'B2B Manufacturing' 'Home Decor' 'Solar' 'TaaS startup' 'EV startup'\n",
      " 'HR Tech' 'Blockchain startup' 'Food and Beverages' 'Beverages'\n",
      " 'Manufacturing startup' 'Cryptocurrency' 'Vehicle repair startup'\n",
      " 'Advisory firm' 'Legaltech' 'Pollution control equiptment'\n",
      " 'Fashion & Lifestyle' 'Blockchain' 'Fitness' 'D2C' 'Automobile'\n",
      " 'Environmental Services' 'Merchandise' 'Facilities Services'\n",
      " 'Marketing & Advertising' 'Human Resources' 'Eyewear' 'D2C Business'\n",
      " 'Biotechnology' 'Farming' 'NFT Marketplace' 'Internet' 'SpaceTech'\n",
      " 'Consumer software' 'Social community' 'Fishery'\n",
      " 'Renewables & Environment' 'Online storytelling' 'Aviation' 'IT company'\n",
      " 'Environmental service' 'Job discovery platform' 'D2C Fashion'\n",
      " 'Heathcare' 'CRM' 'Software' 'Nutrition' 'D2C startup'\n",
      " 'Innovation management' 'Community platform' 'Venture capitalist'\n",
      " 'Networking' 'Commercial Real Estate' 'AR startup' 'Consumer service'\n",
      " 'Consumer goods' 'MarTech' 'Advertisement' 'Content creation'\n",
      " 'Augmented reality' 'Rental space' 'Bike Rental' 'Beauty products'\n",
      " 'Tourism' 'FemTech' 'Cultural' 'Co-working' 'InsureTech'\n",
      " 'Supply chain platform' 'Social platform' 'CleanTech' 'Real estate'\n",
      " 'AI company' 'Sports startup' 'Matrimony' 'Crypto' 'Clothing' 'Analytics'\n",
      " 'Finance' 'IoT platform' 'Commerce' 'Defense & Space' 'Entertainment'\n",
      " 'Business Supplies & Equipment' 'NFT' 'Oil & Energy' 'EV'\n",
      " 'Company-as-a-Service' 'Textiles' 'Professional Training & Coaching'\n",
      " 'Maritime' 'Housing Marketplace' 'Furniture Rental' 'Telecommunications'\n",
      " 'Equity Management' 'Cloud kitchen' 'Nanotechnology' 'Community'\n",
      " 'Higher Education' 'B2B' 'Mechanical Or Industrial Engineering'\n",
      " 'D2C jewellery' 'Sales and Distribution' 'SaaS' 'Information Services'\n",
      " 'Translation & Localization' 'Investment Banking' 'Femtech' 'sports'\n",
      " 'Foootwear' 'Legal Services' 'Veterinary' 'Arts & Crafts'\n",
      " 'Investment Management' 'Education' 'Management Consulting' 'B2B startup'\n",
      " 'Sochcast is an Audio experiences company that give the listener and creators an Immersive Audio experience'\n",
      " 'Design' 'B2B Travel' 'Interior Design' 'Manchester, Greater Manchester'\n",
      " 'Product studio' 'Aviation & Aerospace' 'Staffing & Recruiting']\n"
     ]
    }
   ],
   "source": [
    "print(data_2021['Sector'].unique())"
   ]
  },
  {
   "cell_type": "markdown",
   "metadata": {},
   "source": [
    "### standardizing text and removing extra spaces in Sector Colmun"
   ]
  },
  {
   "cell_type": "code",
   "execution_count": 56,
   "metadata": {},
   "outputs": [
    {
     "name": "stdout",
     "output_type": "stream",
     "text": [
      "['AI startup' 'EdTech' 'B2B E-commerce' 'FinTech' 'Home services'\n",
      " 'HealthTech' 'Tech Startup' 'E-commerce' 'B2B service' 'Helathcare'\n",
      " 'Renewable Energy' 'Electronics' 'IT startup' 'Food & Beverages'\n",
      " 'Aeorspace' 'Deep Tech' 'Dating' 'Gaming' 'Robotics' 'Retail' 'Food'\n",
      " 'Oil and Energy' 'AgriTech' 'Telecommuncation' 'Milk startup'\n",
      " 'AI Chatbot' 'IT' 'Logistics' 'Hospitality' 'Fashion' 'Marketing'\n",
      " 'Transportation' 'LegalTech' 'Food delivery' 'Automotive' 'SaaS startup'\n",
      " 'Fantasy sports' 'Video communication' 'Social Media' 'Skill development'\n",
      " 'Rental' 'Recruitment' 'HealthCare' 'Sports' 'Computer Games'\n",
      " 'Consumer Goods' 'Apparel & Fashion' 'Logistics & Supply Chain'\n",
      " 'Healthcare' 'SportsTech' 'HR Tech' 'Wine & Spirits'\n",
      " 'Mechanical & Industrial Engineering' 'Spiritual' 'Financial Services'\n",
      " 'Industrial Automation' 'Health' 'Lifestyle' 'IoT' 'Banking'\n",
      " 'Computer software' 'Tech startup' 'Digital mortgage'\n",
      " 'Information Technology & Services' 'Furniture' 'B2B marketplace'\n",
      " 'Location Analytics' 'Media' 'Consumer Electronics' 'Tobacco' 'Deeptech'\n",
      " 'Insuretech' 'MLOps platform' 'Venture Capital' 'Pet care' 'Drone'\n",
      " 'Wholesale' 'Construction' 'E-learning' 'Consumer Services'\n",
      " 'Venture Capital & Private Equity' 'Health, Wellness & Fitness' 'OTT'\n",
      " 'Education Management' 'Computer Software' 'Insurance' 'Software Startup'\n",
      " 'Computer & Network Security' 'Capital Markets' 'Social network'\n",
      " 'Hospital & Health Care' 'Music' 'Hauz Khas'\n",
      " 'Primary Business is Development and Manufacturing of Novel Healthcare Products in Effervescent forms using imported propriety ingredients.'\n",
      " \"MoEVing is India's only Electric Mobility focused Technology Platform with a vision to accelerate EV adoption in India.\"\n",
      " 'Cosmetics' 'Mobility' 'Social media' 'Real Estate' 'Digital platform'\n",
      " 'B2B Ecommerce' 'Online Media' 'Social commerce' 'Mobile Games'\n",
      " 'Food Production' 'Podcast' 'HeathTech' 'Battery' 'Content publishing'\n",
      " 'Water purification' 'Content commerce' 'Innovation Management'\n",
      " 'Software company' 'Automation' 'Food Industry' 'Celebrity Engagement'\n",
      " 'Trading platform' 'Personal Care' 'Cannabis startup' 'Blogging'\n",
      " 'Consulting' 'BioTechnology' 'B2B Marketplace' 'Health care'\n",
      " 'Social audio' 'Fashion and lifestyle' 'Delivery service'\n",
      " 'B2B Manufacturing' 'Home Decor' 'Solar' 'TaaS startup' 'EV startup'\n",
      " 'Blockchain startup' 'Food and Beverages' 'Beverages'\n",
      " 'Manufacturing startup' 'Cryptocurrency' 'Vehicle repair startup'\n",
      " 'Advisory firm' 'Legaltech' 'Pollution control equiptment'\n",
      " 'Fashion & Lifestyle' 'Blockchain' 'Fitness' 'D2C' 'Automobile'\n",
      " 'Environmental Services' 'Merchandise' 'Facilities Services'\n",
      " 'Marketing & Advertising' 'Human Resources' 'Eyewear' 'D2C Business'\n",
      " 'Biotechnology' 'Farming' 'NFT Marketplace' 'Internet' 'SpaceTech'\n",
      " 'Consumer software' 'Social community' 'Fishery'\n",
      " 'Renewables & Environment' 'Online storytelling' 'Aviation' 'IT company'\n",
      " 'Environmental service' 'Job discovery platform' 'D2C Fashion'\n",
      " 'Heathcare' 'CRM' 'Software' 'Nutrition' 'D2C startup'\n",
      " 'Innovation management' 'Community platform' 'Venture capitalist'\n",
      " 'Networking' 'Commercial Real Estate' 'AR startup' 'Consumer service'\n",
      " 'Consumer goods' 'MarTech' 'Advertisement' 'Content creation'\n",
      " 'Augmented reality' 'Rental space' 'Bike Rental' 'Beauty products'\n",
      " 'Tourism' 'FemTech' 'Cultural' 'Co-working' 'InsureTech'\n",
      " 'Supply chain platform' 'Social platform' 'CleanTech' 'Real estate'\n",
      " 'AI company' 'Sports startup' 'Matrimony' 'Crypto' 'Clothing' 'Analytics'\n",
      " 'Finance' 'IoT platform' 'Commerce' 'Defense & Space' 'Entertainment'\n",
      " 'Business Supplies & Equipment' 'NFT' 'Oil & Energy' 'EV'\n",
      " 'Company-as-a-Service' 'Textiles' 'Professional Training & Coaching'\n",
      " 'Maritime' 'Housing Marketplace' 'Furniture Rental' 'Telecommunications'\n",
      " 'Equity Management' 'Cloud kitchen' 'Nanotechnology' 'Community'\n",
      " 'Higher Education' 'B2B' 'Mechanical Or Industrial Engineering'\n",
      " 'D2C jewellery' 'Sales and Distribution' 'SaaS' 'Information Services'\n",
      " 'Translation & Localization' 'Investment Banking' 'Femtech' 'sports'\n",
      " 'Foootwear' 'Legal Services' 'Veterinary' 'Arts & Crafts'\n",
      " 'Investment Management' 'Education' 'Management Consulting' 'B2B startup'\n",
      " 'Sochcast is an Audio experiences company that give the listener and creators an Immersive Audio experience'\n",
      " 'Design' 'B2B Travel' 'Interior Design' 'Manchester, Greater Manchester'\n",
      " 'Product studio' 'Aviation & Aerospace' 'Staffing & Recruiting']\n"
     ]
    }
   ],
   "source": [
    "# Clean data by standardizing text and removing extra spaces\n",
    "data_2021['Sector'] = data_2021['Sector'].str.replace(r'[^a-zA-Z\\s]', '').str.strip()\n",
    "\n",
    "# Standardize specific variations\n",
    "data_2021['Sector'] = data_2021['Sector'].replace({\n",
    "    'Healtcare': 'Healthcare',\n",
    "    'HRTech': 'HR Tech',\n",
    "    'Healthtech': 'Healthcare',\n",
    "    'Information Technology': 'IT',\n",
    "})\n",
    "\n",
    "# Display unique sectors after cleaning\n",
    "unique_sectors = data_2021['Sector'].unique()\n",
    "print(unique_sectors)"
   ]
  },
  {
   "cell_type": "markdown",
   "metadata": {},
   "source": [
    " ### Apply camel case conversion for Sector"
   ]
  },
  {
   "cell_type": "code",
   "execution_count": 57,
   "metadata": {},
   "outputs": [],
   "source": [
    "# Apply camel case conversion\n",
    "data_2021['Sector'] = data_2021['Sector'].apply(lambda x: ''.join(word.capitalize() for word in x.split()))"
   ]
  },
  {
   "cell_type": "code",
   "execution_count": 58,
   "metadata": {},
   "outputs": [
    {
     "data": {
      "text/plain": [
       "0"
      ]
     },
     "execution_count": 58,
     "metadata": {},
     "output_type": "execute_result"
    }
   ],
   "source": [
    "# Identify rows with missing What_it_does values\n",
    "data_2021['What it does'].isnull().sum()"
   ]
  },
  {
   "cell_type": "code",
   "execution_count": 59,
   "metadata": {},
   "outputs": [
    {
     "data": {
      "text/plain": [
       "4"
      ]
     },
     "execution_count": 59,
     "metadata": {},
     "output_type": "execute_result"
    }
   ],
   "source": [
    "# Identify rows with missing Founders values\n",
    "data_2021['Founders'].isnull().sum() "
   ]
  },
  {
   "cell_type": "markdown",
   "metadata": {},
   "source": [
    "### Filling null values in founders to Unknown"
   ]
  },
  {
   "cell_type": "code",
   "execution_count": 60,
   "metadata": {},
   "outputs": [],
   "source": [
    "# fill Founders Colmun Unknown\n",
    "data_2021['Founders'].fillna('Unknown',inplace=True)"
   ]
  },
  {
   "cell_type": "code",
   "execution_count": 61,
   "metadata": {},
   "outputs": [
    {
     "data": {
      "text/plain": [
       "61"
      ]
     },
     "execution_count": 61,
     "metadata": {},
     "output_type": "execute_result"
    }
   ],
   "source": [
    "# Identify rows with missing Investor values\n",
    "data_2021['Investor'].isnull().sum() "
   ]
  },
  {
   "cell_type": "code",
   "execution_count": 62,
   "metadata": {},
   "outputs": [],
   "source": [
    "# fill Investor Colmun Unknown\n",
    "data_2021['Investor'].fillna('Unknown', inplace=True)"
   ]
  },
  {
   "cell_type": "code",
   "execution_count": 63,
   "metadata": {},
   "outputs": [
    {
     "data": {
      "text/plain": [
       "3"
      ]
     },
     "execution_count": 63,
     "metadata": {},
     "output_type": "execute_result"
    }
   ],
   "source": [
    "# Identify rows with missing Amount values\n",
    "data_2021['Amount'].isnull().sum() "
   ]
  },
  {
   "cell_type": "markdown",
   "metadata": {},
   "source": [
    "### identifying Unique values in Amount colmun"
   ]
  },
  {
   "cell_type": "code",
   "execution_count": 64,
   "metadata": {},
   "outputs": [
    {
     "name": "stdout",
     "output_type": "stream",
     "text": [
      "['$1,200,000' '$120,000,000' '$30,000,000' '$51,000,000' '$2,000,000'\n",
      " '$188,000,000' '$200,000' 'Undisclosed' '$1,000,000' '$3,000,000'\n",
      " '$100,000' '$700,000' '$9,000,000' '$40,000,000' '$49,000,000' '$400,000'\n",
      " '$300,000' '$25,000,000' '$160,000,000' '$150,000' '$1,800,000'\n",
      " '$5,000,000' '$850,000' '$53,000,000' '$500,000' '$1,100,000'\n",
      " '$6,000,000' '$800,000' '$10,000,000' '$21,000,000' '$7,500,000'\n",
      " '$26,000,000' '$7,400,000' '$1,500,000' '$600,000' '$800,000,000'\n",
      " '$17,000,000' '$3,500,000' '$15,000,000' '$215,000,000' '$2,500,000'\n",
      " '$350,000,000' '$5,500,000' '$83,000,000' '$110,000,000' '$500,000,000'\n",
      " '$65,000,000' '$150,000,000,000' '$300,000,000' '$2,200,000'\n",
      " '$35,000,000' '$140,000,000' '$4,000,000' '$13,000,000' None\n",
      " '$Undisclosed' '$2000000' '$800000' '$6000000' '$2500000' '$9500000'\n",
      " '$13000000' '$5000000' '$8000000' '$1000000' 'Upsparks' '$200000'\n",
      " '$12000000' '$1500000' '$1700000' '$5500000' '$400000' '$150000000'\n",
      " '$4000000' '$100000000' '$500000' '$15000000' '$10000000' '$40000000'\n",
      " '$225000000' '$6700000' '$1300000' '$20000000' '$250000' '$21000000'\n",
      " '$1200000' '$52000000' '$3800000' '$17500000' '$42000000' '$2300000'\n",
      " '$7000000' '$30000000' '$450000000' '$28000000' '$300000' '$3500000'\n",
      " '$8500000' '$25000000' '$3000000' '$37000000' '$370000000' '$700000'\n",
      " '$16000000' '$100000' '$44000000' '$770000' '$125000000' '$35000000'\n",
      " '$50000000' '$4900000' '$145000000' '$22000000' '$70000000' '$6600000'\n",
      " '$32000000' '$24000000' '$725000' '$461000' 'Series C' 'Seed' '$96000000'\n",
      " '$60000000' '$500000000' '$266000000' '$4500000' '$325000000' '$6500000'\n",
      " '$1600000' '$150000' '$225000' '$85000000' '$235000' '$260000' '$2900000'\n",
      " '$53000000' '$1100000' '$86000000' '$130000' '$$100,00' '$111000000'\n",
      " '$265000' '$76000000' '$100,000,000' '$75,000,000' '$3,800,000'\n",
      " '$12,000,000' '$1,600,000' '$260,000' '$1,000,000,000' '$18,000,000'\n",
      " '$20,000,000' '$350,000' '$95,000,000' '$4,100,000' '$5,200,000'\n",
      " '$8,000,000' '$1,400,000' '$2,600,000' '$900,000' '$250,000'\n",
      " '$16,000,000' '$7,000,000' '$11,000,000' '$280,000,000' '$50,000,000'\n",
      " '$14,300,000' '$81,000,000' '$1,300,000' '$8,200,000' '$70,000,000'\n",
      " '$720,000' '$600000' '$9000000' '$1800000' '$330000' '$undisclosed'\n",
      " '$200000000' '$36000000' '$67000000' '$10200000' '$220000000'\n",
      " '$108000000' '$75000000' '$450000' '$660000000' 'ah! Ventures'\n",
      " '$45000000' '$3200000' '$370000' 'Pre-series A'\n",
      " 'ITO Angel Network, LetsVenture' '$48000000' '$3600000' '$11000000'\n",
      " '$192000000' '$65000000' '$1400000' '$1900000' '$41000000' '$144000000'\n",
      " '$5200000' '$270000000' '$140000' '$250000000' '$320000' '$350000000'\n",
      " '$4800000' '$38000000' '$125000' '$26000000' '$64000000' '$620000'\n",
      " '$900000' 'JITO Angel Network, LetsVenture' '$2600000' '$1,250,000'\n",
      " '$400,000,000' '$1,700,000' '$27,000,000' '$234,000,000' '$460,000,000'\n",
      " '$13,500,000' '$5,100,000' '$195,000,000' '$125,000' '$45,000,000'\n",
      " '$200,000,000' '$7,300,000' '$6,300,000' '$12,500,000' '$24,000,000'\n",
      " '$140,000' '$16,500,000' '$340,000' '$43,000,000' '$150,000,000'\n",
      " '$3300000' '$92000000' '$17000000' '$135000000' '$$1,55,000' '$2100000'\n",
      " '$840000000' '$248000000' '$4300000' '$570000' '$2200000' '$4700000'\n",
      " '$300000000' '$260000000' '$140000000' '$175000000' '$19000000' '$810000'\n",
      " '$7500000' '$600000000' '$90000000' '$5700000' '$6750000' '$78000000'\n",
      " '$5400000' '$115000000' '$255000000' '$18000000' '$570000000' '$550000'\n",
      " '$2700000' '$4200000' '$31000000' '$540000' '$14000000' '$340000' '$'\n",
      " '$6200000' '$750000' '$6300000' '$23000000' '$55000000']\n"
     ]
    }
   ],
   "source": [
    "print(data_2021['Amount'].unique())"
   ]
  },
  {
   "cell_type": "markdown",
   "metadata": {},
   "source": [
    "### converting them into a suitable numeric format for further analysis or visualization.\n"
   ]
  },
  {
   "cell_type": "code",
   "execution_count": 65,
   "metadata": {},
   "outputs": [
    {
     "name": "stdout",
     "output_type": "stream",
     "text": [
      "0            NaN\n",
      "1       100000.0\n",
      "2            NaN\n",
      "3            NaN\n",
      "4            NaN\n",
      "          ...   \n",
      "1204         NaN\n",
      "1205         NaN\n",
      "1206         NaN\n",
      "1207         NaN\n",
      "1208         NaN\n",
      "Name: Amount, Length: 1190, dtype: float64\n"
     ]
    }
   ],
   "source": [
    "def clean_amounts(amount):\n",
    "    if pd.isnull(amount) or (isinstance(amount, str) and amount.lower() in ['undisclosed', 'upspraks', 'ah! ventures', 'pre-series a', 'ito angel network, letsvanture', 'jito angel network, letsvanture']) or amount == '$':\n",
    "        return np.nan\n",
    "    else:\n",
    "        amount = re.sub(r'[$,]', '', str(amount))\n",
    "        amount = re.sub(r'[^0-9.]', '', amount)\n",
    "        if amount == '':\n",
    "            return np.nan\n",
    "        else:\n",
    "            return float(amount)\n",
    "\n",
    "data_2021['Amount'] = data_2020['Amount'].apply(clean_amounts)\n",
    "\n",
    "print(data_2021['Amount'])"
   ]
  },
  {
   "cell_type": "markdown",
   "metadata": {},
   "source": [
    "### missing values in the 'Amount' column by substituting them with a representative measure (the median) "
   ]
  },
  {
   "cell_type": "code",
   "execution_count": 66,
   "metadata": {},
   "outputs": [],
   "source": [
    "# Impute with Central Tendency Measure: This approach assumes that the missing values are representative of the overall distribution of the 'Amount' column.\n",
    "median_amount = data_2021['Amount'].median()\n",
    "data_2021['Amount'].fillna(median_amount, inplace=True)"
   ]
  },
  {
   "cell_type": "code",
   "execution_count": 67,
   "metadata": {},
   "outputs": [
    {
     "name": "stdout",
     "output_type": "stream",
     "text": [
      "[3.1740e+06 1.0000e+05 6.0000e+05 4.5000e+07 1.0000e+06 2.0000e+06\n",
      " 7.5000e+06 1.0000e+07 2.1000e+07 5.6000e+05 4.0000e+05 2.7500e+05\n",
      " 2.0000e+07 1.5000e+07 5.1000e+06 5.0000e+05 2.3000e+06 7.0000e+05\n",
      " 9.0000e+06 4.0000e+07 1.2000e+06 7.5000e+05 1.5000e+06 7.8000e+06\n",
      " 4.0000e+06 8.0000e+07 4.0000e+04 3.5000e+07 3.0000e+06 3.0000e+05\n",
      " 2.5000e+07 3.5000e+06 2.0000e+08 6.0000e+06 8.0000e+05 1.8000e+07\n",
      " 1.0000e+08 5.0000e+06 9.0000e+05 2.5000e+05 3.2000e+06 7.5000e+07\n",
      " 1.2100e+08 2.0000e+05 3.3000e+06 1.1000e+07 4.5000e+06 1.5000e+08\n",
      " 2.5000e+06 7.0000e+06 4.2000e+06 1.7000e+06 1.6000e+06 1.8500e+07\n",
      " 5.5000e+07 1.2000e+07 1.3400e+07 1.3000e+06 1.7000e+08 1.1000e+06\n",
      " 2.9000e+06 5.4300e+05 9.0000e+07 3.0000e+07 3.4000e+06 2.3000e+07\n",
      " 8.0900e+06 1.0300e+06 5.0400e+06 3.6000e+05 8.0000e+06 1.4000e+06\n",
      " 6.5000e+05 5.4000e+07 4.2500e+07 2.8000e+07 1.1370e+07 3.2500e+05\n",
      " 4.1000e+05 4.5000e+05 6.8200e+05 5.0600e+06 4.0500e+06 1.0500e+06\n",
      " 5.0000e+07 1.0800e+06 4.3000e+06 2.1100e+06 2.9200e+05 8.8700e+05\n",
      " 2.2000e+06 1.1000e+05 1.1635e+07 2.8000e+06 1.0650e+06 1.6076e+07\n",
      " 6.7000e+06 2.2000e+05 2.8790e+06 2.6500e+07 4.6761e+07 1.7500e+05\n",
      " 1.1241e+07 4.6700e+05 9.2700e+05 9.7100e+05 1.8620e+06 2.8880e+06\n",
      " 1.5500e+07 5.6000e+07 2.2500e+06 1.6753e+07 2.6700e+05 7.2000e+06\n",
      " 2.7430e+06 6.0820e+06 2.7700e+07 3.9370e+06 1.5000e+05 5.5000e+06\n",
      " 2.6400e+05 1.7500e+06 5.9670e+06 3.2300e+05 2.7000e+07 2.5300e+06\n",
      " 6.0000e+07 1.1363e+07 3.2900e+05 5.2710e+06 5.9000e+06 4.4000e+07\n",
      " 9.4000e+06 7.9000e+05 1.6000e+05 8.2000e+06 4.2570e+06 7.8600e+05\n",
      " 2.0040e+06 6.8000e+06 2.4800e+05 1.3000e+07 2.4500e+07 3.8000e+06\n",
      " 1.8370e+07 4.8000e+06 1.2500e+07 4.3000e+07 2.1600e+07 1.1500e+08\n",
      " 8.5000e+06 3.1480e+06 4.7000e+06 1.0500e+07 4.3700e+07 3.0690e+05\n",
      " 6.2730e+05 1.1300e+08 3.2000e+07 1.1000e+08 7.9757e+06 2.4000e+07\n",
      " 5.2000e+06 2.9600e+08 9.8253e+05 2.1000e+08 2.7000e+06 1.4034e+06\n",
      " 1.0500e+08 1.2700e+04 2.5000e+04 9.7500e+07 5.0700e+05 1.2500e+08\n",
      " 1.4700e+07 8.0430e+06]\n"
     ]
    }
   ],
   "source": [
    "print(data_2021['Amount'].unique())"
   ]
  },
  {
   "cell_type": "code",
   "execution_count": 68,
   "metadata": {},
   "outputs": [
    {
     "data": {
      "text/html": [
       "<div>\n",
       "<style scoped>\n",
       "    .dataframe tbody tr th:only-of-type {\n",
       "        vertical-align: middle;\n",
       "    }\n",
       "\n",
       "    .dataframe tbody tr th {\n",
       "        vertical-align: top;\n",
       "    }\n",
       "\n",
       "    .dataframe thead th {\n",
       "        text-align: right;\n",
       "    }\n",
       "</style>\n",
       "<table border=\"1\" class=\"dataframe\">\n",
       "  <thead>\n",
       "    <tr style=\"text-align: right;\">\n",
       "      <th></th>\n",
       "      <th>Company Brand</th>\n",
       "      <th>Founded</th>\n",
       "      <th>HeadQuarter</th>\n",
       "      <th>Sector</th>\n",
       "      <th>What it does</th>\n",
       "      <th>Founders</th>\n",
       "      <th>Investor</th>\n",
       "      <th>Amount</th>\n",
       "      <th>Stage</th>\n",
       "    </tr>\n",
       "  </thead>\n",
       "  <tbody>\n",
       "    <tr>\n",
       "      <th>0</th>\n",
       "      <td>Unbox Robotics</td>\n",
       "      <td>2019</td>\n",
       "      <td>Bangalore</td>\n",
       "      <td>AiStartup</td>\n",
       "      <td>Unbox Robotics builds on-demand AI-driven ware...</td>\n",
       "      <td>Pramod Ghadge, Shahid Memon</td>\n",
       "      <td>BEENEXT, Entrepreneur First</td>\n",
       "      <td>3174000.0</td>\n",
       "      <td>Pre-series A</td>\n",
       "    </tr>\n",
       "    <tr>\n",
       "      <th>1</th>\n",
       "      <td>upGrad</td>\n",
       "      <td>2015</td>\n",
       "      <td>Mumbai</td>\n",
       "      <td>Edtech</td>\n",
       "      <td>UpGrad is an online higher education platform.</td>\n",
       "      <td>Mayank Kumar, Phalgun Kompalli, Ravijot Chugh,...</td>\n",
       "      <td>Unilazer Ventures, IIFL Asset Management</td>\n",
       "      <td>100000.0</td>\n",
       "      <td>None</td>\n",
       "    </tr>\n",
       "    <tr>\n",
       "      <th>2</th>\n",
       "      <td>Lead School</td>\n",
       "      <td>2012</td>\n",
       "      <td>Mumbai</td>\n",
       "      <td>Edtech</td>\n",
       "      <td>LEAD School offers technology based school tra...</td>\n",
       "      <td>Smita Deorah, Sumeet Mehta</td>\n",
       "      <td>GSV Ventures, Westbridge Capital</td>\n",
       "      <td>3174000.0</td>\n",
       "      <td>Series D</td>\n",
       "    </tr>\n",
       "    <tr>\n",
       "      <th>3</th>\n",
       "      <td>Bizongo</td>\n",
       "      <td>2015</td>\n",
       "      <td>Mumbai</td>\n",
       "      <td>B2bE-commerce</td>\n",
       "      <td>Bizongo is a business-to-business online marke...</td>\n",
       "      <td>Aniket Deb, Ankit Tomar, Sachin Agrawal</td>\n",
       "      <td>CDC Group, IDG Capital</td>\n",
       "      <td>3174000.0</td>\n",
       "      <td>Series C</td>\n",
       "    </tr>\n",
       "    <tr>\n",
       "      <th>4</th>\n",
       "      <td>FypMoney</td>\n",
       "      <td>2021</td>\n",
       "      <td>Gurugram</td>\n",
       "      <td>Fintech</td>\n",
       "      <td>FypMoney is Digital NEO Bank for Teenagers, em...</td>\n",
       "      <td>Kapil Banwari</td>\n",
       "      <td>Liberatha Kallat, Mukesh Yadav, Dinesh Nagpal</td>\n",
       "      <td>3174000.0</td>\n",
       "      <td>Seed</td>\n",
       "    </tr>\n",
       "    <tr>\n",
       "      <th>...</th>\n",
       "      <td>...</td>\n",
       "      <td>...</td>\n",
       "      <td>...</td>\n",
       "      <td>...</td>\n",
       "      <td>...</td>\n",
       "      <td>...</td>\n",
       "      <td>...</td>\n",
       "      <td>...</td>\n",
       "      <td>...</td>\n",
       "    </tr>\n",
       "    <tr>\n",
       "      <th>1204</th>\n",
       "      <td>Gigforce</td>\n",
       "      <td>2019</td>\n",
       "      <td>Gurugram</td>\n",
       "      <td>Staffing&amp;Recruiting</td>\n",
       "      <td>A gig/on-demand staffing company.</td>\n",
       "      <td>Chirag Mittal, Anirudh Syal</td>\n",
       "      <td>Endiya Partners</td>\n",
       "      <td>3174000.0</td>\n",
       "      <td>Pre-series A</td>\n",
       "    </tr>\n",
       "    <tr>\n",
       "      <th>1205</th>\n",
       "      <td>Vahdam</td>\n",
       "      <td>2015</td>\n",
       "      <td>New Delhi</td>\n",
       "      <td>Food&amp;Beverages</td>\n",
       "      <td>VAHDAM is among the world’s first vertically i...</td>\n",
       "      <td>Bala Sarda</td>\n",
       "      <td>IIFL AMC</td>\n",
       "      <td>3174000.0</td>\n",
       "      <td>Series D</td>\n",
       "    </tr>\n",
       "    <tr>\n",
       "      <th>1206</th>\n",
       "      <td>Leap Finance</td>\n",
       "      <td>2019</td>\n",
       "      <td>Bangalore</td>\n",
       "      <td>FinancialServices</td>\n",
       "      <td>International education loans for high potenti...</td>\n",
       "      <td>Arnav Kumar, Vaibhav Singh</td>\n",
       "      <td>Owl Ventures</td>\n",
       "      <td>3174000.0</td>\n",
       "      <td>Series C</td>\n",
       "    </tr>\n",
       "    <tr>\n",
       "      <th>1207</th>\n",
       "      <td>CollegeDekho</td>\n",
       "      <td>2015</td>\n",
       "      <td>Gurugram</td>\n",
       "      <td>Edtech</td>\n",
       "      <td>Collegedekho.com is Student’s Partner, Friend ...</td>\n",
       "      <td>Ruchir Arora</td>\n",
       "      <td>Winter Capital, ETS, Man Capital</td>\n",
       "      <td>3174000.0</td>\n",
       "      <td>Series B</td>\n",
       "    </tr>\n",
       "    <tr>\n",
       "      <th>1208</th>\n",
       "      <td>WeRize</td>\n",
       "      <td>2019</td>\n",
       "      <td>Bangalore</td>\n",
       "      <td>FinancialServices</td>\n",
       "      <td>India’s first socially distributed full stack ...</td>\n",
       "      <td>Vishal Chopra, Himanshu Gupta</td>\n",
       "      <td>3one4 Capital, Kalaari Capital</td>\n",
       "      <td>3174000.0</td>\n",
       "      <td>Series A</td>\n",
       "    </tr>\n",
       "  </tbody>\n",
       "</table>\n",
       "<p>1190 rows × 9 columns</p>\n",
       "</div>"
      ],
      "text/plain": [
       "       Company Brand  Founded HeadQuarter               Sector  \\\n",
       "0     Unbox Robotics     2019   Bangalore            AiStartup   \n",
       "1             upGrad     2015      Mumbai               Edtech   \n",
       "2        Lead School     2012      Mumbai               Edtech   \n",
       "3            Bizongo     2015      Mumbai        B2bE-commerce   \n",
       "4           FypMoney     2021    Gurugram              Fintech   \n",
       "...              ...      ...         ...                  ...   \n",
       "1204        Gigforce     2019    Gurugram  Staffing&Recruiting   \n",
       "1205          Vahdam     2015   New Delhi       Food&Beverages   \n",
       "1206    Leap Finance     2019   Bangalore    FinancialServices   \n",
       "1207    CollegeDekho     2015    Gurugram               Edtech   \n",
       "1208          WeRize     2019   Bangalore    FinancialServices   \n",
       "\n",
       "                                           What it does  \\\n",
       "0     Unbox Robotics builds on-demand AI-driven ware...   \n",
       "1        UpGrad is an online higher education platform.   \n",
       "2     LEAD School offers technology based school tra...   \n",
       "3     Bizongo is a business-to-business online marke...   \n",
       "4     FypMoney is Digital NEO Bank for Teenagers, em...   \n",
       "...                                                 ...   \n",
       "1204                  A gig/on-demand staffing company.   \n",
       "1205  VAHDAM is among the world’s first vertically i...   \n",
       "1206  International education loans for high potenti...   \n",
       "1207  Collegedekho.com is Student’s Partner, Friend ...   \n",
       "1208  India’s first socially distributed full stack ...   \n",
       "\n",
       "                                               Founders  \\\n",
       "0                           Pramod Ghadge, Shahid Memon   \n",
       "1     Mayank Kumar, Phalgun Kompalli, Ravijot Chugh,...   \n",
       "2                            Smita Deorah, Sumeet Mehta   \n",
       "3               Aniket Deb, Ankit Tomar, Sachin Agrawal   \n",
       "4                                         Kapil Banwari   \n",
       "...                                                 ...   \n",
       "1204                        Chirag Mittal, Anirudh Syal   \n",
       "1205                                         Bala Sarda   \n",
       "1206                         Arnav Kumar, Vaibhav Singh   \n",
       "1207                                       Ruchir Arora   \n",
       "1208                      Vishal Chopra, Himanshu Gupta   \n",
       "\n",
       "                                           Investor     Amount         Stage  \n",
       "0                       BEENEXT, Entrepreneur First  3174000.0  Pre-series A  \n",
       "1          Unilazer Ventures, IIFL Asset Management   100000.0          None  \n",
       "2                  GSV Ventures, Westbridge Capital  3174000.0      Series D  \n",
       "3                            CDC Group, IDG Capital  3174000.0      Series C  \n",
       "4     Liberatha Kallat, Mukesh Yadav, Dinesh Nagpal  3174000.0          Seed  \n",
       "...                                             ...        ...           ...  \n",
       "1204                                Endiya Partners  3174000.0  Pre-series A  \n",
       "1205                                       IIFL AMC  3174000.0      Series D  \n",
       "1206                                   Owl Ventures  3174000.0      Series C  \n",
       "1207               Winter Capital, ETS, Man Capital  3174000.0      Series B  \n",
       "1208                 3one4 Capital, Kalaari Capital  3174000.0      Series A  \n",
       "\n",
       "[1190 rows x 9 columns]"
      ]
     },
     "execution_count": 68,
     "metadata": {},
     "output_type": "execute_result"
    }
   ],
   "source": [
    "data_2021"
   ]
  },
  {
   "cell_type": "code",
   "execution_count": 69,
   "metadata": {},
   "outputs": [
    {
     "name": "stdout",
     "output_type": "stream",
     "text": [
      "['Pre-series A' None 'Series D' 'Series C' 'Seed' 'Series B' 'Series E'\n",
      " 'Pre-seed' 'Series A' 'Pre-series B' 'Debt' '$1200000' 'Bridge' 'Seed+'\n",
      " 'Series F2' 'Series A+' 'Series G' 'Series F' 'Series H' 'Series B3' 'PE'\n",
      " 'Series F1' 'Pre-series A1' '$300000' 'Early seed' 'Series D1' '$6000000'\n",
      " '$1000000' 'Seies A' 'Pre-series' 'Series A2' 'Series I']\n"
     ]
    }
   ],
   "source": [
    "print(data_2021['Stage'].unique())"
   ]
  },
  {
   "cell_type": "markdown",
   "metadata": {},
   "source": [
    "### reassigns or consolidates different stage labels into a more uniform set of stage names within the 'Stage' column."
   ]
  },
  {
   "cell_type": "code",
   "execution_count": 70,
   "metadata": {},
   "outputs": [],
   "source": [
    "replacement4 = { \n",
    "'Seed':'Pre-series A',\n",
    "'Pre-seed':'Pre-series A',\n",
    "'Pre-series B':'Pre-series A',\n",
    "'Upsparks':'Unknown',\n",
    "'Bridge':'Bridge Round',\n",
    "'Seed+':'Pre-series A',\n",
    "'Series F2':'Series F',\n",
    "'Series A+':'Series A',\n",
    "'Series B3':'Series B',\n",
    "'PE':'Series C',\n",
    "'Series F1':'Series F',\n",
    "'Pre-series A1':'Pre-series A',\n",
    "'ah! Ventures':'Unknown',\n",
    "'ITO Angel Network, LetsVenture':'Unknown',\n",
    "'Early seed':'Pre-series A',\n",
    "'Series D1':'Series D',\n",
    "'JITO Angel Network, LetsVenture':'Unknown',\n",
    "'Seies A':'Series A',\n",
    "'Pre-series':'Pre-series A',\n",
    "'Series A2':'Series A',\n",
    "}\n",
    "\n",
    "data_2021['Stage'] = data_2021['Stage'].replace(replacement4)"
   ]
  },
  {
   "cell_type": "markdown",
   "metadata": {},
   "source": [
    "### fill the null values in stage colmun to Unknown"
   ]
  },
  {
   "cell_type": "code",
   "execution_count": 71,
   "metadata": {},
   "outputs": [],
   "source": [
    "# fill all missing values with unknown\n",
    "data_2021['Stage'].fillna('Unknown', inplace=True)"
   ]
  },
  {
   "cell_type": "markdown",
   "metadata": {},
   "source": [
    "### Drop unknown rows headquarter and stage"
   ]
  },
  {
   "cell_type": "code",
   "execution_count": 72,
   "metadata": {},
   "outputs": [],
   "source": [
    "#Drop rows with unknown data in headquarter and stage column\n",
    "value_to_drop1 = 'Unknown'\n",
    "data_2021 = data_2021[data_2021['Stage'] != value_to_drop1]\n",
    "\n",
    "value_to_drop1 = 'Unknown'\n",
    "data_2021 = data_2021[data_2021['HeadQuarter'] != value_to_drop1]"
   ]
  },
  {
   "cell_type": "code",
   "execution_count": 73,
   "metadata": {},
   "outputs": [
    {
     "name": "stdout",
     "output_type": "stream",
     "text": [
      "['Pre-series A' 'Series D' 'Series C' 'Series B' 'Series E' 'Series A'\n",
      " 'Debt' '$1200000' 'Bridge Round' 'Series F' 'Series G' 'Series H'\n",
      " '$300000' '$6000000' '$1000000' 'Series I']\n"
     ]
    }
   ],
   "source": [
    "print(data_2021['Stage'].unique())"
   ]
  },
  {
   "cell_type": "markdown",
   "metadata": {},
   "source": [
    "### standardizing or anonymizing specific patterns found in the 'Stage' column by replacing them with a uniform term ('Unknown' in this case)."
   ]
  },
  {
   "cell_type": "code",
   "execution_count": 74,
   "metadata": {},
   "outputs": [],
   "source": [
    "# Replace values containing $ and numbers with 'Unknown'\n",
    "data_2021['Stage'] = data_2021['Stage'].replace(r'\\$\\d+', 'Unknown', regex=True)\n"
   ]
  },
  {
   "cell_type": "code",
   "execution_count": 75,
   "metadata": {},
   "outputs": [
    {
     "name": "stdout",
     "output_type": "stream",
     "text": [
      "['Pre-series A' 'Series D' 'Series C' 'Series B' 'Series E' 'Series A'\n",
      " 'Debt' 'Unknown' 'Bridge Round' 'Series F' 'Series G' 'Series H'\n",
      " 'Series I']\n"
     ]
    }
   ],
   "source": [
    "print(data_2021['Stage'].unique())"
   ]
  },
  {
   "cell_type": "markdown",
   "metadata": {},
   "source": [
    "### adding new colmun year for 2021 for analysis"
   ]
  },
  {
   "cell_type": "code",
   "execution_count": 76,
   "metadata": {},
   "outputs": [],
   "source": [
    "data_2021['Year'] = 2021"
   ]
  },
  {
   "cell_type": "code",
   "execution_count": 77,
   "metadata": {},
   "outputs": [
    {
     "data": {
      "text/html": [
       "<div>\n",
       "<style scoped>\n",
       "    .dataframe tbody tr th:only-of-type {\n",
       "        vertical-align: middle;\n",
       "    }\n",
       "\n",
       "    .dataframe tbody tr th {\n",
       "        vertical-align: top;\n",
       "    }\n",
       "\n",
       "    .dataframe thead th {\n",
       "        text-align: right;\n",
       "    }\n",
       "</style>\n",
       "<table border=\"1\" class=\"dataframe\">\n",
       "  <thead>\n",
       "    <tr style=\"text-align: right;\">\n",
       "      <th></th>\n",
       "      <th>Company Brand</th>\n",
       "      <th>Founded</th>\n",
       "      <th>HeadQuarter</th>\n",
       "      <th>Sector</th>\n",
       "      <th>What it does</th>\n",
       "      <th>Founders</th>\n",
       "      <th>Investor</th>\n",
       "      <th>Amount</th>\n",
       "      <th>Stage</th>\n",
       "      <th>Year</th>\n",
       "    </tr>\n",
       "  </thead>\n",
       "  <tbody>\n",
       "    <tr>\n",
       "      <th>0</th>\n",
       "      <td>Unbox Robotics</td>\n",
       "      <td>2019</td>\n",
       "      <td>Bangalore</td>\n",
       "      <td>AiStartup</td>\n",
       "      <td>Unbox Robotics builds on-demand AI-driven ware...</td>\n",
       "      <td>Pramod Ghadge, Shahid Memon</td>\n",
       "      <td>BEENEXT, Entrepreneur First</td>\n",
       "      <td>3174000.0</td>\n",
       "      <td>Pre-series A</td>\n",
       "      <td>2021</td>\n",
       "    </tr>\n",
       "    <tr>\n",
       "      <th>2</th>\n",
       "      <td>Lead School</td>\n",
       "      <td>2012</td>\n",
       "      <td>Mumbai</td>\n",
       "      <td>Edtech</td>\n",
       "      <td>LEAD School offers technology based school tra...</td>\n",
       "      <td>Smita Deorah, Sumeet Mehta</td>\n",
       "      <td>GSV Ventures, Westbridge Capital</td>\n",
       "      <td>3174000.0</td>\n",
       "      <td>Series D</td>\n",
       "      <td>2021</td>\n",
       "    </tr>\n",
       "    <tr>\n",
       "      <th>3</th>\n",
       "      <td>Bizongo</td>\n",
       "      <td>2015</td>\n",
       "      <td>Mumbai</td>\n",
       "      <td>B2bE-commerce</td>\n",
       "      <td>Bizongo is a business-to-business online marke...</td>\n",
       "      <td>Aniket Deb, Ankit Tomar, Sachin Agrawal</td>\n",
       "      <td>CDC Group, IDG Capital</td>\n",
       "      <td>3174000.0</td>\n",
       "      <td>Series C</td>\n",
       "      <td>2021</td>\n",
       "    </tr>\n",
       "    <tr>\n",
       "      <th>4</th>\n",
       "      <td>FypMoney</td>\n",
       "      <td>2021</td>\n",
       "      <td>Gurugram</td>\n",
       "      <td>Fintech</td>\n",
       "      <td>FypMoney is Digital NEO Bank for Teenagers, em...</td>\n",
       "      <td>Kapil Banwari</td>\n",
       "      <td>Liberatha Kallat, Mukesh Yadav, Dinesh Nagpal</td>\n",
       "      <td>3174000.0</td>\n",
       "      <td>Pre-series A</td>\n",
       "      <td>2021</td>\n",
       "    </tr>\n",
       "    <tr>\n",
       "      <th>7</th>\n",
       "      <td>Qube Health</td>\n",
       "      <td>2016</td>\n",
       "      <td>Mumbai</td>\n",
       "      <td>Healthtech</td>\n",
       "      <td>India's Most Respected Workplace Healthcare Ma...</td>\n",
       "      <td>Gagan Kapur</td>\n",
       "      <td>Inflection Point Ventures</td>\n",
       "      <td>3174000.0</td>\n",
       "      <td>Pre-series A</td>\n",
       "      <td>2021</td>\n",
       "    </tr>\n",
       "    <tr>\n",
       "      <th>...</th>\n",
       "      <td>...</td>\n",
       "      <td>...</td>\n",
       "      <td>...</td>\n",
       "      <td>...</td>\n",
       "      <td>...</td>\n",
       "      <td>...</td>\n",
       "      <td>...</td>\n",
       "      <td>...</td>\n",
       "      <td>...</td>\n",
       "      <td>...</td>\n",
       "    </tr>\n",
       "    <tr>\n",
       "      <th>1204</th>\n",
       "      <td>Gigforce</td>\n",
       "      <td>2019</td>\n",
       "      <td>Gurugram</td>\n",
       "      <td>Staffing&amp;Recruiting</td>\n",
       "      <td>A gig/on-demand staffing company.</td>\n",
       "      <td>Chirag Mittal, Anirudh Syal</td>\n",
       "      <td>Endiya Partners</td>\n",
       "      <td>3174000.0</td>\n",
       "      <td>Pre-series A</td>\n",
       "      <td>2021</td>\n",
       "    </tr>\n",
       "    <tr>\n",
       "      <th>1205</th>\n",
       "      <td>Vahdam</td>\n",
       "      <td>2015</td>\n",
       "      <td>New Delhi</td>\n",
       "      <td>Food&amp;Beverages</td>\n",
       "      <td>VAHDAM is among the world’s first vertically i...</td>\n",
       "      <td>Bala Sarda</td>\n",
       "      <td>IIFL AMC</td>\n",
       "      <td>3174000.0</td>\n",
       "      <td>Series D</td>\n",
       "      <td>2021</td>\n",
       "    </tr>\n",
       "    <tr>\n",
       "      <th>1206</th>\n",
       "      <td>Leap Finance</td>\n",
       "      <td>2019</td>\n",
       "      <td>Bangalore</td>\n",
       "      <td>FinancialServices</td>\n",
       "      <td>International education loans for high potenti...</td>\n",
       "      <td>Arnav Kumar, Vaibhav Singh</td>\n",
       "      <td>Owl Ventures</td>\n",
       "      <td>3174000.0</td>\n",
       "      <td>Series C</td>\n",
       "      <td>2021</td>\n",
       "    </tr>\n",
       "    <tr>\n",
       "      <th>1207</th>\n",
       "      <td>CollegeDekho</td>\n",
       "      <td>2015</td>\n",
       "      <td>Gurugram</td>\n",
       "      <td>Edtech</td>\n",
       "      <td>Collegedekho.com is Student’s Partner, Friend ...</td>\n",
       "      <td>Ruchir Arora</td>\n",
       "      <td>Winter Capital, ETS, Man Capital</td>\n",
       "      <td>3174000.0</td>\n",
       "      <td>Series B</td>\n",
       "      <td>2021</td>\n",
       "    </tr>\n",
       "    <tr>\n",
       "      <th>1208</th>\n",
       "      <td>WeRize</td>\n",
       "      <td>2019</td>\n",
       "      <td>Bangalore</td>\n",
       "      <td>FinancialServices</td>\n",
       "      <td>India’s first socially distributed full stack ...</td>\n",
       "      <td>Vishal Chopra, Himanshu Gupta</td>\n",
       "      <td>3one4 Capital, Kalaari Capital</td>\n",
       "      <td>3174000.0</td>\n",
       "      <td>Series A</td>\n",
       "      <td>2021</td>\n",
       "    </tr>\n",
       "  </tbody>\n",
       "</table>\n",
       "<p>768 rows × 10 columns</p>\n",
       "</div>"
      ],
      "text/plain": [
       "       Company Brand  Founded HeadQuarter               Sector  \\\n",
       "0     Unbox Robotics     2019   Bangalore            AiStartup   \n",
       "2        Lead School     2012      Mumbai               Edtech   \n",
       "3            Bizongo     2015      Mumbai        B2bE-commerce   \n",
       "4           FypMoney     2021    Gurugram              Fintech   \n",
       "7        Qube Health     2016      Mumbai           Healthtech   \n",
       "...              ...      ...         ...                  ...   \n",
       "1204        Gigforce     2019    Gurugram  Staffing&Recruiting   \n",
       "1205          Vahdam     2015   New Delhi       Food&Beverages   \n",
       "1206    Leap Finance     2019   Bangalore    FinancialServices   \n",
       "1207    CollegeDekho     2015    Gurugram               Edtech   \n",
       "1208          WeRize     2019   Bangalore    FinancialServices   \n",
       "\n",
       "                                           What it does  \\\n",
       "0     Unbox Robotics builds on-demand AI-driven ware...   \n",
       "2     LEAD School offers technology based school tra...   \n",
       "3     Bizongo is a business-to-business online marke...   \n",
       "4     FypMoney is Digital NEO Bank for Teenagers, em...   \n",
       "7     India's Most Respected Workplace Healthcare Ma...   \n",
       "...                                                 ...   \n",
       "1204                  A gig/on-demand staffing company.   \n",
       "1205  VAHDAM is among the world’s first vertically i...   \n",
       "1206  International education loans for high potenti...   \n",
       "1207  Collegedekho.com is Student’s Partner, Friend ...   \n",
       "1208  India’s first socially distributed full stack ...   \n",
       "\n",
       "                                     Founders  \\\n",
       "0                 Pramod Ghadge, Shahid Memon   \n",
       "2                  Smita Deorah, Sumeet Mehta   \n",
       "3     Aniket Deb, Ankit Tomar, Sachin Agrawal   \n",
       "4                               Kapil Banwari   \n",
       "7                                 Gagan Kapur   \n",
       "...                                       ...   \n",
       "1204              Chirag Mittal, Anirudh Syal   \n",
       "1205                               Bala Sarda   \n",
       "1206               Arnav Kumar, Vaibhav Singh   \n",
       "1207                             Ruchir Arora   \n",
       "1208            Vishal Chopra, Himanshu Gupta   \n",
       "\n",
       "                                           Investor     Amount         Stage  \\\n",
       "0                       BEENEXT, Entrepreneur First  3174000.0  Pre-series A   \n",
       "2                  GSV Ventures, Westbridge Capital  3174000.0      Series D   \n",
       "3                            CDC Group, IDG Capital  3174000.0      Series C   \n",
       "4     Liberatha Kallat, Mukesh Yadav, Dinesh Nagpal  3174000.0  Pre-series A   \n",
       "7                         Inflection Point Ventures  3174000.0  Pre-series A   \n",
       "...                                             ...        ...           ...   \n",
       "1204                                Endiya Partners  3174000.0  Pre-series A   \n",
       "1205                                       IIFL AMC  3174000.0      Series D   \n",
       "1206                                   Owl Ventures  3174000.0      Series C   \n",
       "1207               Winter Capital, ETS, Man Capital  3174000.0      Series B   \n",
       "1208                 3one4 Capital, Kalaari Capital  3174000.0      Series A   \n",
       "\n",
       "      Year  \n",
       "0     2021  \n",
       "2     2021  \n",
       "3     2021  \n",
       "4     2021  \n",
       "7     2021  \n",
       "...    ...  \n",
       "1204  2021  \n",
       "1205  2021  \n",
       "1206  2021  \n",
       "1207  2021  \n",
       "1208  2021  \n",
       "\n",
       "[768 rows x 10 columns]"
      ]
     },
     "execution_count": 77,
     "metadata": {},
     "output_type": "execute_result"
    }
   ],
   "source": [
    "data_2021"
   ]
  },
  {
   "cell_type": "markdown",
   "metadata": {},
   "source": [
    "## Dataset of startup_funding 2019"
   ]
  },
  {
   "cell_type": "code",
   "execution_count": 78,
   "metadata": {},
   "outputs": [
    {
     "data": {
      "text/html": [
       "<div>\n",
       "<style scoped>\n",
       "    .dataframe tbody tr th:only-of-type {\n",
       "        vertical-align: middle;\n",
       "    }\n",
       "\n",
       "    .dataframe tbody tr th {\n",
       "        vertical-align: top;\n",
       "    }\n",
       "\n",
       "    .dataframe thead th {\n",
       "        text-align: right;\n",
       "    }\n",
       "</style>\n",
       "<table border=\"1\" class=\"dataframe\">\n",
       "  <thead>\n",
       "    <tr style=\"text-align: right;\">\n",
       "      <th></th>\n",
       "      <th>Company/Brand</th>\n",
       "      <th>Founded</th>\n",
       "      <th>HeadQuarter</th>\n",
       "      <th>Sector</th>\n",
       "      <th>What it does</th>\n",
       "      <th>Founders</th>\n",
       "      <th>Investor</th>\n",
       "      <th>Amount($)</th>\n",
       "      <th>Stage</th>\n",
       "    </tr>\n",
       "  </thead>\n",
       "  <tbody>\n",
       "    <tr>\n",
       "      <th>0</th>\n",
       "      <td>Bombay Shaving</td>\n",
       "      <td>NaN</td>\n",
       "      <td>NaN</td>\n",
       "      <td>Ecommerce</td>\n",
       "      <td>Provides a range of male grooming products</td>\n",
       "      <td>Shantanu Deshpande</td>\n",
       "      <td>Sixth Sense Ventures</td>\n",
       "      <td>$6,300,000</td>\n",
       "      <td>NaN</td>\n",
       "    </tr>\n",
       "    <tr>\n",
       "      <th>1</th>\n",
       "      <td>Ruangguru</td>\n",
       "      <td>2014.0</td>\n",
       "      <td>Mumbai</td>\n",
       "      <td>Edtech</td>\n",
       "      <td>A learning platform that provides topic-based ...</td>\n",
       "      <td>Adamas Belva Syah Devara, Iman Usman.</td>\n",
       "      <td>General Atlantic</td>\n",
       "      <td>$150,000,000</td>\n",
       "      <td>Series C</td>\n",
       "    </tr>\n",
       "    <tr>\n",
       "      <th>2</th>\n",
       "      <td>Eduisfun</td>\n",
       "      <td>NaN</td>\n",
       "      <td>Mumbai</td>\n",
       "      <td>Edtech</td>\n",
       "      <td>It aims to make learning fun via games.</td>\n",
       "      <td>Jatin Solanki</td>\n",
       "      <td>Deepak Parekh, Amitabh Bachchan, Piyush Pandey</td>\n",
       "      <td>$28,000,000</td>\n",
       "      <td>Fresh funding</td>\n",
       "    </tr>\n",
       "    <tr>\n",
       "      <th>3</th>\n",
       "      <td>HomeLane</td>\n",
       "      <td>2014.0</td>\n",
       "      <td>Chennai</td>\n",
       "      <td>Interior design</td>\n",
       "      <td>Provides interior designing solutions</td>\n",
       "      <td>Srikanth Iyer, Rama Harinath</td>\n",
       "      <td>Evolvence India Fund (EIF), Pidilite Group, FJ...</td>\n",
       "      <td>$30,000,000</td>\n",
       "      <td>Series D</td>\n",
       "    </tr>\n",
       "    <tr>\n",
       "      <th>4</th>\n",
       "      <td>Nu Genes</td>\n",
       "      <td>2004.0</td>\n",
       "      <td>Telangana</td>\n",
       "      <td>AgriTech</td>\n",
       "      <td>It is a seed company engaged in production, pr...</td>\n",
       "      <td>Narayana Reddy Punyala</td>\n",
       "      <td>Innovation in Food and Agriculture (IFA)</td>\n",
       "      <td>$6,000,000</td>\n",
       "      <td>NaN</td>\n",
       "    </tr>\n",
       "  </tbody>\n",
       "</table>\n",
       "</div>"
      ],
      "text/plain": [
       "    Company/Brand  Founded HeadQuarter           Sector  \\\n",
       "0  Bombay Shaving      NaN         NaN        Ecommerce   \n",
       "1       Ruangguru   2014.0      Mumbai           Edtech   \n",
       "2        Eduisfun      NaN      Mumbai           Edtech   \n",
       "3        HomeLane   2014.0     Chennai  Interior design   \n",
       "4        Nu Genes   2004.0   Telangana         AgriTech   \n",
       "\n",
       "                                        What it does  \\\n",
       "0         Provides a range of male grooming products   \n",
       "1  A learning platform that provides topic-based ...   \n",
       "2            It aims to make learning fun via games.   \n",
       "3              Provides interior designing solutions   \n",
       "4  It is a seed company engaged in production, pr...   \n",
       "\n",
       "                                Founders  \\\n",
       "0                     Shantanu Deshpande   \n",
       "1  Adamas Belva Syah Devara, Iman Usman.   \n",
       "2                          Jatin Solanki   \n",
       "3           Srikanth Iyer, Rama Harinath   \n",
       "4                 Narayana Reddy Punyala   \n",
       "\n",
       "                                            Investor     Amount($)  \\\n",
       "0                               Sixth Sense Ventures    $6,300,000   \n",
       "1                                   General Atlantic  $150,000,000   \n",
       "2     Deepak Parekh, Amitabh Bachchan, Piyush Pandey   $28,000,000   \n",
       "3  Evolvence India Fund (EIF), Pidilite Group, FJ...   $30,000,000   \n",
       "4           Innovation in Food and Agriculture (IFA)    $6,000,000   \n",
       "\n",
       "           Stage  \n",
       "0            NaN  \n",
       "1       Series C  \n",
       "2  Fresh funding  \n",
       "3       Series D  \n",
       "4            NaN  "
      ]
     },
     "execution_count": 78,
     "metadata": {},
     "output_type": "execute_result"
    }
   ],
   "source": [
    "data_2019 = pd.read_csv('startup_funding2019.csv')\n",
    "# Display the first few rows of the DataFrame\n",
    "data_2019.head()"
   ]
  },
  {
   "cell_type": "code",
   "execution_count": 79,
   "metadata": {},
   "outputs": [
    {
     "name": "stdout",
     "output_type": "stream",
     "text": [
      "<class 'pandas.core.frame.DataFrame'>\n",
      "RangeIndex: 89 entries, 0 to 88\n",
      "Data columns (total 9 columns):\n",
      " #   Column         Non-Null Count  Dtype  \n",
      "---  ------         --------------  -----  \n",
      " 0   Company/Brand  89 non-null     object \n",
      " 1   Founded        60 non-null     float64\n",
      " 2   HeadQuarter    70 non-null     object \n",
      " 3   Sector         84 non-null     object \n",
      " 4   What it does   89 non-null     object \n",
      " 5   Founders       86 non-null     object \n",
      " 6   Investor       89 non-null     object \n",
      " 7   Amount($)      89 non-null     object \n",
      " 8   Stage          43 non-null     object \n",
      "dtypes: float64(1), object(8)\n",
      "memory usage: 6.4+ KB\n"
     ]
    }
   ],
   "source": [
    "# Get summary information about the DataFrame\n",
    "data_2019.info()"
   ]
  },
  {
   "cell_type": "markdown",
   "metadata": {},
   "source": [
    "## Data Cleaning"
   ]
  },
  {
   "cell_type": "markdown",
   "metadata": {},
   "source": [
    "### Renaming column names"
   ]
  },
  {
   "cell_type": "code",
   "execution_count": 80,
   "metadata": {},
   "outputs": [],
   "source": [
    "# Rename columns in data_2019 DataFrame\n",
    "data_2019.rename(columns={'Company/Brand': 'Company Brand', 'Amount($)': 'Amount'}, inplace=True)"
   ]
  },
  {
   "cell_type": "code",
   "execution_count": 81,
   "metadata": {},
   "outputs": [
    {
     "data": {
      "text/plain": [
       "0"
      ]
     },
     "execution_count": 81,
     "metadata": {},
     "output_type": "execute_result"
    }
   ],
   "source": [
    "data_2019.duplicated().sum()"
   ]
  },
  {
   "cell_type": "code",
   "execution_count": 82,
   "metadata": {},
   "outputs": [
    {
     "data": {
      "text/plain": [
       "Company Brand     0\n",
       "Founded          29\n",
       "HeadQuarter      19\n",
       "Sector            5\n",
       "What it does      0\n",
       "Founders          3\n",
       "Investor          0\n",
       "Amount            0\n",
       "Stage            46\n",
       "dtype: int64"
      ]
     },
     "execution_count": 82,
     "metadata": {},
     "output_type": "execute_result"
    }
   ],
   "source": [
    "# check for missing values\n",
    "data_2019.isnull().sum()"
   ]
  },
  {
   "cell_type": "markdown",
   "metadata": {},
   "source": [
    "### Fill Founded column null values with median"
   ]
  },
  {
   "cell_type": "code",
   "execution_count": 83,
   "metadata": {},
   "outputs": [],
   "source": [
    "# This approach helps maintain the overall distribution of the data.\n",
    "median_founded_year = data_2019['Founded'].median()\n",
    "data_2019['Founded'].fillna(median_founded_year, inplace=True)"
   ]
  },
  {
   "cell_type": "code",
   "execution_count": 84,
   "metadata": {},
   "outputs": [],
   "source": [
    "# change Data Type for Founded to INT\n",
    "data_2019['Founded'] = data_2019['Founded'].astype(int)"
   ]
  },
  {
   "cell_type": "code",
   "execution_count": 85,
   "metadata": {},
   "outputs": [
    {
     "data": {
      "text/plain": [
       "Company Brand     0\n",
       "Founded           0\n",
       "HeadQuarter      19\n",
       "Sector            5\n",
       "What it does      0\n",
       "Founders          3\n",
       "Investor          0\n",
       "Amount            0\n",
       "Stage            46\n",
       "dtype: int64"
      ]
     },
     "execution_count": 85,
     "metadata": {},
     "output_type": "execute_result"
    }
   ],
   "source": [
    "# check for missing values\n",
    "data_2019.isnull().sum()"
   ]
  },
  {
   "cell_type": "markdown",
   "metadata": {},
   "source": [
    "### Fill Headquarter column null values with Unknown"
   ]
  },
  {
   "cell_type": "code",
   "execution_count": 86,
   "metadata": {},
   "outputs": [],
   "source": [
    "# fill all missing values with unknown and then drop it \n",
    "data_2019['HeadQuarter'].fillna('Unknown', inplace=True)"
   ]
  },
  {
   "cell_type": "markdown",
   "metadata": {},
   "source": [
    "### identifying Unique values in Headquarter colmun"
   ]
  },
  {
   "cell_type": "code",
   "execution_count": 87,
   "metadata": {},
   "outputs": [
    {
     "name": "stdout",
     "output_type": "stream",
     "text": [
      "['Unknown' 'Mumbai' 'Chennai' 'Telangana' 'Pune' 'Bangalore' 'Noida'\n",
      " 'Delhi' 'Ahmedabad' 'Gurugram' 'Haryana' 'Chandigarh' 'Jaipur'\n",
      " 'New Delhi' 'Surat' 'Uttar pradesh' 'Hyderabad' 'Rajasthan']\n"
     ]
    }
   ],
   "source": [
    "print(data_2019['HeadQuarter'].unique())"
   ]
  },
  {
   "cell_type": "markdown",
   "metadata": {},
   "source": [
    "### removing rows that contain 'Unknown' values in the specified columns ('HeadQuarter' and 'Stage') from the dataset stored in data_2019."
   ]
  },
  {
   "cell_type": "code",
   "execution_count": 88,
   "metadata": {},
   "outputs": [],
   "source": [
    "# Drop Unknown in HeadQuarter and Sector\n",
    "value_to_drop = 'Unknown'\n",
    "data_2019 = data_2019[data_2019['HeadQuarter'] != value_to_drop]\n",
    "\n",
    "value_to_drop = 'Unknown'\n",
    "data19 = data_2019[data_2019['Stage'] != value_to_drop]"
   ]
  },
  {
   "cell_type": "code",
   "execution_count": 89,
   "metadata": {},
   "outputs": [
    {
     "data": {
      "text/plain": [
       "4"
      ]
     },
     "execution_count": 89,
     "metadata": {},
     "output_type": "execute_result"
    }
   ],
   "source": [
    "# Identify rows with missing Sector values\n",
    "data_2019['Sector'].isnull().sum()"
   ]
  },
  {
   "cell_type": "markdown",
   "metadata": {},
   "source": [
    "### filling  null values with null"
   ]
  },
  {
   "cell_type": "code",
   "execution_count": 90,
   "metadata": {},
   "outputs": [],
   "source": [
    "# fill all missing values with unknown and then drop it \n",
    "data_2019 = data_2019.fillna('Unknown')"
   ]
  },
  {
   "cell_type": "code",
   "execution_count": 91,
   "metadata": {},
   "outputs": [],
   "source": [
    "value_to_drop = 'Unknown'\n",
    "data_2019 = data_2019[data_2019['Sector'] != value_to_drop]"
   ]
  },
  {
   "cell_type": "code",
   "execution_count": 92,
   "metadata": {},
   "outputs": [
    {
     "data": {
      "text/plain": [
       "0"
      ]
     },
     "execution_count": 92,
     "metadata": {},
     "output_type": "execute_result"
    }
   ],
   "source": [
    "# Identify rows with missing Sector values\n",
    "data_2019['Sector'].isnull().sum()"
   ]
  },
  {
   "cell_type": "markdown",
   "metadata": {},
   "source": [
    "### identifying Unique values in Sector colmun"
   ]
  },
  {
   "cell_type": "code",
   "execution_count": 93,
   "metadata": {},
   "outputs": [
    {
     "name": "stdout",
     "output_type": "stream",
     "text": [
      "['EdTech' 'AgriTech' 'FinTech' 'Crowdsourcing' 'Food & Bevarages'\n",
      " 'E-commerce' 'Tech Startup' 'Retail' 'Software company' 'IoT startup'\n",
      " 'SaaS startup' 'HealthTech' 'Marketing company' 'Retail startup'\n",
      " 'Co-working Startup' 'Gaming startup' 'Consumer appliances'\n",
      " 'Blockchain startup' 'Conversational AI platform' 'Real Estate'\n",
      " 'Finance company' 'SaaS platform' 'HR Tech' 'Gaming' 'Digital Media'\n",
      " 'AI startup' 'Dairy startup' 'Content management' 'Transportation'\n",
      " 'AI Company' 'Food and Beverages' 'Biotechnology company' 'CleanTech'\n",
      " 'PaaS startup' 'Entertainment' 'Beverages' 'Automobiles' 'EV startup'\n",
      " 'AR/VR startup' 'Recruitment startup' 'Edtech' 'Fertility tech'\n",
      " 'Cosmetics' 'FM' 'Tech platform' 'Healthcare' 'Video' 'Retail Tech'\n",
      " 'Tech company' 'Medtech' 'HeathTech' 'Agri tech' 'Fitness startup'\n",
      " 'FoodTech' 'AR platform' 'Food Industry' 'Content marketplace'\n",
      " 'Interior Design' 'Rental space' 'Soil-Tech' 'Ayurveda tech' 'Cleantech'\n",
      " 'LegalTech' 'Agriculture' 'Personal care startup'\n",
      " 'Customer service company' 'Marketing startup' 'Service industry'\n",
      " 'Social media' 'AI' 'Jewellery' 'Hospitality' 'AR startup'\n",
      " 'HR Tech startup' 'Automotive Startup' 'HealthCare' 'Publication'\n",
      " 'EdTech Startup' 'Tech' 'Finance' 'Car Trade' 'EdtTech' 'Manufacturing'\n",
      " 'Job portal' 'AI Platform' 'Home Design' 'Automation' 'Solar SaaS'\n",
      " 'WL & RAC protection' 'Social commerce' 'Home interior services'\n",
      " 'Fashion' 'Agritech startup' 'API platform' 'Deep Tech' 'Electricity'\n",
      " 'FMCG' 'Insurance Tech' 'Video personalization' 'Software Company'\n",
      " 'Biomaterial startup' 'IT' 'Investment' 'Construction' 'Dating app'\n",
      " 'Media' 'Fintech' 'Healthcare/Edtech' 'Social e-commerce'\n",
      " 'Food & Logistics' 'SpaceTech' 'Agritech' 'Interior design' 'Foodtech'\n",
      " 'Appliance' 'Food tech' 'SaaS' 'Automobile' 'Fashion Tech'\n",
      " 'Cloud Kitchen' 'Healthtech' 'Ecommerce' 'Data Intelligence' 'Co-living'\n",
      " 'Food' 'Defense tech' 'Marketplace' 'Biotech' 'Mobility/Transport'\n",
      " 'SaaS/Edtech' 'Automotive tech' 'Supply chain, Agritech' 'Logistics'\n",
      " 'Data Analytics' 'Beverage' 'IoT' 'Travel & SaaS' 'Health and Fitness'\n",
      " 'Fitness' 'Technology' 'Interior & decor' 'Spacetech' 'Automation tech'\n",
      " 'Proptech' 'AI & Data science' 'E-tail' 'Automotive' 'AI & Media'\n",
      " 'Deeptech' 'Content Marktplace' 'Hygiene' 'Transport' 'Social Commerce'\n",
      " 'Marketing' 'E-market' 'Automotive and Rentals' 'Dairy'\n",
      " 'Transport & Rentals' 'Preschool Daycare' 'B2B Agritech' 'E-connect'\n",
      " 'Deisgning' 'Automobile Technology' 'Logitech']\n"
     ]
    }
   ],
   "source": [
    "print(data_2020['Sector'].unique())"
   ]
  },
  {
   "cell_type": "markdown",
   "metadata": {},
   "source": [
    "### corrections containing key-value pairs where incorrect values are mapped to their corrected forms."
   ]
  },
  {
   "cell_type": "code",
   "execution_count": 94,
   "metadata": {},
   "outputs": [
    {
     "name": "stdout",
     "output_type": "stream",
     "text": [
      "1                      Edtech\n",
      "2                      Edtech\n",
      "3             Interior design\n",
      "4                    AgriTech\n",
      "5                  Technology\n",
      "               ...           \n",
      "84                  Infratech\n",
      "85                Hospitality\n",
      "86    Automobile & Technology\n",
      "87                 Automobile\n",
      "88                    Banking\n",
      "Name: Sector, Length: 66, dtype: object\n"
     ]
    }
   ],
   "source": [
    "# Clean the 'Sector' column\n",
    "corrections = {\n",
    "    'EdtTech': 'EdTech',\n",
    "    'SaaS\\xa0\\xa0startup': 'SaaS startup',\n",
    "    'WL & RAC protection': 'Others',  \n",
    "}\n",
    "\n",
    "# Replace incorrect values with corrected ones\n",
    "data_2019['Sector'] = data_2019['Sector'].replace(corrections)\n",
    "\n",
    "# Display cleaned data\n",
    "print(data_2019['Sector'])"
   ]
  },
  {
   "cell_type": "code",
   "execution_count": 95,
   "metadata": {},
   "outputs": [
    {
     "data": {
      "text/plain": [
       "Company Brand    0\n",
       "Founded          0\n",
       "HeadQuarter      0\n",
       "Sector           0\n",
       "What it does     0\n",
       "Founders         0\n",
       "Investor         0\n",
       "Amount           0\n",
       "Stage            0\n",
       "dtype: int64"
      ]
     },
     "execution_count": 95,
     "metadata": {},
     "output_type": "execute_result"
    }
   ],
   "source": [
    "data_2019.isna().sum()"
   ]
  },
  {
   "cell_type": "code",
   "execution_count": 96,
   "metadata": {},
   "outputs": [
    {
     "data": {
      "text/plain": [
       "0"
      ]
     },
     "execution_count": 96,
     "metadata": {},
     "output_type": "execute_result"
    }
   ],
   "source": [
    "# Identify rows with missing What_it_does values\n",
    "data_2019['What it does'].isnull().sum()"
   ]
  },
  {
   "cell_type": "code",
   "execution_count": 97,
   "metadata": {},
   "outputs": [
    {
     "data": {
      "text/plain": [
       "0"
      ]
     },
     "execution_count": 97,
     "metadata": {},
     "output_type": "execute_result"
    }
   ],
   "source": [
    "# Identify rows with missing Founders values\n",
    "data_2019['Founders'].isnull().sum() "
   ]
  },
  {
   "cell_type": "code",
   "execution_count": 98,
   "metadata": {},
   "outputs": [],
   "source": [
    "# fill Founders Colmun Unknown\n",
    "data_2019['Founders'].fillna('Unknown',inplace=True)"
   ]
  },
  {
   "cell_type": "code",
   "execution_count": 99,
   "metadata": {},
   "outputs": [
    {
     "data": {
      "text/plain": [
       "0"
      ]
     },
     "execution_count": 99,
     "metadata": {},
     "output_type": "execute_result"
    }
   ],
   "source": [
    "# Identify rows with missing Investor values\n",
    "data_2019['Investor'].isnull().sum() \n"
   ]
  },
  {
   "cell_type": "markdown",
   "metadata": {},
   "source": [
    "### identifying Unique values in investor colmun"
   ]
  },
  {
   "cell_type": "code",
   "execution_count": 100,
   "metadata": {},
   "outputs": [
    {
     "name": "stdout",
     "output_type": "stream",
     "text": [
      "['General Atlantic' 'Deepak Parekh, Amitabh Bachchan, Piyush Pandey'\n",
      " 'Evolvence India Fund (EIF), Pidilite Group, FJ Labs'\n",
      " 'Innovation in Food and Agriculture (IFA)' 'Undisclosed'\n",
      " 'Social Capital, AngelList India, Gemba Capital, Omphalos Ventures,\\xa0\\xa091springboard via Atal Innovation Mission, Niti Aayog.'\n",
      " 'Gilda VC, Art Venture, Rajeev Chitrabhanu.' 'SoftBank'\n",
      " 'Venture Catalysts' 'Avataar Ventures' 'Oikocredit' 'Titan Capital'\n",
      " 'German development finance institution DEG' 'Goldman Sachs.'\n",
      " 'Kunal Bahl, Rohit Bansal.' 'Inflection Point Ventures'\n",
      " 'Wilson Global Opportunities Fund' 'Sequoia Capita' 'IVM Intersurer'\n",
      " 'Paytm, Asian VC fund NPTK, Sabre Partners, Neoplux.'\n",
      " 'Vertex Growth Fund' 'Dinesh Dua' 'Reliance Industries'\n",
      " 'Korea Investment Partners (KIP), Samsung Venture Investment Corporation (SVIC), UOB Venture, 10 Fund, CVCapital, Zero2IPO Ventures, M&S Partners'\n",
      " 'Lightspeed and Greenoaks Capital, Sequoia India, Accel and Kae Capital'\n",
      " 'Scale Venture Partners' 'ThinkLab' 'Sajan Pillai, Muthu Krishnan,'\n",
      " 'Ruizheng Investment, Tej Kapoor, Krinshavataram Venkata Vinjamuri, Harsh Shah'\n",
      " 'Lightbox Ventures' 'Jindagi Live Angels,' 'Fintech innovation lab'\n",
      " 'Manipal Education and Medical Group (MEMG) family office, Titan Capital'\n",
      " 'Innovation in Food & Agriculture Fund (IFA Fund)' 'Trifecta Capital'\n",
      " 'Goldman Sachs' 'Amplo, FJ Labs, Rogue One Capital' 'Rajesh Ranavat'\n",
      " 'Sunil Gavaskar'\n",
      " 'Oikocredit, Caspian SME Impact Fund IV,\\xa0\\xa0Triodos Investment Management'\n",
      " 'CDC Group' 'Alteria Capital' 'GAIL (India) Ltd'\n",
      " 'Blume Ventures, Emergent Ventures'\n",
      " 'Saama Capital, DSG Consumer Partners'\n",
      " 'Pramendra Tomar, Ratish Pandey, Munish Bhatia, Sumit Aggarwal'\n",
      " 'Manta Ray Ventures Limited, Google’s Capital G, Sequoia India.'\n",
      " 'Vertex Ventures' 'Windrose Capital' 'HNI investors'\n",
      " 'Ping An Global Voyager Fund, Hillhouse Capital, Sequoia Capital'\n",
      " 'Flipkart, Eight Roads Ventures, NGP Capital, Qualcomm Ventures, Mirae Asset Naver Fund, World Bank-backed IFC'\n",
      " 'Omidyar Network, Eight Roads Ventures, GrowthStory, AngelList'\n",
      " 'Inflection Point Ventures, SucSEED Venture Partners.'\n",
      " 'Venture fund, Fireside Ventures.' 'Saravanan Adiseshan'\n",
      " 'Kia Motors, Hyundai' 'Zoomcar Inc'\n",
      " 'Gilda VC, Art Venture, Rajeev Chitrabhanu' 'US-based angel investors'\n",
      " 'Tiger Global, Nexus Venture Partners, Accel Partners, Dhruv Agarwala'\n",
      " 'MyPreferred Transformation, Avendus Finance, SoftBank' 'Sequoia Capital'\n",
      " 'Norwest Venture Partners, General Catalyst, Fundamentum, Accel Partners'\n",
      " 'TPG, Norwest Venture Partners, Evolvence India']\n"
     ]
    }
   ],
   "source": [
    "print(data_2019['Investor'].unique())"
   ]
  },
  {
   "cell_type": "code",
   "execution_count": 101,
   "metadata": {},
   "outputs": [
    {
     "data": {
      "text/plain": [
       "0"
      ]
     },
     "execution_count": 101,
     "metadata": {},
     "output_type": "execute_result"
    }
   ],
   "source": [
    "# Identify rows with missing Amount values\n",
    "data_2019['Amount'].isnull().sum() "
   ]
  },
  {
   "cell_type": "code",
   "execution_count": 102,
   "metadata": {},
   "outputs": [
    {
     "name": "stdout",
     "output_type": "stream",
     "text": [
      "['$150,000,000' '$28,000,000' '$30,000,000' '$6,000,000' 'Undisclosed'\n",
      " '$1,000,000' '$275,000,000' '$22,000,000' '$5,000,000' '$140,500'\n",
      " '$15,000,000' '$15,500,000' '$1,500,000' '$5,500,000' '$12,000,000'\n",
      " '$230,000,000' '$49,400,000' '$32,000,000' '$26,000,000' '$150,000'\n",
      " '$400,000' '$2,000,000' '$8,000,000' '$100,000' '$50,000,000'\n",
      " '$120,000,000' '$4,000,000' '$6,800,000' '$36,000,000' '$5,700,000'\n",
      " '$25,000,000' '$600,000' '$70,000,000' '$60,000,000' '$2,800,000'\n",
      " '$2,100,000' '$311,000,000' '$4,800,000' '$20,000,000' '$693,000,000'\n",
      " '$33,000,000']\n"
     ]
    }
   ],
   "source": [
    "print(data_2019['Amount'].unique())"
   ]
  },
  {
   "cell_type": "markdown",
   "metadata": {},
   "source": [
    "### eliminate dollar signs ('$') from the 'Amount' column.Removes commas from the numeric values in the 'Amount' column."
   ]
  },
  {
   "cell_type": "code",
   "execution_count": 103,
   "metadata": {},
   "outputs": [],
   "source": [
    "# Remove commas, dollar signs and change dtype to float \n",
    "data_2019['Amount'] = data_2019['Amount'].str.replace('$', '')\n",
    "# Replace commas\n",
    "data_2019['Amount'] = data_2019['Amount'].str.replace(',','')\n",
    "\n",
    "# Amount column contains some other values that need to be changed before converting to float\n",
    "# Drop Undisclosed\n",
    "value_to_drop = 'Undisclosed'\n",
    "data_2019 = data_2019[data_2019['Amount'] != value_to_drop]\n",
    "\n",
    "# Change dtype to float\n",
    "data_2019['Amount'] = data_2019['Amount'].astype(float)"
   ]
  },
  {
   "cell_type": "code",
   "execution_count": 104,
   "metadata": {},
   "outputs": [
    {
     "name": "stdout",
     "output_type": "stream",
     "text": [
      "[1.500e+08 2.800e+07 3.000e+07 6.000e+06 1.000e+06 2.750e+08 2.200e+07\n",
      " 5.000e+06 1.405e+05 1.500e+07 1.550e+07 1.500e+06 5.500e+06 1.200e+07\n",
      " 2.300e+08 4.940e+07 3.200e+07 2.600e+07 1.500e+05 4.000e+05 2.000e+06\n",
      " 8.000e+06 1.000e+05 5.000e+07 1.200e+08 4.000e+06 6.800e+06 3.600e+07\n",
      " 5.700e+06 2.500e+07 6.000e+05 7.000e+07 6.000e+07 2.800e+06 2.100e+06\n",
      " 3.110e+08 4.800e+06 2.000e+07 6.930e+08 3.300e+07]\n"
     ]
    }
   ],
   "source": [
    "print(data_2019['Amount'].unique())"
   ]
  },
  {
   "cell_type": "code",
   "execution_count": 105,
   "metadata": {},
   "outputs": [
    {
     "data": {
      "text/plain": [
       "0"
      ]
     },
     "execution_count": 105,
     "metadata": {},
     "output_type": "execute_result"
    }
   ],
   "source": [
    "# Identify rows with missing Amount values\n",
    "data_2019['Stage'].isnull().sum() "
   ]
  },
  {
   "cell_type": "code",
   "execution_count": 106,
   "metadata": {},
   "outputs": [
    {
     "name": "stdout",
     "output_type": "stream",
     "text": [
      "['Series C' 'Fresh funding' 'Series D' 'Unknown' 'Pre series A' 'Series G'\n",
      " 'Series A' 'Series B' 'Seed funding' 'Series E' 'Series B+'\n",
      " 'Pre-series A']\n"
     ]
    }
   ],
   "source": [
    "print(data_2019['Stage'].unique())"
   ]
  },
  {
   "cell_type": "markdown",
   "metadata": {},
   "source": [
    "### reassigns or consolidates different stage labels into a more uniform set of stage names within the 'Stage' column."
   ]
  },
  {
   "cell_type": "code",
   "execution_count": 107,
   "metadata": {},
   "outputs": [],
   "source": [
    "replacement2 = {\n",
    "    'Fresh funding' : 'Pre-series A',\n",
    "    'Pre series A' : 'Pre-series A',\n",
    "    'Seed fund' : 'Pre-series A',\n",
    "    'Seed funding' : 'Pre-series A',\n",
    "    'Post series A' : 'Series B',\n",
    "    'Series B+' : 'Series B',\n",
    "    'Seed round' : 'Pre-series A',\n",
    "}\n",
    "\n",
    "data_2019['Stage'] = data_2019['Stage'].replace(replacement2)\n"
   ]
  },
  {
   "cell_type": "code",
   "execution_count": 108,
   "metadata": {},
   "outputs": [
    {
     "name": "stdout",
     "output_type": "stream",
     "text": [
      "['Series C' 'Pre-series A' 'Series D' 'Unknown' 'Series G' 'Series A'\n",
      " 'Series B' 'Series E']\n"
     ]
    }
   ],
   "source": [
    "print(data_2019['Stage'].unique())"
   ]
  },
  {
   "cell_type": "code",
   "execution_count": 109,
   "metadata": {},
   "outputs": [],
   "source": [
    "# fill all missing values with unknown and then drop it \n",
    "data_2019['Stage'].fillna('Unknown', inplace=True)"
   ]
  },
  {
   "cell_type": "code",
   "execution_count": 110,
   "metadata": {},
   "outputs": [],
   "source": [
    "# Drop Unknown in HeadQuarter and Sector\n",
    "value_to_drop = 'Unknown'\n",
    "data_2019 = data_2019[data_2019['HeadQuarter'] != value_to_drop]\n",
    "\n",
    "value_to_drop = 'Unknown'\n",
    "data_2019 = data_2019[data_2019['Stage'] != value_to_drop]"
   ]
  },
  {
   "cell_type": "code",
   "execution_count": 111,
   "metadata": {},
   "outputs": [
    {
     "name": "stdout",
     "output_type": "stream",
     "text": [
      "['Series C' 'Pre-series A' 'Series D' 'Series G' 'Series A' 'Series B'\n",
      " 'Series E']\n"
     ]
    }
   ],
   "source": [
    "print(data_2019['Stage'].unique())"
   ]
  },
  {
   "cell_type": "markdown",
   "metadata": {},
   "source": [
    "### adding new colmun year for 2019 for analysis"
   ]
  },
  {
   "cell_type": "code",
   "execution_count": 112,
   "metadata": {},
   "outputs": [],
   "source": [
    "data_2019['Year'] = 2019"
   ]
  },
  {
   "cell_type": "code",
   "execution_count": 113,
   "metadata": {},
   "outputs": [
    {
     "data": {
      "text/html": [
       "<div>\n",
       "<style scoped>\n",
       "    .dataframe tbody tr th:only-of-type {\n",
       "        vertical-align: middle;\n",
       "    }\n",
       "\n",
       "    .dataframe tbody tr th {\n",
       "        vertical-align: top;\n",
       "    }\n",
       "\n",
       "    .dataframe thead th {\n",
       "        text-align: right;\n",
       "    }\n",
       "</style>\n",
       "<table border=\"1\" class=\"dataframe\">\n",
       "  <thead>\n",
       "    <tr style=\"text-align: right;\">\n",
       "      <th></th>\n",
       "      <th>Company Brand</th>\n",
       "      <th>Founded</th>\n",
       "      <th>HeadQuarter</th>\n",
       "      <th>Sector</th>\n",
       "      <th>What it does</th>\n",
       "      <th>Founders</th>\n",
       "      <th>Investor</th>\n",
       "      <th>Amount</th>\n",
       "      <th>Stage</th>\n",
       "      <th>Year</th>\n",
       "    </tr>\n",
       "  </thead>\n",
       "  <tbody>\n",
       "    <tr>\n",
       "      <th>1</th>\n",
       "      <td>Ruangguru</td>\n",
       "      <td>2014</td>\n",
       "      <td>Mumbai</td>\n",
       "      <td>Edtech</td>\n",
       "      <td>A learning platform that provides topic-based ...</td>\n",
       "      <td>Adamas Belva Syah Devara, Iman Usman.</td>\n",
       "      <td>General Atlantic</td>\n",
       "      <td>150000000.0</td>\n",
       "      <td>Series C</td>\n",
       "      <td>2019</td>\n",
       "    </tr>\n",
       "    <tr>\n",
       "      <th>2</th>\n",
       "      <td>Eduisfun</td>\n",
       "      <td>2015</td>\n",
       "      <td>Mumbai</td>\n",
       "      <td>Edtech</td>\n",
       "      <td>It aims to make learning fun via games.</td>\n",
       "      <td>Jatin Solanki</td>\n",
       "      <td>Deepak Parekh, Amitabh Bachchan, Piyush Pandey</td>\n",
       "      <td>28000000.0</td>\n",
       "      <td>Pre-series A</td>\n",
       "      <td>2019</td>\n",
       "    </tr>\n",
       "    <tr>\n",
       "      <th>3</th>\n",
       "      <td>HomeLane</td>\n",
       "      <td>2014</td>\n",
       "      <td>Chennai</td>\n",
       "      <td>Interior design</td>\n",
       "      <td>Provides interior designing solutions</td>\n",
       "      <td>Srikanth Iyer, Rama Harinath</td>\n",
       "      <td>Evolvence India Fund (EIF), Pidilite Group, FJ...</td>\n",
       "      <td>30000000.0</td>\n",
       "      <td>Series D</td>\n",
       "      <td>2019</td>\n",
       "    </tr>\n",
       "    <tr>\n",
       "      <th>7</th>\n",
       "      <td>Kratikal</td>\n",
       "      <td>2013</td>\n",
       "      <td>Noida</td>\n",
       "      <td>Technology</td>\n",
       "      <td>It is a product-based cybersecurity solutions ...</td>\n",
       "      <td>Pavan Kushwaha, Paratosh Bansal, Dip Jung Thapa</td>\n",
       "      <td>Gilda VC, Art Venture, Rajeev Chitrabhanu.</td>\n",
       "      <td>1000000.0</td>\n",
       "      <td>Pre-series A</td>\n",
       "      <td>2019</td>\n",
       "    </tr>\n",
       "    <tr>\n",
       "      <th>9</th>\n",
       "      <td>Lenskart</td>\n",
       "      <td>2010</td>\n",
       "      <td>Delhi</td>\n",
       "      <td>E-commerce</td>\n",
       "      <td>It is a eyewear company</td>\n",
       "      <td>Peyush Bansal, Amit Chaudhary, Sumeet Kapahi</td>\n",
       "      <td>SoftBank</td>\n",
       "      <td>275000000.0</td>\n",
       "      <td>Series G</td>\n",
       "      <td>2019</td>\n",
       "    </tr>\n",
       "    <tr>\n",
       "      <th>12</th>\n",
       "      <td>Kaleidofin</td>\n",
       "      <td>2018</td>\n",
       "      <td>Chennai</td>\n",
       "      <td>Fintech</td>\n",
       "      <td>Platform that provides complete financial solu...</td>\n",
       "      <td>Puneet Gupta, Sucharita Mukherjee</td>\n",
       "      <td>Oikocredit</td>\n",
       "      <td>5000000.0</td>\n",
       "      <td>Series A</td>\n",
       "      <td>2019</td>\n",
       "    </tr>\n",
       "    <tr>\n",
       "      <th>17</th>\n",
       "      <td>Zest Money</td>\n",
       "      <td>2015</td>\n",
       "      <td>Bangalore</td>\n",
       "      <td>Fintech</td>\n",
       "      <td>Uses AI to do risk profiling of e-commerce con...</td>\n",
       "      <td>Chapman, Priya Sharma, Ashish Anantharaman</td>\n",
       "      <td>Goldman Sachs.</td>\n",
       "      <td>15000000.0</td>\n",
       "      <td>Series B</td>\n",
       "      <td>2019</td>\n",
       "    </tr>\n",
       "    <tr>\n",
       "      <th>25</th>\n",
       "      <td>Seekify</td>\n",
       "      <td>2019</td>\n",
       "      <td>Delhi</td>\n",
       "      <td>SaaS</td>\n",
       "      <td>Customer Experience (CX) Automation platform</td>\n",
       "      <td>Arihant Jain, Ajeet Kushwaha</td>\n",
       "      <td>Sequoia Capita</td>\n",
       "      <td>1500000.0</td>\n",
       "      <td>Pre-series A</td>\n",
       "      <td>2019</td>\n",
       "    </tr>\n",
       "    <tr>\n",
       "      <th>26</th>\n",
       "      <td>Toffee Insurance</td>\n",
       "      <td>2017</td>\n",
       "      <td>Haryana</td>\n",
       "      <td>Insurance technology</td>\n",
       "      <td>Provides variety of insurance plans and policies</td>\n",
       "      <td>Nishant Jain, Rohan Kumar</td>\n",
       "      <td>IVM Intersurer</td>\n",
       "      <td>5500000.0</td>\n",
       "      <td>Series A</td>\n",
       "      <td>2019</td>\n",
       "    </tr>\n",
       "    <tr>\n",
       "      <th>28</th>\n",
       "      <td>HungerBox</td>\n",
       "      <td>2015</td>\n",
       "      <td>Bangalore</td>\n",
       "      <td>Foodtech</td>\n",
       "      <td>Offers B2B tech platform to corporates, aimed ...</td>\n",
       "      <td>Sandipan Mitra, Uttam Kumar</td>\n",
       "      <td>Paytm, Asian VC fund NPTK, Sabre Partners, Neo...</td>\n",
       "      <td>12000000.0</td>\n",
       "      <td>Series C</td>\n",
       "      <td>2019</td>\n",
       "    </tr>\n",
       "    <tr>\n",
       "      <th>30</th>\n",
       "      <td>Licious</td>\n",
       "      <td>2015</td>\n",
       "      <td>Bangalore</td>\n",
       "      <td>Food</td>\n",
       "      <td>Online meat shop</td>\n",
       "      <td>Vivek Gupta, Abhay Hanjura</td>\n",
       "      <td>Vertex Growth Fund</td>\n",
       "      <td>30000000.0</td>\n",
       "      <td>Series E</td>\n",
       "      <td>2019</td>\n",
       "    </tr>\n",
       "    <tr>\n",
       "      <th>35</th>\n",
       "      <td>HappyEasyGo</td>\n",
       "      <td>2017</td>\n",
       "      <td>Gurugram</td>\n",
       "      <td>Travel</td>\n",
       "      <td>Online flight booking</td>\n",
       "      <td>Vivek Prabhakar, Boris Zha</td>\n",
       "      <td>Korea Investment Partners (KIP), Samsung Ventu...</td>\n",
       "      <td>49400000.0</td>\n",
       "      <td>Series B</td>\n",
       "      <td>2019</td>\n",
       "    </tr>\n",
       "    <tr>\n",
       "      <th>36</th>\n",
       "      <td>Zetwerk</td>\n",
       "      <td>2018</td>\n",
       "      <td>Bangalore</td>\n",
       "      <td>Manufacturing</td>\n",
       "      <td>Provides facilities to get products manufactured.</td>\n",
       "      <td>Amit Acharya, Srinath Ramakkrushnan</td>\n",
       "      <td>Lightspeed and Greenoaks Capital, Sequoia Indi...</td>\n",
       "      <td>32000000.0</td>\n",
       "      <td>Series B</td>\n",
       "      <td>2019</td>\n",
       "    </tr>\n",
       "    <tr>\n",
       "      <th>37</th>\n",
       "      <td>Observe.AI</td>\n",
       "      <td>2015</td>\n",
       "      <td>Bangalore</td>\n",
       "      <td>AI</td>\n",
       "      <td>Creates a voice AI platform</td>\n",
       "      <td>Swapnil</td>\n",
       "      <td>Scale Venture Partners</td>\n",
       "      <td>26000000.0</td>\n",
       "      <td>Series A</td>\n",
       "      <td>2019</td>\n",
       "    </tr>\n",
       "    <tr>\n",
       "      <th>38</th>\n",
       "      <td>Freshokartz</td>\n",
       "      <td>2016</td>\n",
       "      <td>Jaipur</td>\n",
       "      <td>E-marketplace</td>\n",
       "      <td>Online fruits and vegetables delivery company</td>\n",
       "      <td>Rajendra Lora</td>\n",
       "      <td>ThinkLab</td>\n",
       "      <td>150000.0</td>\n",
       "      <td>Pre-series A</td>\n",
       "      <td>2019</td>\n",
       "    </tr>\n",
       "    <tr>\n",
       "      <th>40</th>\n",
       "      <td>Trell</td>\n",
       "      <td>2016</td>\n",
       "      <td>Bangalore</td>\n",
       "      <td>Social Media</td>\n",
       "      <td>Blogging platform that enables people to creat...</td>\n",
       "      <td>Pulkit Agrawal, Prashant Sachan, Arun Lodhi, B...</td>\n",
       "      <td>Ruizheng Investment, Tej Kapoor, Krinshavatara...</td>\n",
       "      <td>2000000.0</td>\n",
       "      <td>Pre-series A</td>\n",
       "      <td>2019</td>\n",
       "    </tr>\n",
       "    <tr>\n",
       "      <th>46</th>\n",
       "      <td>Rein Games</td>\n",
       "      <td>2015</td>\n",
       "      <td>Noida</td>\n",
       "      <td>Technology</td>\n",
       "      <td>It develops, publishes and distributes games a...</td>\n",
       "      <td>Vaibhav Gupta, Himanshu Devra, Pranav Chaudhar...</td>\n",
       "      <td>Manipal Education and Medical Group (MEMG) fam...</td>\n",
       "      <td>50000000.0</td>\n",
       "      <td>Pre-series A</td>\n",
       "      <td>2019</td>\n",
       "    </tr>\n",
       "    <tr>\n",
       "      <th>47</th>\n",
       "      <td>Ecozen</td>\n",
       "      <td>2015</td>\n",
       "      <td>Pune</td>\n",
       "      <td>AgriTech</td>\n",
       "      <td>It develops technology-enabled products to str...</td>\n",
       "      <td>Devendra Gupta, Prateek Singhal, Vivek Pandey</td>\n",
       "      <td>Innovation in Food &amp; Agriculture Fund (IFA Fund)</td>\n",
       "      <td>6000000.0</td>\n",
       "      <td>Series A</td>\n",
       "      <td>2019</td>\n",
       "    </tr>\n",
       "    <tr>\n",
       "      <th>50</th>\n",
       "      <td>Purplle</td>\n",
       "      <td>2012</td>\n",
       "      <td>Mumbai</td>\n",
       "      <td>Cosmetics</td>\n",
       "      <td>Online makeup and beauty products retailer</td>\n",
       "      <td>Manish Taneja, Rahul Dash</td>\n",
       "      <td>Goldman Sachs</td>\n",
       "      <td>30000000.0</td>\n",
       "      <td>Series C</td>\n",
       "      <td>2019</td>\n",
       "    </tr>\n",
       "    <tr>\n",
       "      <th>51</th>\n",
       "      <td>Freightwalla</td>\n",
       "      <td>2017</td>\n",
       "      <td>Mumbai</td>\n",
       "      <td>B2B</td>\n",
       "      <td>Provides digital platform for businesses to pl...</td>\n",
       "      <td>Sanjay Bhatia, Bharat Tanvi, Punit Java</td>\n",
       "      <td>Amplo, FJ Labs, Rogue One Capital</td>\n",
       "      <td>4000000.0</td>\n",
       "      <td>Series A</td>\n",
       "      <td>2019</td>\n",
       "    </tr>\n",
       "    <tr>\n",
       "      <th>53</th>\n",
       "      <td>eJOHRI</td>\n",
       "      <td>2015</td>\n",
       "      <td>Mumbai</td>\n",
       "      <td>Jewellery</td>\n",
       "      <td>Omnichannel marketplace for gems and jewellery</td>\n",
       "      <td>Jignesh Mehta, Shailen Mehta</td>\n",
       "      <td>Rajesh Ranavat</td>\n",
       "      <td>1000000.0</td>\n",
       "      <td>Pre-series A</td>\n",
       "      <td>2019</td>\n",
       "    </tr>\n",
       "    <tr>\n",
       "      <th>64</th>\n",
       "      <td>Moms Co</td>\n",
       "      <td>2015</td>\n",
       "      <td>New Delhi</td>\n",
       "      <td>E-commerce</td>\n",
       "      <td>It is into mother and baby care-focused consum...</td>\n",
       "      <td>Malika Sadani</td>\n",
       "      <td>Saama Capital, DSG Consumer Partners</td>\n",
       "      <td>5000000.0</td>\n",
       "      <td>Series B</td>\n",
       "      <td>2019</td>\n",
       "    </tr>\n",
       "    <tr>\n",
       "      <th>68</th>\n",
       "      <td>Licious</td>\n",
       "      <td>2015</td>\n",
       "      <td>Bangalore</td>\n",
       "      <td>Food</td>\n",
       "      <td>Online meat shop</td>\n",
       "      <td>Vivek Gupta, Abhay Hanjura</td>\n",
       "      <td>Vertex Ventures</td>\n",
       "      <td>25000000.0</td>\n",
       "      <td>Series D</td>\n",
       "      <td>2019</td>\n",
       "    </tr>\n",
       "    <tr>\n",
       "      <th>72</th>\n",
       "      <td>CarDekho</td>\n",
       "      <td>2008</td>\n",
       "      <td>Jaipur</td>\n",
       "      <td>Automobile</td>\n",
       "      <td>Enables people to buy and sell new/old cars.</td>\n",
       "      <td>Amit Jain</td>\n",
       "      <td>Ping An Global Voyager Fund, Hillhouse Capital...</td>\n",
       "      <td>70000000.0</td>\n",
       "      <td>Series D</td>\n",
       "      <td>2019</td>\n",
       "    </tr>\n",
       "    <tr>\n",
       "      <th>73</th>\n",
       "      <td>Shadowfax</td>\n",
       "      <td>2015</td>\n",
       "      <td>Bangalore</td>\n",
       "      <td>Logistics</td>\n",
       "      <td>A platform for delivery services</td>\n",
       "      <td>Abhishek Bansal, Vaibhav Khandelwal</td>\n",
       "      <td>Flipkart, Eight Roads Ventures, NGP Capital, Q...</td>\n",
       "      <td>60000000.0</td>\n",
       "      <td>Series D</td>\n",
       "      <td>2019</td>\n",
       "    </tr>\n",
       "    <tr>\n",
       "      <th>78</th>\n",
       "      <td>IndyFint</td>\n",
       "      <td>2019</td>\n",
       "      <td>Bangalore</td>\n",
       "      <td>Virtual Banking</td>\n",
       "      <td>It helps lenders to directly provide short-ter...</td>\n",
       "      <td>Paddy Padmanabhan</td>\n",
       "      <td>Saravanan Adiseshan</td>\n",
       "      <td>2100000.0</td>\n",
       "      <td>Series A</td>\n",
       "      <td>2019</td>\n",
       "    </tr>\n",
       "    <tr>\n",
       "      <th>82</th>\n",
       "      <td>Kratikal</td>\n",
       "      <td>2015</td>\n",
       "      <td>Uttar pradesh</td>\n",
       "      <td>Technology</td>\n",
       "      <td>Provides cyber security solutions</td>\n",
       "      <td>Pavan Kushwaha</td>\n",
       "      <td>Gilda VC, Art Venture, Rajeev Chitrabhanu</td>\n",
       "      <td>1000000.0</td>\n",
       "      <td>Pre-series A</td>\n",
       "      <td>2019</td>\n",
       "    </tr>\n",
       "    <tr>\n",
       "      <th>83</th>\n",
       "      <td>Froogal</td>\n",
       "      <td>2015</td>\n",
       "      <td>Hyderabad</td>\n",
       "      <td>Marketing &amp; Customer loyalty</td>\n",
       "      <td>A cloud based Customer Loyalty &amp; Engagement Pl...</td>\n",
       "      <td>Jeevan Chowdary M, Harshit Harchani</td>\n",
       "      <td>US-based angel investors</td>\n",
       "      <td>1000000.0</td>\n",
       "      <td>Pre-series A</td>\n",
       "      <td>2019</td>\n",
       "    </tr>\n",
       "    <tr>\n",
       "      <th>84</th>\n",
       "      <td>Infra.Market</td>\n",
       "      <td>2015</td>\n",
       "      <td>Mumbai</td>\n",
       "      <td>Infratech</td>\n",
       "      <td>It connects client requirements to their suppl...</td>\n",
       "      <td>Aaditya Sharda, Souvik Sengupta</td>\n",
       "      <td>Tiger Global, Nexus Venture Partners, Accel Pa...</td>\n",
       "      <td>20000000.0</td>\n",
       "      <td>Series A</td>\n",
       "      <td>2019</td>\n",
       "    </tr>\n",
       "    <tr>\n",
       "      <th>86</th>\n",
       "      <td>GoMechanic</td>\n",
       "      <td>2016</td>\n",
       "      <td>Delhi</td>\n",
       "      <td>Automobile &amp; Technology</td>\n",
       "      <td>Find automobile repair and maintenance service...</td>\n",
       "      <td>Amit Bhasin, Kushal Karwa, Nitin Rana, Rishabh...</td>\n",
       "      <td>Sequoia Capital</td>\n",
       "      <td>5000000.0</td>\n",
       "      <td>Series B</td>\n",
       "      <td>2019</td>\n",
       "    </tr>\n",
       "  </tbody>\n",
       "</table>\n",
       "</div>"
      ],
      "text/plain": [
       "       Company Brand  Founded    HeadQuarter                        Sector  \\\n",
       "1          Ruangguru     2014         Mumbai                        Edtech   \n",
       "2           Eduisfun     2015         Mumbai                        Edtech   \n",
       "3           HomeLane     2014        Chennai               Interior design   \n",
       "7           Kratikal     2013          Noida                    Technology   \n",
       "9           Lenskart     2010          Delhi                    E-commerce   \n",
       "12        Kaleidofin     2018        Chennai                       Fintech   \n",
       "17        Zest Money     2015      Bangalore                       Fintech   \n",
       "25           Seekify     2019          Delhi                          SaaS   \n",
       "26  Toffee Insurance     2017        Haryana          Insurance technology   \n",
       "28         HungerBox     2015      Bangalore                      Foodtech   \n",
       "30           Licious     2015      Bangalore                          Food   \n",
       "35       HappyEasyGo     2017       Gurugram                        Travel   \n",
       "36           Zetwerk     2018      Bangalore                 Manufacturing   \n",
       "37        Observe.AI     2015      Bangalore                            AI   \n",
       "38       Freshokartz     2016         Jaipur                 E-marketplace   \n",
       "40             Trell     2016      Bangalore                  Social Media   \n",
       "46        Rein Games     2015          Noida                    Technology   \n",
       "47            Ecozen     2015           Pune                      AgriTech   \n",
       "50           Purplle     2012         Mumbai                     Cosmetics   \n",
       "51      Freightwalla     2017         Mumbai                           B2B   \n",
       "53            eJOHRI     2015         Mumbai                     Jewellery   \n",
       "64           Moms Co     2015      New Delhi                    E-commerce   \n",
       "68           Licious     2015      Bangalore                          Food   \n",
       "72          CarDekho     2008         Jaipur                    Automobile   \n",
       "73         Shadowfax     2015      Bangalore                     Logistics   \n",
       "78          IndyFint     2019      Bangalore               Virtual Banking   \n",
       "82          Kratikal     2015  Uttar pradesh                    Technology   \n",
       "83           Froogal     2015      Hyderabad  Marketing & Customer loyalty   \n",
       "84      Infra.Market     2015         Mumbai                     Infratech   \n",
       "86        GoMechanic     2016          Delhi       Automobile & Technology   \n",
       "\n",
       "                                         What it does  \\\n",
       "1   A learning platform that provides topic-based ...   \n",
       "2             It aims to make learning fun via games.   \n",
       "3               Provides interior designing solutions   \n",
       "7   It is a product-based cybersecurity solutions ...   \n",
       "9                             It is a eyewear company   \n",
       "12  Platform that provides complete financial solu...   \n",
       "17  Uses AI to do risk profiling of e-commerce con...   \n",
       "25       Customer Experience (CX) Automation platform   \n",
       "26   Provides variety of insurance plans and policies   \n",
       "28  Offers B2B tech platform to corporates, aimed ...   \n",
       "30                                   Online meat shop   \n",
       "35                              Online flight booking   \n",
       "36  Provides facilities to get products manufactured.   \n",
       "37                        Creates a voice AI platform   \n",
       "38      Online fruits and vegetables delivery company   \n",
       "40  Blogging platform that enables people to creat...   \n",
       "46  It develops, publishes and distributes games a...   \n",
       "47  It develops technology-enabled products to str...   \n",
       "50         Online makeup and beauty products retailer   \n",
       "51  Provides digital platform for businesses to pl...   \n",
       "53     Omnichannel marketplace for gems and jewellery   \n",
       "64  It is into mother and baby care-focused consum...   \n",
       "68                                   Online meat shop   \n",
       "72       Enables people to buy and sell new/old cars.   \n",
       "73                   A platform for delivery services   \n",
       "78  It helps lenders to directly provide short-ter...   \n",
       "82                  Provides cyber security solutions   \n",
       "83  A cloud based Customer Loyalty & Engagement Pl...   \n",
       "84  It connects client requirements to their suppl...   \n",
       "86  Find automobile repair and maintenance service...   \n",
       "\n",
       "                                             Founders  \\\n",
       "1               Adamas Belva Syah Devara, Iman Usman.   \n",
       "2                                       Jatin Solanki   \n",
       "3                        Srikanth Iyer, Rama Harinath   \n",
       "7     Pavan Kushwaha, Paratosh Bansal, Dip Jung Thapa   \n",
       "9        Peyush Bansal, Amit Chaudhary, Sumeet Kapahi   \n",
       "12                  Puneet Gupta, Sucharita Mukherjee   \n",
       "17         Chapman, Priya Sharma, Ashish Anantharaman   \n",
       "25                       Arihant Jain, Ajeet Kushwaha   \n",
       "26                          Nishant Jain, Rohan Kumar   \n",
       "28                        Sandipan Mitra, Uttam Kumar   \n",
       "30                         Vivek Gupta, Abhay Hanjura   \n",
       "35                         Vivek Prabhakar, Boris Zha   \n",
       "36                Amit Acharya, Srinath Ramakkrushnan   \n",
       "37                                            Swapnil   \n",
       "38                                      Rajendra Lora   \n",
       "40  Pulkit Agrawal, Prashant Sachan, Arun Lodhi, B...   \n",
       "46  Vaibhav Gupta, Himanshu Devra, Pranav Chaudhar...   \n",
       "47      Devendra Gupta, Prateek Singhal, Vivek Pandey   \n",
       "50                          Manish Taneja, Rahul Dash   \n",
       "51            Sanjay Bhatia, Bharat Tanvi, Punit Java   \n",
       "53                       Jignesh Mehta, Shailen Mehta   \n",
       "64                                      Malika Sadani   \n",
       "68                         Vivek Gupta, Abhay Hanjura   \n",
       "72                                          Amit Jain   \n",
       "73                Abhishek Bansal, Vaibhav Khandelwal   \n",
       "78                                  Paddy Padmanabhan   \n",
       "82                                     Pavan Kushwaha   \n",
       "83                Jeevan Chowdary M, Harshit Harchani   \n",
       "84                    Aaditya Sharda, Souvik Sengupta   \n",
       "86  Amit Bhasin, Kushal Karwa, Nitin Rana, Rishabh...   \n",
       "\n",
       "                                             Investor       Amount  \\\n",
       "1                                    General Atlantic  150000000.0   \n",
       "2      Deepak Parekh, Amitabh Bachchan, Piyush Pandey   28000000.0   \n",
       "3   Evolvence India Fund (EIF), Pidilite Group, FJ...   30000000.0   \n",
       "7          Gilda VC, Art Venture, Rajeev Chitrabhanu.    1000000.0   \n",
       "9                                            SoftBank  275000000.0   \n",
       "12                                         Oikocredit    5000000.0   \n",
       "17                                     Goldman Sachs.   15000000.0   \n",
       "25                                     Sequoia Capita    1500000.0   \n",
       "26                                     IVM Intersurer    5500000.0   \n",
       "28  Paytm, Asian VC fund NPTK, Sabre Partners, Neo...   12000000.0   \n",
       "30                                 Vertex Growth Fund   30000000.0   \n",
       "35  Korea Investment Partners (KIP), Samsung Ventu...   49400000.0   \n",
       "36  Lightspeed and Greenoaks Capital, Sequoia Indi...   32000000.0   \n",
       "37                             Scale Venture Partners   26000000.0   \n",
       "38                                           ThinkLab     150000.0   \n",
       "40  Ruizheng Investment, Tej Kapoor, Krinshavatara...    2000000.0   \n",
       "46  Manipal Education and Medical Group (MEMG) fam...   50000000.0   \n",
       "47   Innovation in Food & Agriculture Fund (IFA Fund)    6000000.0   \n",
       "50                                      Goldman Sachs   30000000.0   \n",
       "51                  Amplo, FJ Labs, Rogue One Capital    4000000.0   \n",
       "53                                     Rajesh Ranavat    1000000.0   \n",
       "64               Saama Capital, DSG Consumer Partners    5000000.0   \n",
       "68                                    Vertex Ventures   25000000.0   \n",
       "72  Ping An Global Voyager Fund, Hillhouse Capital...   70000000.0   \n",
       "73  Flipkart, Eight Roads Ventures, NGP Capital, Q...   60000000.0   \n",
       "78                                Saravanan Adiseshan    2100000.0   \n",
       "82          Gilda VC, Art Venture, Rajeev Chitrabhanu    1000000.0   \n",
       "83                           US-based angel investors    1000000.0   \n",
       "84  Tiger Global, Nexus Venture Partners, Accel Pa...   20000000.0   \n",
       "86                                    Sequoia Capital    5000000.0   \n",
       "\n",
       "           Stage  Year  \n",
       "1       Series C  2019  \n",
       "2   Pre-series A  2019  \n",
       "3       Series D  2019  \n",
       "7   Pre-series A  2019  \n",
       "9       Series G  2019  \n",
       "12      Series A  2019  \n",
       "17      Series B  2019  \n",
       "25  Pre-series A  2019  \n",
       "26      Series A  2019  \n",
       "28      Series C  2019  \n",
       "30      Series E  2019  \n",
       "35      Series B  2019  \n",
       "36      Series B  2019  \n",
       "37      Series A  2019  \n",
       "38  Pre-series A  2019  \n",
       "40  Pre-series A  2019  \n",
       "46  Pre-series A  2019  \n",
       "47      Series A  2019  \n",
       "50      Series C  2019  \n",
       "51      Series A  2019  \n",
       "53  Pre-series A  2019  \n",
       "64      Series B  2019  \n",
       "68      Series D  2019  \n",
       "72      Series D  2019  \n",
       "73      Series D  2019  \n",
       "78      Series A  2019  \n",
       "82  Pre-series A  2019  \n",
       "83  Pre-series A  2019  \n",
       "84      Series A  2019  \n",
       "86      Series B  2019  "
      ]
     },
     "execution_count": 113,
     "metadata": {},
     "output_type": "execute_result"
    }
   ],
   "source": [
    "data_2019"
   ]
  },
  {
   "cell_type": "code",
   "execution_count": 114,
   "metadata": {},
   "outputs": [
    {
     "name": "stdout",
     "output_type": "stream",
     "text": [
      "<class 'pandas.core.frame.DataFrame'>\n",
      "Index: 30 entries, 1 to 86\n",
      "Data columns (total 10 columns):\n",
      " #   Column         Non-Null Count  Dtype  \n",
      "---  ------         --------------  -----  \n",
      " 0   Company Brand  30 non-null     object \n",
      " 1   Founded        30 non-null     int32  \n",
      " 2   HeadQuarter    30 non-null     object \n",
      " 3   Sector         30 non-null     object \n",
      " 4   What it does   30 non-null     object \n",
      " 5   Founders       30 non-null     object \n",
      " 6   Investor       30 non-null     object \n",
      " 7   Amount         30 non-null     float64\n",
      " 8   Stage          30 non-null     object \n",
      " 9   Year           30 non-null     int64  \n",
      "dtypes: float64(1), int32(1), int64(1), object(7)\n",
      "memory usage: 2.5+ KB\n"
     ]
    }
   ],
   "source": [
    "# fill all missing values with unknown and then drop it \n",
    "data_2019 = data_2019.fillna('Unknown')\n",
    "value_to_drop = 'Unknown'\n",
    "data_2019 = data_2019[data_2019['Sector'] != value_to_drop]\n",
    "data_2019.info()"
   ]
  },
  {
   "cell_type": "markdown",
   "metadata": {},
   "source": [
    "## Dataset of startup_funding 2018"
   ]
  },
  {
   "cell_type": "code",
   "execution_count": 115,
   "metadata": {},
   "outputs": [
    {
     "data": {
      "text/html": [
       "<div>\n",
       "<style scoped>\n",
       "    .dataframe tbody tr th:only-of-type {\n",
       "        vertical-align: middle;\n",
       "    }\n",
       "\n",
       "    .dataframe tbody tr th {\n",
       "        vertical-align: top;\n",
       "    }\n",
       "\n",
       "    .dataframe thead th {\n",
       "        text-align: right;\n",
       "    }\n",
       "</style>\n",
       "<table border=\"1\" class=\"dataframe\">\n",
       "  <thead>\n",
       "    <tr style=\"text-align: right;\">\n",
       "      <th></th>\n",
       "      <th>Company Name</th>\n",
       "      <th>Industry</th>\n",
       "      <th>Round/Series</th>\n",
       "      <th>Amount</th>\n",
       "      <th>Location</th>\n",
       "      <th>About Company</th>\n",
       "    </tr>\n",
       "  </thead>\n",
       "  <tbody>\n",
       "    <tr>\n",
       "      <th>0</th>\n",
       "      <td>TheCollegeFever</td>\n",
       "      <td>Brand Marketing, Event Promotion, Marketing, S...</td>\n",
       "      <td>Seed</td>\n",
       "      <td>250000</td>\n",
       "      <td>Bangalore, Karnataka, India</td>\n",
       "      <td>TheCollegeFever is a hub for fun, fiesta and f...</td>\n",
       "    </tr>\n",
       "    <tr>\n",
       "      <th>1</th>\n",
       "      <td>Happy Cow Dairy</td>\n",
       "      <td>Agriculture, Farming</td>\n",
       "      <td>Seed</td>\n",
       "      <td>₹40,000,000</td>\n",
       "      <td>Mumbai, Maharashtra, India</td>\n",
       "      <td>A startup which aggregates milk from dairy far...</td>\n",
       "    </tr>\n",
       "    <tr>\n",
       "      <th>2</th>\n",
       "      <td>MyLoanCare</td>\n",
       "      <td>Credit, Financial Services, Lending, Marketplace</td>\n",
       "      <td>Series A</td>\n",
       "      <td>₹65,000,000</td>\n",
       "      <td>Gurgaon, Haryana, India</td>\n",
       "      <td>Leading Online Loans Marketplace in India</td>\n",
       "    </tr>\n",
       "    <tr>\n",
       "      <th>3</th>\n",
       "      <td>PayMe India</td>\n",
       "      <td>Financial Services, FinTech</td>\n",
       "      <td>Angel</td>\n",
       "      <td>2000000</td>\n",
       "      <td>Noida, Uttar Pradesh, India</td>\n",
       "      <td>PayMe India is an innovative FinTech organizat...</td>\n",
       "    </tr>\n",
       "    <tr>\n",
       "      <th>4</th>\n",
       "      <td>Eunimart</td>\n",
       "      <td>E-Commerce Platforms, Retail, SaaS</td>\n",
       "      <td>Seed</td>\n",
       "      <td>—</td>\n",
       "      <td>Hyderabad, Andhra Pradesh, India</td>\n",
       "      <td>Eunimart is a one stop solution for merchants ...</td>\n",
       "    </tr>\n",
       "  </tbody>\n",
       "</table>\n",
       "</div>"
      ],
      "text/plain": [
       "      Company Name                                           Industry  \\\n",
       "0  TheCollegeFever  Brand Marketing, Event Promotion, Marketing, S...   \n",
       "1  Happy Cow Dairy                               Agriculture, Farming   \n",
       "2       MyLoanCare   Credit, Financial Services, Lending, Marketplace   \n",
       "3      PayMe India                        Financial Services, FinTech   \n",
       "4         Eunimart                 E-Commerce Platforms, Retail, SaaS   \n",
       "\n",
       "  Round/Series       Amount                          Location  \\\n",
       "0         Seed       250000       Bangalore, Karnataka, India   \n",
       "1         Seed  ₹40,000,000        Mumbai, Maharashtra, India   \n",
       "2     Series A  ₹65,000,000           Gurgaon, Haryana, India   \n",
       "3        Angel      2000000       Noida, Uttar Pradesh, India   \n",
       "4         Seed            —  Hyderabad, Andhra Pradesh, India   \n",
       "\n",
       "                                       About Company  \n",
       "0  TheCollegeFever is a hub for fun, fiesta and f...  \n",
       "1  A startup which aggregates milk from dairy far...  \n",
       "2          Leading Online Loans Marketplace in India  \n",
       "3  PayMe India is an innovative FinTech organizat...  \n",
       "4  Eunimart is a one stop solution for merchants ...  "
      ]
     },
     "execution_count": 115,
     "metadata": {},
     "output_type": "execute_result"
    }
   ],
   "source": [
    "data_2018 = pd.read_csv('startup_funding2018.csv')\n",
    "data_2018.head()"
   ]
  },
  {
   "cell_type": "code",
   "execution_count": 116,
   "metadata": {},
   "outputs": [
    {
     "name": "stdout",
     "output_type": "stream",
     "text": [
      "<class 'pandas.core.frame.DataFrame'>\n",
      "RangeIndex: 526 entries, 0 to 525\n",
      "Data columns (total 6 columns):\n",
      " #   Column         Non-Null Count  Dtype \n",
      "---  ------         --------------  ----- \n",
      " 0   Company Name   526 non-null    object\n",
      " 1   Industry       526 non-null    object\n",
      " 2   Round/Series   526 non-null    object\n",
      " 3   Amount         526 non-null    object\n",
      " 4   Location       526 non-null    object\n",
      " 5   About Company  526 non-null    object\n",
      "dtypes: object(6)\n",
      "memory usage: 24.8+ KB\n"
     ]
    }
   ],
   "source": [
    "# Get summary information about the DataFrame\n",
    "data_2018.info()"
   ]
  },
  {
   "cell_type": "markdown",
   "metadata": {},
   "source": [
    "## Data Cleaning"
   ]
  },
  {
   "cell_type": "markdown",
   "metadata": {},
   "source": [
    "### renaming colmun name"
   ]
  },
  {
   "cell_type": "code",
   "execution_count": 117,
   "metadata": {},
   "outputs": [],
   "source": [
    "# Rename columns in data_2018 DataFrame\n",
    "data_2018.rename(columns={'Company Name': 'Company Brand', 'Industry': 'Sector', 'Round/Series': 'Stage', 'Location': 'HeadQuarter', 'About Company': 'What it does'}, inplace=True)"
   ]
  },
  {
   "cell_type": "code",
   "execution_count": 118,
   "metadata": {},
   "outputs": [
    {
     "data": {
      "text/plain": [
       "1"
      ]
     },
     "execution_count": 118,
     "metadata": {},
     "output_type": "execute_result"
    }
   ],
   "source": [
    "data_2018.duplicated().sum()"
   ]
  },
  {
   "cell_type": "markdown",
   "metadata": {},
   "source": [
    "### Droping duplicated"
   ]
  },
  {
   "cell_type": "code",
   "execution_count": 119,
   "metadata": {},
   "outputs": [],
   "source": [
    "data_2018.drop_duplicates(inplace=True)"
   ]
  },
  {
   "cell_type": "code",
   "execution_count": 120,
   "metadata": {},
   "outputs": [
    {
     "data": {
      "text/html": [
       "<div>\n",
       "<style scoped>\n",
       "    .dataframe tbody tr th:only-of-type {\n",
       "        vertical-align: middle;\n",
       "    }\n",
       "\n",
       "    .dataframe tbody tr th {\n",
       "        vertical-align: top;\n",
       "    }\n",
       "\n",
       "    .dataframe thead th {\n",
       "        text-align: right;\n",
       "    }\n",
       "</style>\n",
       "<table border=\"1\" class=\"dataframe\">\n",
       "  <thead>\n",
       "    <tr style=\"text-align: right;\">\n",
       "      <th></th>\n",
       "      <th>Company Brand</th>\n",
       "      <th>Sector</th>\n",
       "      <th>Stage</th>\n",
       "      <th>Amount</th>\n",
       "      <th>HeadQuarter</th>\n",
       "      <th>What it does</th>\n",
       "    </tr>\n",
       "  </thead>\n",
       "  <tbody>\n",
       "    <tr>\n",
       "      <th>0</th>\n",
       "      <td>TheCollegeFever</td>\n",
       "      <td>Brand Marketing, Event Promotion, Marketing, S...</td>\n",
       "      <td>Seed</td>\n",
       "      <td>250000</td>\n",
       "      <td>Bangalore, Karnataka, India</td>\n",
       "      <td>TheCollegeFever is a hub for fun, fiesta and f...</td>\n",
       "    </tr>\n",
       "    <tr>\n",
       "      <th>1</th>\n",
       "      <td>Happy Cow Dairy</td>\n",
       "      <td>Agriculture, Farming</td>\n",
       "      <td>Seed</td>\n",
       "      <td>₹40,000,000</td>\n",
       "      <td>Mumbai, Maharashtra, India</td>\n",
       "      <td>A startup which aggregates milk from dairy far...</td>\n",
       "    </tr>\n",
       "    <tr>\n",
       "      <th>2</th>\n",
       "      <td>MyLoanCare</td>\n",
       "      <td>Credit, Financial Services, Lending, Marketplace</td>\n",
       "      <td>Series A</td>\n",
       "      <td>₹65,000,000</td>\n",
       "      <td>Gurgaon, Haryana, India</td>\n",
       "      <td>Leading Online Loans Marketplace in India</td>\n",
       "    </tr>\n",
       "    <tr>\n",
       "      <th>3</th>\n",
       "      <td>PayMe India</td>\n",
       "      <td>Financial Services, FinTech</td>\n",
       "      <td>Angel</td>\n",
       "      <td>2000000</td>\n",
       "      <td>Noida, Uttar Pradesh, India</td>\n",
       "      <td>PayMe India is an innovative FinTech organizat...</td>\n",
       "    </tr>\n",
       "    <tr>\n",
       "      <th>4</th>\n",
       "      <td>Eunimart</td>\n",
       "      <td>E-Commerce Platforms, Retail, SaaS</td>\n",
       "      <td>Seed</td>\n",
       "      <td>—</td>\n",
       "      <td>Hyderabad, Andhra Pradesh, India</td>\n",
       "      <td>Eunimart is a one stop solution for merchants ...</td>\n",
       "    </tr>\n",
       "    <tr>\n",
       "      <th>...</th>\n",
       "      <td>...</td>\n",
       "      <td>...</td>\n",
       "      <td>...</td>\n",
       "      <td>...</td>\n",
       "      <td>...</td>\n",
       "      <td>...</td>\n",
       "    </tr>\n",
       "    <tr>\n",
       "      <th>521</th>\n",
       "      <td>Udaan</td>\n",
       "      <td>B2B, Business Development, Internet, Marketplace</td>\n",
       "      <td>Series C</td>\n",
       "      <td>225000000</td>\n",
       "      <td>Bangalore, Karnataka, India</td>\n",
       "      <td>Udaan is a B2B trade platform, designed specif...</td>\n",
       "    </tr>\n",
       "    <tr>\n",
       "      <th>522</th>\n",
       "      <td>Happyeasygo Group</td>\n",
       "      <td>Tourism, Travel</td>\n",
       "      <td>Series A</td>\n",
       "      <td>—</td>\n",
       "      <td>Haryana, Haryana, India</td>\n",
       "      <td>HappyEasyGo is an online travel domain.</td>\n",
       "    </tr>\n",
       "    <tr>\n",
       "      <th>523</th>\n",
       "      <td>Mombay</td>\n",
       "      <td>Food and Beverage, Food Delivery, Internet</td>\n",
       "      <td>Seed</td>\n",
       "      <td>7500</td>\n",
       "      <td>Mumbai, Maharashtra, India</td>\n",
       "      <td>Mombay is a unique opportunity for housewives ...</td>\n",
       "    </tr>\n",
       "    <tr>\n",
       "      <th>524</th>\n",
       "      <td>Droni Tech</td>\n",
       "      <td>Information Technology</td>\n",
       "      <td>Seed</td>\n",
       "      <td>₹35,000,000</td>\n",
       "      <td>Mumbai, Maharashtra, India</td>\n",
       "      <td>Droni Tech manufacture UAVs and develop softwa...</td>\n",
       "    </tr>\n",
       "    <tr>\n",
       "      <th>525</th>\n",
       "      <td>Netmeds</td>\n",
       "      <td>Biotechnology, Health Care, Pharmaceutical</td>\n",
       "      <td>Series C</td>\n",
       "      <td>35000000</td>\n",
       "      <td>Chennai, Tamil Nadu, India</td>\n",
       "      <td>Welcome to India's most convenient pharmacy!</td>\n",
       "    </tr>\n",
       "  </tbody>\n",
       "</table>\n",
       "<p>525 rows × 6 columns</p>\n",
       "</div>"
      ],
      "text/plain": [
       "         Company Brand                                             Sector  \\\n",
       "0      TheCollegeFever  Brand Marketing, Event Promotion, Marketing, S...   \n",
       "1      Happy Cow Dairy                               Agriculture, Farming   \n",
       "2           MyLoanCare   Credit, Financial Services, Lending, Marketplace   \n",
       "3          PayMe India                        Financial Services, FinTech   \n",
       "4             Eunimart                 E-Commerce Platforms, Retail, SaaS   \n",
       "..                 ...                                                ...   \n",
       "521              Udaan   B2B, Business Development, Internet, Marketplace   \n",
       "522  Happyeasygo Group                                    Tourism, Travel   \n",
       "523             Mombay         Food and Beverage, Food Delivery, Internet   \n",
       "524         Droni Tech                             Information Technology   \n",
       "525            Netmeds         Biotechnology, Health Care, Pharmaceutical   \n",
       "\n",
       "        Stage       Amount                       HeadQuarter  \\\n",
       "0        Seed       250000       Bangalore, Karnataka, India   \n",
       "1        Seed  ₹40,000,000        Mumbai, Maharashtra, India   \n",
       "2    Series A  ₹65,000,000           Gurgaon, Haryana, India   \n",
       "3       Angel      2000000       Noida, Uttar Pradesh, India   \n",
       "4        Seed            —  Hyderabad, Andhra Pradesh, India   \n",
       "..        ...          ...                               ...   \n",
       "521  Series C    225000000       Bangalore, Karnataka, India   \n",
       "522  Series A            —           Haryana, Haryana, India   \n",
       "523      Seed         7500        Mumbai, Maharashtra, India   \n",
       "524      Seed  ₹35,000,000        Mumbai, Maharashtra, India   \n",
       "525  Series C     35000000        Chennai, Tamil Nadu, India   \n",
       "\n",
       "                                          What it does  \n",
       "0    TheCollegeFever is a hub for fun, fiesta and f...  \n",
       "1    A startup which aggregates milk from dairy far...  \n",
       "2            Leading Online Loans Marketplace in India  \n",
       "3    PayMe India is an innovative FinTech organizat...  \n",
       "4    Eunimart is a one stop solution for merchants ...  \n",
       "..                                                 ...  \n",
       "521  Udaan is a B2B trade platform, designed specif...  \n",
       "522            HappyEasyGo is an online travel domain.  \n",
       "523  Mombay is a unique opportunity for housewives ...  \n",
       "524  Droni Tech manufacture UAVs and develop softwa...  \n",
       "525       Welcome to India's most convenient pharmacy!  \n",
       "\n",
       "[525 rows x 6 columns]"
      ]
     },
     "execution_count": 120,
     "metadata": {},
     "output_type": "execute_result"
    }
   ],
   "source": [
    "data_2018"
   ]
  },
  {
   "cell_type": "code",
   "execution_count": 121,
   "metadata": {},
   "outputs": [
    {
     "data": {
      "text/plain": [
       "Company Brand    0\n",
       "Sector           0\n",
       "Stage            0\n",
       "Amount           0\n",
       "HeadQuarter      0\n",
       "What it does     0\n",
       "dtype: int64"
      ]
     },
     "execution_count": 121,
     "metadata": {},
     "output_type": "execute_result"
    }
   ],
   "source": [
    "data_2018.isna().sum()"
   ]
  },
  {
   "cell_type": "markdown",
   "metadata": {},
   "source": [
    "### identifying Unique values in Sector colmun"
   ]
  },
  {
   "cell_type": "code",
   "execution_count": 122,
   "metadata": {},
   "outputs": [
    {
     "name": "stdout",
     "output_type": "stream",
     "text": [
      "['Brand Marketing, Event Promotion, Marketing, Sponsorship, Ticketing'\n",
      " 'Agriculture, Farming' 'Credit, Financial Services, Lending, Marketplace'\n",
      " 'Financial Services, FinTech' 'E-Commerce Platforms, Retail, SaaS'\n",
      " 'Cloud Infrastructure, PaaS, SaaS' 'Internet, Leisure, Marketplace'\n",
      " 'Market Research' 'Information Services, Information Technology'\n",
      " 'Mobile Payments' 'B2B, Shoes' 'Internet'\n",
      " 'Apps, Collaboration, Developer Platform, Enterprise Software, Messaging, Productivity Tools, Video Chat'\n",
      " 'Food Delivery' 'Industrial Automation'\n",
      " 'Automotive, Search Engine, Service Industry' 'Finance, Internet, Travel'\n",
      " 'Accounting, Business Information Systems, Business Travel, Finance, SaaS'\n",
      " 'Artificial Intelligence, Product Search, SaaS, Service Industry, Software'\n",
      " 'Internet of Things, Waste Management'\n",
      " 'Air Transportation, Freight Service, Logistics, Marine Transportation'\n",
      " 'Financial Services' 'Food and Beverage' 'Autonomous Vehicles'\n",
      " 'Enterprise Software, Health Care, Hospital, Parenting, Personal Health, SaaS'\n",
      " 'Agriculture, Analytics, Big Data, Farming'\n",
      " 'Logistics, Supply Chain Management' 'Financial Services, Lending'\n",
      " 'Automotive, Marketplace, Online Portals' 'Artificial Intelligence'\n",
      " 'Internet of Things, Telecommunications' 'Insurance'\n",
      " 'Information Technology, Logistics, Supply Chain Management'\n",
      " 'Blockchain, Developer Tools, Enterprise Software'\n",
      " 'Industrial Automation, Logistics, Supply Chain Management'\n",
      " 'Food and Beverage, Food Delivery, Snack Food' 'Education'\n",
      " 'E-Commerce, Fashion, Jewelry, Retail' 'Renewable Energy'\n",
      " 'E-Learning, Education'\n",
      " 'Clean Energy, CleanTech, Laundry and Dry-cleaning'\n",
      " 'E-Commerce, Fashion, Mobile'\n",
      " 'Apps, Messaging, Navigation, Public Safety' 'Transportation'\n",
      " 'Fitness, Health Care, Wellness'\n",
      " 'Artificial Intelligence, Machine Learning, SaaS, Virtual Assistant'\n",
      " 'Hospitality' 'Food and Beverage, Tea'\n",
      " 'Media and Entertainment, News, Outdoors'\n",
      " 'Broadcasting, Media and Entertainment, Music, Music Streaming, Video, Video Streaming'\n",
      " 'B2B, Information Services, Information Technology'\n",
      " 'EdTech, Education, Enterprise Software, Peer to Peer'\n",
      " 'Health Care, Medical' 'E-Commerce' 'Health Care, Hospital, Wellness' '—'\n",
      " 'Sports' 'Big Data, Consumer Lending, FinTech'\n",
      " 'Cloud Computing, Computer, Semiconductor'\n",
      " 'Health Care, Medical, Pharmaceutical' 'Food Processing, Retail'\n",
      " 'Trading Platform' \"Consumer Goods, Lifestyle, Men's\" 'Wellness'\n",
      " 'Food and Beverage, Food Processing, Nutrition' 'Fashion'\n",
      " 'Automotive, Electric Vehicle, Energy Storage'\n",
      " 'Consulting, Retail, Social'\n",
      " 'Biotechnology, Life Science, Pharmaceutical, Product Research'\n",
      " 'Health Care' 'Credit, Financial Services, FinTech, Personal Finance'\n",
      " 'Communities, Coworking, Incubators'\n",
      " 'Consumer, Financial Services, FinTech'\n",
      " 'Consumer Applications, Information Services, Location Based Services, Virtual Assistant'\n",
      " 'Mobile, Mobile Apps, Personalization, Test and Measurement, Web Apps'\n",
      " 'Education, Financial Services, FinTech'\n",
      " 'Advertising, Consulting, Digital Marketing'\n",
      " 'Marketplace, Real Estate, Rental Property'\n",
      " 'E-Learning, Internet, Video Games'\n",
      " 'Artificial Intelligence, Cloud Computing, Video'\n",
      " 'Health Care, Information Technology' 'Aerospace'\n",
      " 'E-Commerce, Fashion, Lifestyle'\n",
      " 'Artificial Intelligence, Business Intelligence, Industrial Automation, Machine Learning'\n",
      " 'Home Decor, Home Improvement, Home Renovation, Home Services, Interior Design, Smart Home'\n",
      " 'EdTech, Education, Information Services, SaaS' 'Energy, Solar'\n",
      " 'B2B, Biometrics, Cyber Security, Fraud Detection, SaaS, Security'\n",
      " 'Artificial Intelligence, Social' 'Logistics, Transportation, Travel'\n",
      " 'Digital Marketing, SEM, SEO, Web Development'\n",
      " 'Health Care, Hospital, Medical' 'Finance, Financial Services'\n",
      " 'Food Delivery, Food Processing, Internet'\n",
      " 'E-Commerce, Food and Beverage, Internet'\n",
      " 'Fitness, Food and Beverage, Health Care, Nutrition'\n",
      " 'EdTech, Education, Knowledge Management'\n",
      " 'Apps, Beauty, Consumer, Retail'\n",
      " 'Creative Agency, Crowdfunding, EdTech, Health Care, Internet, Medical, Non Profit, Personal Health'\n",
      " 'Consumer Lending, Financial Services, FinTech, Insurance, Lending, Mobile Payments, Payments, Wealth Management'\n",
      " 'E-Learning, Education, Higher Education' 'Health Diagnostics'\n",
      " 'EdTech, Education' 'Financial Services, SaaS, Security'\n",
      " 'Banking, Finance, Financial Services, Non Profit'\n",
      " 'B2B, E-Commerce, Mobile'\n",
      " 'Automotive, Electric Vehicle, Renewable Energy' 'E-Learning'\n",
      " 'Embedded Systems, Health Care, Medical, Product Research'\n",
      " 'Apps, E-Commerce, Internet' 'Advertising, Human Resources, Marketing'\n",
      " 'Beauty, Fitness, Home Services, Internet'\n",
      " 'Health Care, Medical Device, Public Safety'\n",
      " 'Food Delivery, Online Portals, Restaurants'\n",
      " 'AgTech, B2B, Supply Chain Management'\n",
      " 'Credit Cards, Finance, Mobile Apps, Mobile Payments, Payments'\n",
      " 'Software' 'EdTech, Education, Higher Education, Secondary Education'\n",
      " 'Manufacturing, Retail' 'Manufacturing'\n",
      " 'Information Services, Information Technology, InsurTech'\n",
      " 'Consumer Lending, FinTech' 'Internet, Social Network, TV'\n",
      " 'Beauty, Health Care' 'Hospital' 'Events'\n",
      " '3D Printing, Manufacturing, Product Design' 'Automotive'\n",
      " 'Automotive, Retail' 'Apps, Audio' 'Automotive, E-Commerce'\n",
      " 'Digital Entertainment, Fantasy Sports, Sports'\n",
      " 'E-Learning, EdTech, Education'\n",
      " 'Funding Platform, Incubators, Non Profit'\n",
      " 'Hospitality, Hotel, Leisure, Travel'\n",
      " 'Classifieds, Internet, Marketplace, Rental Property'\n",
      " 'Banking, E-Learning, Trading Platform' 'E-Commerce, Mobile, Retail'\n",
      " 'Artificial Intelligence, Information Technology'\n",
      " 'Enterprise Resource Planning (ERP), Information Services, Information Technology, Real Estate'\n",
      " 'Banking, Finance, Financial Services' 'Audio, Mobile, Tourism, Travel'\n",
      " 'Energy, Energy Storage, Infrastructure'\n",
      " 'Government, Information Technology, Software' 'Information Technology'\n",
      " 'Education, Information Technology, Internet, Mobile, Software'\n",
      " 'Consumer Lending, Financial Services, Lending, Personal Finance'\n",
      " 'Digital Media, Internet, Media and Entertainment, Online Portals, Social Media'\n",
      " 'Business Intelligence, Customer Service, Market Research, SaaS'\n",
      " 'Credit, Financial Services, FinTech, Lending'\n",
      " 'Children, Education, Parenting'\n",
      " 'Automotive, Battery, Energy, Energy Storage'\n",
      " 'E-Commerce, Mobile, Sharing Economy'\n",
      " 'Food Delivery, Organic, Organic Food' 'Mobile' 'Rental' 'Travel'\n",
      " 'Consumer' 'B2B, Farming, Marketplace' 'Wealth Management'\n",
      " 'Biotechnology' 'Education, Gaming, Training' 'Veterinary'\n",
      " 'Internet, Mobile, Social Entrepreneurship, Telecommunications, Wireless'\n",
      " 'Health Care, Hospital, Supply Chain Management' 'Tourism, Travel'\n",
      " 'Hospitality, Real Estate' 'Finance'\n",
      " 'Digital Media, EBooks, Publishing, Reading Apps'\n",
      " 'Consumer Electronics, Embedded Systems, Hardware, Smart Building, Software'\n",
      " 'Food and Beverage, Food Processing' 'Internet, Marketplace, Shopping'\n",
      " 'Analytics, Computer Vision, Enterprise Software, Machine Learning, Natural Language Processing, Speech Recognition'\n",
      " 'Facilities Support Services' 'Automotive, Electric Vehicle, Energy'\n",
      " 'Health Care, Health Diagnostics, Predictive Analytics'\n",
      " 'Cloud Computing, Computer, SaaS, Software' 'Fashion, Lifestyle, Retail'\n",
      " 'Medical' 'Music Streaming' 'Finance, Impact Investing, Internet'\n",
      " 'Internet, Social Entrepreneurship' 'Retail'\n",
      " 'Finance, Impact Investing, Mobile Apps'\n",
      " 'Cloud Computing, Computer, Software'\n",
      " 'Business Development, Market Research, Outsourcing'\n",
      " 'Health Care, Hospitality' 'Internet, Social News, Sports'\n",
      " 'Human Resources' 'Finance, Financial Services, FinTech'\n",
      " 'Customer Service, Software, Video, Video Streaming'\n",
      " 'E-Commerce, Food Processing' 'Training'\n",
      " 'Dietary Supplements, Food and Beverage, Health Care, Organic Food, Snack Food'\n",
      " 'Manufacturing, Oil and Gas, Robotics'\n",
      " 'Artificial Intelligence, Computer, Machine Learning'\n",
      " 'Collaboration, Communities, Coworking, Sharing Economy'\n",
      " 'Big Data, EdTech, Machine Learning' 'Nanotechnology'\n",
      " 'Analytics, Audio, Digital Media, Innovation Management, Internet Radio, Media and Entertainment'\n",
      " 'Financial Services, Lending, Peer to Peer'\n",
      " 'E-Commerce, Furniture, Home Decor, Interior Design, Internet'\n",
      " 'Digital Media' 'File Sharing, Personalization, Social Media'\n",
      " 'Home Decor, Interior Design' 'Health Care, Medical Device, Mobile Apps'\n",
      " 'E-Commerce, Facilities Support Services, Procurement, Supply Chain Management'\n",
      " 'Crowdfunding, Finance, Financial Services'\n",
      " 'Finance, Financial Services, Insurance'\n",
      " 'Children, Education, Online Portals' 'Software, Virtual Reality'\n",
      " 'B2B, Food and Beverage, Food Delivery'\n",
      " 'Catering, Food and Beverage, Food Delivery, Food Processing'\n",
      " 'Food and Beverage, Snack Food' 'Automotive, E-Commerce, Mobile'\n",
      " 'Computer, Digital Marketing, Facilities Support Services, Graphic Design, Internet, Mobile Apps, Social Media Marketing, Web Development'\n",
      " 'Android, Big Data, Blockchain, Cloud Computing, EdTech, Education, Information Technology, iOS, Training, Web Development'\n",
      " 'Analytics, CRM, Loyalty Programs, Machine Learning, Marketing Automation, Retail Technology, SaaS, Small and Medium Businesses'\n",
      " 'Delivery, Information Technology, Mobile Apps'\n",
      " 'Environmental Consulting, Renewable Energy'\n",
      " 'Big Data, Business Intelligence, Financial Services, FinTech, Personal Finance'\n",
      " 'Commercial Real Estate, Coworking, Office Administration, Real Estate'\n",
      " 'Food and Beverage, Food Processing, Organic Food, Snack Food'\n",
      " 'Apps, Health Care, Internet, Mobile Apps, Personal Health'\n",
      " 'Digital Media, Incubators, Social Entrepreneurship'\n",
      " 'Finance, Financial Services, Marketing'\n",
      " 'Biotechnology, Health Care, Life Science, Medical Device'\n",
      " 'Education, Human Resources' 'Consumer Electronics'\n",
      " 'Apps, Health Care, Hospital, Mobile Apps'\n",
      " 'Delivery Service, Logistics, Service Industry'\n",
      " 'Big Data, Data Visualization, Logistics, Software'\n",
      " 'Basketball, Cricket, Cycling, eSports, Fitness, Golf, Health Care, Hockey, Sports, Swimming, Table Tennis, Volley Ball'\n",
      " 'Media and Entertainment, News, Publishing' 'Consulting'\n",
      " 'Big Data, Financial Services, Machine Learning, Predictive Analytics'\n",
      " 'Agriculture, AgTech, Manufacturing' 'Digital Media, News, Publishing'\n",
      " 'Health Care, Hospital' 'B2B, E-Commerce, Enterprise'\n",
      " 'Fraud Detection, Information Services, Security'\n",
      " 'Agriculture, AgTech, Artificial Intelligence, Internet of Things, Machine Learning'\n",
      " 'Cryptocurrency, Trading Platform' 'Finance, FinTech, Mobile Payments'\n",
      " 'Wedding'\n",
      " 'E-Learning, EdTech, Education, Image Recognition, Machine Learning, STEM Education'\n",
      " 'Consumer Goods' 'Digital Entertainment'\n",
      " 'Crowdsourcing, Financial Services, Funding Platform, Venture Capital'\n",
      " 'Delivery, Drones, Geospatial, Robotics'\n",
      " 'Health Care, Information Technology, Management Information Systems'\n",
      " 'Farming'\n",
      " 'Business Travel, Hospitality, Hotel, Marketplace, Tourism, Travel Accommodations'\n",
      " 'Career Planning, Education, Higher Education, Service Industry'\n",
      " 'Medical Device' 'Alternative Medicine, Health Care' 'Internet, Software'\n",
      " 'Dental, Elder Care, Health Care, Home Health Care, Personal Health'\n",
      " 'Financial Services, Insurance, Private Social Networking'\n",
      " 'Consumer Electronics, E-Commerce, E-Commerce Platforms, Electronics, Shipping, Shopping'\n",
      " 'CleanTech' 'Advertising, Internet, Marketing'\n",
      " 'Human Resources, Security, Training'\n",
      " 'Consumer Lending, Finance, FinTech' 'Marketing, Social Media, Video'\n",
      " 'Banking' 'Food Processing' 'Apps' 'Marketing'\n",
      " 'Apps, B2B, Freight Service, Logistics, SaaS, Shipping, Supply Chain Management, Transportation'\n",
      " 'Digital Entertainment, Fantasy Sports, Gaming, Sports'\n",
      " 'Automotive, Last Mile Transportation, Peer to Peer, Ride Sharing'\n",
      " 'Commercial, E-Learning, Education'\n",
      " 'Continuing Education, EdTech, Education, Skill Assessment'\n",
      " 'Smart Cities, Telecommunications' 'Internet of Things, Robotics'\n",
      " 'Apps, Home Services, Information Services, Information Technology'\n",
      " 'Medical, Tourism' 'Career Planning, Education, Internet'\n",
      " 'Fashion, Graphic Design, Wearables'\n",
      " 'Communities, Leisure, Mobile Apps, Software'\n",
      " 'Automotive, Rental, Sharing Economy'\n",
      " 'Energy, Environmental Consulting, Renewable Energy, Solar'\n",
      " 'Information Technology, SaaS, Security'\n",
      " 'Crowdfunding, Financial Services, Internet'\n",
      " 'Customer Service, Information Technology, Internet, Sales Automation'\n",
      " 'Advertising, Artificial Intelligence, Digital Media, iOS, Location Based Services, News, Video, Video on Demand, Video Streaming'\n",
      " 'Credit Cards, Payments, Property Insurance, Property Management, Rental Property'\n",
      " 'Beauty, Cosmetics, Health Care, Service Industry'\n",
      " 'EdTech, Education, Mobile, Tutoring' 'Social Media, Sports' 'Biopharma'\n",
      " 'E-Commerce, E-Commerce Platforms, Retail'\n",
      " 'E-Commerce, Fashion, Shopping' 'Digital Entertainment, Mobile, PC Games'\n",
      " 'Finance, Financial Services, Small and Medium Businesses'\n",
      " 'Artificial Intelligence, Energy, Oil and Gas'\n",
      " 'Computer, FinTech, Risk Management, Software'\n",
      " 'Apps, Financial Services, FinTech'\n",
      " \"Child Care, Health Care, Hospital, Medical, Women's\"\n",
      " 'Agriculture, Mobile'\n",
      " 'Finance, FinTech, Payments, Property Development, Rental'\n",
      " 'Information Services, Information Technology, Mobile, Software'\n",
      " 'Apps, Fitness, Health Care, mHealth' 'Food and Beverage, Food Delivery'\n",
      " 'Apps, Payments, Retail' 'Health Insurance, Insurance, Life Insurance'\n",
      " 'Rental, Taxi Service, Travel'\n",
      " 'E-Commerce, E-Commerce Platforms, Internet, Retail'\n",
      " 'Financial Services, Professional Services'\n",
      " 'Customer Service, Messaging, Mobile Apps, Personalization'\n",
      " 'Gaming, iOS, Sports'\n",
      " 'E-Commerce, E-Commerce Platforms, Internet, Mobile Apps, Social Media'\n",
      " 'Search Engine'\n",
      " 'Battery, Electric Vehicle, Energy, Renewable Energy, Transportation'\n",
      " 'Agriculture, Farmers Market, Farming'\n",
      " 'Artificial Intelligence, Drones, Navigation, Packaging Services, Robotics'\n",
      " 'Fitness, GreenTech, Internet of Things, Mobile Apps, Ride Sharing, Transportation'\n",
      " 'Mobile, Software, Travel' 'Cosmetics'\n",
      " 'Consulting, Cyber Security, Network Security'\n",
      " 'eSports, Gaming, Video Games' 'Fashion, Jewelry' 'B2B, Medical Device'\n",
      " 'Consumer Goods, Manufacturing' 'Biotechnology, Health Care, Wellness'\n",
      " 'Health Care, Hospital, Medical, Robotics'\n",
      " 'E-Commerce, Fitness, Health Care' 'Financial Services, Venture Capital'\n",
      " 'Accounting, Apps, FinTech' 'Apps, Mobile, Transportation' 'Reading Apps'\n",
      " 'Energy, Renewable Energy, Solar' 'Banking, Financial Services, FinTech'\n",
      " 'Apps, Education, Retail' 'Electric Vehicle'\n",
      " 'Automotive, Battery, Electric Vehicle, Manufacturing, Mechanical Design'\n",
      " 'Automotive, E-Commerce, Marketplace' 'Agriculture'\n",
      " 'Apps, Information Services, Information Technology' 'B2B, Marketplace'\n",
      " 'Packaging Services' 'Computer, Furniture, Software'\n",
      " 'Food Delivery, Hospitality, Reservations, Restaurants, Search Engine'\n",
      " 'Collaboration, Communities, Coworking, Real Estate'\n",
      " 'Accounting, Banking, Finance'\n",
      " 'Cloud Computing, Enterprise Software, Network Hardware, Network Security, SaaS'\n",
      " 'Information Services, Internet, Logistics, Supply Chain Management, Transportation'\n",
      " 'Automotive, E-Commerce, Information Services'\n",
      " 'Delivery, Logistics, Transportation'\n",
      " 'Automotive, E-Commerce Platforms, Marketplace'\n",
      " 'Last Mile Transportation, Railroad, Transportation, Travel'\n",
      " 'Cooking, E-Commerce, Food and Beverage, Food Delivery, Online Portals'\n",
      " 'FinTech, Mobile, Mobile Payments, Payments, Retail Technology'\n",
      " 'Online Games, Software' 'Online Portals, Property Management, Rental'\n",
      " 'E-Commerce, Food and Beverage, Tea' 'Music, Social Network, Video'\n",
      " 'Health Care, Pharmaceutical, Wellness'\n",
      " 'Delivery Service, Food and Beverage, Food Delivery'\n",
      " 'Hospitality, Information Technology, Travel Accommodations'\n",
      " 'Biotechnology, Diabetes, Health Care'\n",
      " 'Autonomous Vehicles, Last Mile Transportation, Recreational Vehicles, Rental'\n",
      " 'Finance, Financial Exchanges, Financial Services, Micro Lending'\n",
      " 'Analytics, Apps, Market Research'\n",
      " 'E-Commerce, E-Commerce Platforms, Furniture, Home Decor, Internet'\n",
      " 'Apps, Mobile, Mobile Apps, Software' 'News, Publishing, Social Media'\n",
      " 'Industrial, Industrial Automation'\n",
      " 'Internet, Mobile Apps, Social Network'\n",
      " 'Health Care, Health Diagnostics, Internet of Things, Life Science, Machine Learning, Medical, Medical Device'\n",
      " 'E-Commerce, Furniture, Interior Design' 'Apps, Events, News'\n",
      " 'Artificial Intelligence, Human Resources, Information Services, Information Technology'\n",
      " 'Logistics, Railroad, Transportation' 'Dating, Private Social Networking'\n",
      " 'Artificial Intelligence, Machine Learning, PaaS'\n",
      " 'Consumer, Furniture, Home Decor, Home Improvement'\n",
      " 'Apps, E-Commerce, Internet, Mobile, Ride Sharing, Transportation'\n",
      " 'Health Care, Health Insurance' 'Energy, Natural Resources'\n",
      " 'E-Commerce, Education, Health Care' 'Apps, Health Care, Pharmaceutical'\n",
      " 'Internet, Knowledge Management'\n",
      " 'Credit, Finance, FinTech, Lending, Sales Automation'\n",
      " 'Banking, Financial Services, Internet' 'E-Commerce, Health Care, Retail'\n",
      " 'Child Care, Information Technology' 'Financial Services, Micro Lending'\n",
      " 'E-Commerce, Retail, Shopping' 'Food and Beverage, Snack Food, Tea'\n",
      " 'Delivery Service, E-Commerce, Logistics' 'Fashion, Lifestyle, Rental'\n",
      " 'Fantasy Sports, Mobile, Sports' 'Beauty, Fashion, Wellness'\n",
      " 'Food and Beverage, Restaurants, Tea' 'Fitness, Sporting Goods, Sports'\n",
      " 'Food and Beverage, Food Processing, Manufacturing'\n",
      " 'E-Learning, Internet' 'Eyewear, Internet'\n",
      " 'Information Technology, Mobile, News, Operating Systems, Social Media, Social News'\n",
      " 'FinTech, Internet, Payments, Service Industry'\n",
      " 'B2B, Business Development, Internet, Marketplace'\n",
      " 'Food and Beverage, Food Delivery, Internet'\n",
      " 'Biotechnology, Health Care, Pharmaceutical']\n"
     ]
    }
   ],
   "source": [
    "print(data_2018['Sector'].unique())"
   ]
  },
  {
   "cell_type": "markdown",
   "metadata": {},
   "source": [
    "It replaces the dashes '—' (which likely denote missing values) with NaN (Not a Number) using the replace() function."
   ]
  },
  {
   "cell_type": "code",
   "execution_count": 123,
   "metadata": {},
   "outputs": [
    {
     "data": {
      "text/plain": [
       "array(['Brand Marketing, Event Promotion, Marketing, Sponsorship, Ticketing',\n",
       "       'Agriculture, Farming',\n",
       "       'Credit, Financial Services, Lending, Marketplace',\n",
       "       'Financial Services, FinTech',\n",
       "       'E-Commerce Platforms, Retail, SaaS',\n",
       "       'Cloud Infrastructure, PaaS, SaaS',\n",
       "       'Internet, Leisure, Marketplace', 'Market Research',\n",
       "       'Information Services, Information Technology', 'Mobile Payments',\n",
       "       'B2B, Shoes', 'Internet',\n",
       "       'Apps, Collaboration, Developer Platform, Enterprise Software, Messaging, Productivity Tools, Video Chat',\n",
       "       'Food Delivery', 'Industrial Automation',\n",
       "       'Automotive, Search Engine, Service Industry',\n",
       "       'Finance, Internet, Travel',\n",
       "       'Accounting, Business Information Systems, Business Travel, Finance, SaaS',\n",
       "       'Artificial Intelligence, Product Search, SaaS, Service Industry, Software',\n",
       "       'Internet of Things, Waste Management',\n",
       "       'Air Transportation, Freight Service, Logistics, Marine Transportation',\n",
       "       'Financial Services', 'Food and Beverage', 'Autonomous Vehicles',\n",
       "       'Enterprise Software, Health Care, Hospital, Parenting, Personal Health, SaaS',\n",
       "       'Agriculture, Analytics, Big Data, Farming',\n",
       "       'Logistics, Supply Chain Management',\n",
       "       'Financial Services, Lending',\n",
       "       'Automotive, Marketplace, Online Portals',\n",
       "       'Artificial Intelligence',\n",
       "       'Internet of Things, Telecommunications', 'Insurance',\n",
       "       'Information Technology, Logistics, Supply Chain Management',\n",
       "       'Blockchain, Developer Tools, Enterprise Software',\n",
       "       'Industrial Automation, Logistics, Supply Chain Management',\n",
       "       'Food and Beverage, Food Delivery, Snack Food', 'Education',\n",
       "       'E-Commerce, Fashion, Jewelry, Retail', 'Renewable Energy',\n",
       "       'E-Learning, Education',\n",
       "       'Clean Energy, CleanTech, Laundry and Dry-cleaning',\n",
       "       'E-Commerce, Fashion, Mobile',\n",
       "       'Apps, Messaging, Navigation, Public Safety', 'Transportation',\n",
       "       'Fitness, Health Care, Wellness',\n",
       "       'Artificial Intelligence, Machine Learning, SaaS, Virtual Assistant',\n",
       "       'Hospitality', 'Food and Beverage, Tea',\n",
       "       'Media and Entertainment, News, Outdoors',\n",
       "       'Broadcasting, Media and Entertainment, Music, Music Streaming, Video, Video Streaming',\n",
       "       'B2B, Information Services, Information Technology',\n",
       "       'EdTech, Education, Enterprise Software, Peer to Peer',\n",
       "       'Health Care, Medical', 'E-Commerce',\n",
       "       'Health Care, Hospital, Wellness', 'Sports',\n",
       "       'Big Data, Consumer Lending, FinTech',\n",
       "       'Cloud Computing, Computer, Semiconductor',\n",
       "       'Health Care, Medical, Pharmaceutical', 'Food Processing, Retail',\n",
       "       'Trading Platform', \"Consumer Goods, Lifestyle, Men's\", 'Wellness',\n",
       "       'Food and Beverage, Food Processing, Nutrition', 'Fashion',\n",
       "       'Automotive, Electric Vehicle, Energy Storage',\n",
       "       'Consulting, Retail, Social',\n",
       "       'Biotechnology, Life Science, Pharmaceutical, Product Research',\n",
       "       'Health Care',\n",
       "       'Credit, Financial Services, FinTech, Personal Finance',\n",
       "       'Communities, Coworking, Incubators',\n",
       "       'Consumer, Financial Services, FinTech',\n",
       "       'Consumer Applications, Information Services, Location Based Services, Virtual Assistant',\n",
       "       'Mobile, Mobile Apps, Personalization, Test and Measurement, Web Apps',\n",
       "       'Education, Financial Services, FinTech',\n",
       "       'Advertising, Consulting, Digital Marketing',\n",
       "       'Marketplace, Real Estate, Rental Property',\n",
       "       'E-Learning, Internet, Video Games',\n",
       "       'Artificial Intelligence, Cloud Computing, Video',\n",
       "       'Health Care, Information Technology', 'Aerospace',\n",
       "       'E-Commerce, Fashion, Lifestyle',\n",
       "       'Artificial Intelligence, Business Intelligence, Industrial Automation, Machine Learning',\n",
       "       'Home Decor, Home Improvement, Home Renovation, Home Services, Interior Design, Smart Home',\n",
       "       'EdTech, Education, Information Services, SaaS', 'Energy, Solar',\n",
       "       'B2B, Biometrics, Cyber Security, Fraud Detection, SaaS, Security',\n",
       "       'Artificial Intelligence, Social',\n",
       "       'Logistics, Transportation, Travel',\n",
       "       'Digital Marketing, SEM, SEO, Web Development',\n",
       "       'Health Care, Hospital, Medical', 'Finance, Financial Services',\n",
       "       'Food Delivery, Food Processing, Internet',\n",
       "       'E-Commerce, Food and Beverage, Internet',\n",
       "       'Fitness, Food and Beverage, Health Care, Nutrition',\n",
       "       'EdTech, Education, Knowledge Management',\n",
       "       'Apps, Beauty, Consumer, Retail',\n",
       "       'Creative Agency, Crowdfunding, EdTech, Health Care, Internet, Medical, Non Profit, Personal Health',\n",
       "       'Consumer Lending, Financial Services, FinTech, Insurance, Lending, Mobile Payments, Payments, Wealth Management',\n",
       "       'E-Learning, Education, Higher Education', 'Health Diagnostics',\n",
       "       'EdTech, Education', 'Financial Services, SaaS, Security',\n",
       "       'Banking, Finance, Financial Services, Non Profit',\n",
       "       'B2B, E-Commerce, Mobile',\n",
       "       'Automotive, Electric Vehicle, Renewable Energy', 'E-Learning',\n",
       "       'Embedded Systems, Health Care, Medical, Product Research',\n",
       "       'Apps, E-Commerce, Internet',\n",
       "       'Advertising, Human Resources, Marketing',\n",
       "       'Beauty, Fitness, Home Services, Internet',\n",
       "       'Health Care, Medical Device, Public Safety',\n",
       "       'Food Delivery, Online Portals, Restaurants',\n",
       "       'AgTech, B2B, Supply Chain Management',\n",
       "       'Credit Cards, Finance, Mobile Apps, Mobile Payments, Payments',\n",
       "       'Software',\n",
       "       'EdTech, Education, Higher Education, Secondary Education',\n",
       "       'Manufacturing, Retail', 'Manufacturing',\n",
       "       'Information Services, Information Technology, InsurTech',\n",
       "       'Consumer Lending, FinTech', 'Internet, Social Network, TV',\n",
       "       'Beauty, Health Care', 'Hospital', 'Events',\n",
       "       '3D Printing, Manufacturing, Product Design', 'Automotive',\n",
       "       'Automotive, Retail', 'Apps, Audio', 'Automotive, E-Commerce',\n",
       "       'Digital Entertainment, Fantasy Sports, Sports',\n",
       "       'E-Learning, EdTech, Education',\n",
       "       'Funding Platform, Incubators, Non Profit',\n",
       "       'Hospitality, Hotel, Leisure, Travel',\n",
       "       'Classifieds, Internet, Marketplace, Rental Property',\n",
       "       'Banking, E-Learning, Trading Platform',\n",
       "       'E-Commerce, Mobile, Retail',\n",
       "       'Artificial Intelligence, Information Technology',\n",
       "       'Enterprise Resource Planning (ERP), Information Services, Information Technology, Real Estate',\n",
       "       'Banking, Finance, Financial Services',\n",
       "       'Audio, Mobile, Tourism, Travel',\n",
       "       'Energy, Energy Storage, Infrastructure',\n",
       "       'Government, Information Technology, Software',\n",
       "       'Information Technology',\n",
       "       'Education, Information Technology, Internet, Mobile, Software',\n",
       "       'Consumer Lending, Financial Services, Lending, Personal Finance',\n",
       "       'Digital Media, Internet, Media and Entertainment, Online Portals, Social Media',\n",
       "       'Business Intelligence, Customer Service, Market Research, SaaS',\n",
       "       'Credit, Financial Services, FinTech, Lending',\n",
       "       'Children, Education, Parenting',\n",
       "       'Automotive, Battery, Energy, Energy Storage',\n",
       "       'E-Commerce, Mobile, Sharing Economy',\n",
       "       'Food Delivery, Organic, Organic Food', 'Mobile', 'Rental',\n",
       "       'Travel', 'Consumer', 'B2B, Farming, Marketplace',\n",
       "       'Wealth Management', 'Biotechnology',\n",
       "       'Education, Gaming, Training', 'Veterinary',\n",
       "       'Internet, Mobile, Social Entrepreneurship, Telecommunications, Wireless',\n",
       "       'Health Care, Hospital, Supply Chain Management',\n",
       "       'Tourism, Travel', 'Hospitality, Real Estate', 'Finance',\n",
       "       'Digital Media, EBooks, Publishing, Reading Apps',\n",
       "       'Consumer Electronics, Embedded Systems, Hardware, Smart Building, Software',\n",
       "       'Food and Beverage, Food Processing',\n",
       "       'Internet, Marketplace, Shopping',\n",
       "       'Analytics, Computer Vision, Enterprise Software, Machine Learning, Natural Language Processing, Speech Recognition',\n",
       "       'Facilities Support Services',\n",
       "       'Automotive, Electric Vehicle, Energy',\n",
       "       'Health Care, Health Diagnostics, Predictive Analytics',\n",
       "       'Cloud Computing, Computer, SaaS, Software',\n",
       "       'Fashion, Lifestyle, Retail', 'Medical', 'Music Streaming',\n",
       "       'Finance, Impact Investing, Internet',\n",
       "       'Internet, Social Entrepreneurship', 'Retail',\n",
       "       'Finance, Impact Investing, Mobile Apps',\n",
       "       'Cloud Computing, Computer, Software',\n",
       "       'Business Development, Market Research, Outsourcing',\n",
       "       'Health Care, Hospitality', 'Internet, Social News, Sports',\n",
       "       'Human Resources', 'Finance, Financial Services, FinTech',\n",
       "       'Customer Service, Software, Video, Video Streaming',\n",
       "       'E-Commerce, Food Processing', 'Training',\n",
       "       'Dietary Supplements, Food and Beverage, Health Care, Organic Food, Snack Food',\n",
       "       'Manufacturing, Oil and Gas, Robotics',\n",
       "       'Artificial Intelligence, Computer, Machine Learning',\n",
       "       'Collaboration, Communities, Coworking, Sharing Economy',\n",
       "       'Big Data, EdTech, Machine Learning', 'Nanotechnology',\n",
       "       'Analytics, Audio, Digital Media, Innovation Management, Internet Radio, Media and Entertainment',\n",
       "       'Financial Services, Lending, Peer to Peer',\n",
       "       'E-Commerce, Furniture, Home Decor, Interior Design, Internet',\n",
       "       'Digital Media', 'File Sharing, Personalization, Social Media',\n",
       "       'Home Decor, Interior Design',\n",
       "       'Health Care, Medical Device, Mobile Apps',\n",
       "       'E-Commerce, Facilities Support Services, Procurement, Supply Chain Management',\n",
       "       'Crowdfunding, Finance, Financial Services',\n",
       "       'Finance, Financial Services, Insurance',\n",
       "       'Children, Education, Online Portals', 'Software, Virtual Reality',\n",
       "       'B2B, Food and Beverage, Food Delivery',\n",
       "       'Catering, Food and Beverage, Food Delivery, Food Processing',\n",
       "       'Food and Beverage, Snack Food', 'Automotive, E-Commerce, Mobile',\n",
       "       'Computer, Digital Marketing, Facilities Support Services, Graphic Design, Internet, Mobile Apps, Social Media Marketing, Web Development',\n",
       "       'Android, Big Data, Blockchain, Cloud Computing, EdTech, Education, Information Technology, iOS, Training, Web Development',\n",
       "       'Analytics, CRM, Loyalty Programs, Machine Learning, Marketing Automation, Retail Technology, SaaS, Small and Medium Businesses',\n",
       "       'Delivery, Information Technology, Mobile Apps',\n",
       "       'Environmental Consulting, Renewable Energy',\n",
       "       'Big Data, Business Intelligence, Financial Services, FinTech, Personal Finance',\n",
       "       'Commercial Real Estate, Coworking, Office Administration, Real Estate',\n",
       "       'Food and Beverage, Food Processing, Organic Food, Snack Food',\n",
       "       'Apps, Health Care, Internet, Mobile Apps, Personal Health',\n",
       "       'Digital Media, Incubators, Social Entrepreneurship',\n",
       "       'Finance, Financial Services, Marketing',\n",
       "       'Biotechnology, Health Care, Life Science, Medical Device',\n",
       "       'Education, Human Resources', 'Consumer Electronics',\n",
       "       'Apps, Health Care, Hospital, Mobile Apps',\n",
       "       'Delivery Service, Logistics, Service Industry',\n",
       "       'Big Data, Data Visualization, Logistics, Software',\n",
       "       'Basketball, Cricket, Cycling, eSports, Fitness, Golf, Health Care, Hockey, Sports, Swimming, Table Tennis, Volley Ball',\n",
       "       'Media and Entertainment, News, Publishing', 'Consulting',\n",
       "       'Big Data, Financial Services, Machine Learning, Predictive Analytics',\n",
       "       'Agriculture, AgTech, Manufacturing',\n",
       "       'Digital Media, News, Publishing', 'Health Care, Hospital',\n",
       "       'B2B, E-Commerce, Enterprise',\n",
       "       'Fraud Detection, Information Services, Security',\n",
       "       'Agriculture, AgTech, Artificial Intelligence, Internet of Things, Machine Learning',\n",
       "       'Cryptocurrency, Trading Platform',\n",
       "       'Finance, FinTech, Mobile Payments', 'Wedding',\n",
       "       'E-Learning, EdTech, Education, Image Recognition, Machine Learning, STEM Education',\n",
       "       'Consumer Goods', 'Digital Entertainment',\n",
       "       'Crowdsourcing, Financial Services, Funding Platform, Venture Capital',\n",
       "       'Delivery, Drones, Geospatial, Robotics',\n",
       "       'Health Care, Information Technology, Management Information Systems',\n",
       "       'Farming',\n",
       "       'Business Travel, Hospitality, Hotel, Marketplace, Tourism, Travel Accommodations',\n",
       "       'Career Planning, Education, Higher Education, Service Industry',\n",
       "       'Medical Device', 'Alternative Medicine, Health Care',\n",
       "       'Internet, Software',\n",
       "       'Dental, Elder Care, Health Care, Home Health Care, Personal Health',\n",
       "       'Financial Services, Insurance, Private Social Networking',\n",
       "       'Consumer Electronics, E-Commerce, E-Commerce Platforms, Electronics, Shipping, Shopping',\n",
       "       'CleanTech', 'Advertising, Internet, Marketing',\n",
       "       'Human Resources, Security, Training',\n",
       "       'Consumer Lending, Finance, FinTech',\n",
       "       'Marketing, Social Media, Video', 'Banking', 'Food Processing',\n",
       "       'Apps', 'Marketing',\n",
       "       'Apps, B2B, Freight Service, Logistics, SaaS, Shipping, Supply Chain Management, Transportation',\n",
       "       'Digital Entertainment, Fantasy Sports, Gaming, Sports',\n",
       "       'Automotive, Last Mile Transportation, Peer to Peer, Ride Sharing',\n",
       "       'Commercial, E-Learning, Education',\n",
       "       'Continuing Education, EdTech, Education, Skill Assessment',\n",
       "       'Smart Cities, Telecommunications', 'Internet of Things, Robotics',\n",
       "       'Apps, Home Services, Information Services, Information Technology',\n",
       "       'Medical, Tourism', 'Career Planning, Education, Internet',\n",
       "       'Fashion, Graphic Design, Wearables',\n",
       "       'Communities, Leisure, Mobile Apps, Software',\n",
       "       'Automotive, Rental, Sharing Economy',\n",
       "       'Energy, Environmental Consulting, Renewable Energy, Solar',\n",
       "       'Information Technology, SaaS, Security',\n",
       "       'Crowdfunding, Financial Services, Internet',\n",
       "       'Customer Service, Information Technology, Internet, Sales Automation',\n",
       "       'Advertising, Artificial Intelligence, Digital Media, iOS, Location Based Services, News, Video, Video on Demand, Video Streaming',\n",
       "       'Credit Cards, Payments, Property Insurance, Property Management, Rental Property',\n",
       "       'Beauty, Cosmetics, Health Care, Service Industry',\n",
       "       'EdTech, Education, Mobile, Tutoring', 'Social Media, Sports',\n",
       "       'Biopharma', 'E-Commerce, E-Commerce Platforms, Retail',\n",
       "       'E-Commerce, Fashion, Shopping',\n",
       "       'Digital Entertainment, Mobile, PC Games',\n",
       "       'Finance, Financial Services, Small and Medium Businesses',\n",
       "       'Artificial Intelligence, Energy, Oil and Gas',\n",
       "       'Computer, FinTech, Risk Management, Software',\n",
       "       'Apps, Financial Services, FinTech',\n",
       "       \"Child Care, Health Care, Hospital, Medical, Women's\",\n",
       "       'Agriculture, Mobile',\n",
       "       'Finance, FinTech, Payments, Property Development, Rental',\n",
       "       'Information Services, Information Technology, Mobile, Software',\n",
       "       'Apps, Fitness, Health Care, mHealth',\n",
       "       'Food and Beverage, Food Delivery', 'Apps, Payments, Retail',\n",
       "       'Health Insurance, Insurance, Life Insurance',\n",
       "       'Rental, Taxi Service, Travel',\n",
       "       'E-Commerce, E-Commerce Platforms, Internet, Retail',\n",
       "       'Financial Services, Professional Services',\n",
       "       'Customer Service, Messaging, Mobile Apps, Personalization',\n",
       "       'Gaming, iOS, Sports',\n",
       "       'E-Commerce, E-Commerce Platforms, Internet, Mobile Apps, Social Media',\n",
       "       'Search Engine',\n",
       "       'Battery, Electric Vehicle, Energy, Renewable Energy, Transportation',\n",
       "       'Agriculture, Farmers Market, Farming',\n",
       "       'Artificial Intelligence, Drones, Navigation, Packaging Services, Robotics',\n",
       "       'Fitness, GreenTech, Internet of Things, Mobile Apps, Ride Sharing, Transportation',\n",
       "       'Mobile, Software, Travel', 'Cosmetics',\n",
       "       'Consulting, Cyber Security, Network Security',\n",
       "       'eSports, Gaming, Video Games', 'Fashion, Jewelry',\n",
       "       'B2B, Medical Device', 'Consumer Goods, Manufacturing',\n",
       "       'Biotechnology, Health Care, Wellness',\n",
       "       'Health Care, Hospital, Medical, Robotics',\n",
       "       'E-Commerce, Fitness, Health Care',\n",
       "       'Financial Services, Venture Capital', 'Accounting, Apps, FinTech',\n",
       "       'Apps, Mobile, Transportation', 'Reading Apps',\n",
       "       'Energy, Renewable Energy, Solar',\n",
       "       'Banking, Financial Services, FinTech', 'Apps, Education, Retail',\n",
       "       'Electric Vehicle',\n",
       "       'Automotive, Battery, Electric Vehicle, Manufacturing, Mechanical Design',\n",
       "       'Automotive, E-Commerce, Marketplace', 'Agriculture',\n",
       "       'Apps, Information Services, Information Technology',\n",
       "       'B2B, Marketplace', 'Packaging Services',\n",
       "       'Computer, Furniture, Software',\n",
       "       'Food Delivery, Hospitality, Reservations, Restaurants, Search Engine',\n",
       "       'Collaboration, Communities, Coworking, Real Estate',\n",
       "       'Accounting, Banking, Finance',\n",
       "       'Cloud Computing, Enterprise Software, Network Hardware, Network Security, SaaS',\n",
       "       'Information Services, Internet, Logistics, Supply Chain Management, Transportation',\n",
       "       'Automotive, E-Commerce, Information Services',\n",
       "       'Delivery, Logistics, Transportation',\n",
       "       'Automotive, E-Commerce Platforms, Marketplace',\n",
       "       'Last Mile Transportation, Railroad, Transportation, Travel',\n",
       "       'Cooking, E-Commerce, Food and Beverage, Food Delivery, Online Portals',\n",
       "       'FinTech, Mobile, Mobile Payments, Payments, Retail Technology',\n",
       "       'Online Games, Software',\n",
       "       'Online Portals, Property Management, Rental',\n",
       "       'E-Commerce, Food and Beverage, Tea',\n",
       "       'Music, Social Network, Video',\n",
       "       'Health Care, Pharmaceutical, Wellness',\n",
       "       'Delivery Service, Food and Beverage, Food Delivery',\n",
       "       'Hospitality, Information Technology, Travel Accommodations',\n",
       "       'Biotechnology, Diabetes, Health Care',\n",
       "       'Autonomous Vehicles, Last Mile Transportation, Recreational Vehicles, Rental',\n",
       "       'Finance, Financial Exchanges, Financial Services, Micro Lending',\n",
       "       'Analytics, Apps, Market Research',\n",
       "       'E-Commerce, E-Commerce Platforms, Furniture, Home Decor, Internet',\n",
       "       'Apps, Mobile, Mobile Apps, Software',\n",
       "       'News, Publishing, Social Media',\n",
       "       'Industrial, Industrial Automation',\n",
       "       'Internet, Mobile Apps, Social Network',\n",
       "       'Health Care, Health Diagnostics, Internet of Things, Life Science, Machine Learning, Medical, Medical Device',\n",
       "       'E-Commerce, Furniture, Interior Design', 'Apps, Events, News',\n",
       "       'Artificial Intelligence, Human Resources, Information Services, Information Technology',\n",
       "       'Logistics, Railroad, Transportation',\n",
       "       'Dating, Private Social Networking',\n",
       "       'Artificial Intelligence, Machine Learning, PaaS',\n",
       "       'Consumer, Furniture, Home Decor, Home Improvement',\n",
       "       'Apps, E-Commerce, Internet, Mobile, Ride Sharing, Transportation',\n",
       "       'Health Care, Health Insurance', 'Energy, Natural Resources',\n",
       "       'E-Commerce, Education, Health Care',\n",
       "       'Apps, Health Care, Pharmaceutical',\n",
       "       'Internet, Knowledge Management',\n",
       "       'Credit, Finance, FinTech, Lending, Sales Automation',\n",
       "       'Banking, Financial Services, Internet',\n",
       "       'E-Commerce, Health Care, Retail',\n",
       "       'Child Care, Information Technology',\n",
       "       'Financial Services, Micro Lending',\n",
       "       'E-Commerce, Retail, Shopping',\n",
       "       'Food and Beverage, Snack Food, Tea',\n",
       "       'Delivery Service, E-Commerce, Logistics',\n",
       "       'Fashion, Lifestyle, Rental', 'Fantasy Sports, Mobile, Sports',\n",
       "       'Beauty, Fashion, Wellness', 'Food and Beverage, Restaurants, Tea',\n",
       "       'Fitness, Sporting Goods, Sports',\n",
       "       'Food and Beverage, Food Processing, Manufacturing',\n",
       "       'E-Learning, Internet', 'Eyewear, Internet',\n",
       "       'Information Technology, Mobile, News, Operating Systems, Social Media, Social News',\n",
       "       'FinTech, Internet, Payments, Service Industry',\n",
       "       'B2B, Business Development, Internet, Marketplace',\n",
       "       'Food and Beverage, Food Delivery, Internet',\n",
       "       'Biotechnology, Health Care, Pharmaceutical'], dtype=object)"
      ]
     },
     "execution_count": 123,
     "metadata": {},
     "output_type": "execute_result"
    }
   ],
   "source": [
    "# Missing Values are also denoted by dashes (\"—\")\n",
    "# Replace dashes with NaN\n",
    "value_to_drop = '—'\n",
    "concatenated = data_2018[data_2018['Sector'] != value_to_drop]\n",
    "concatenated['Sector'].unique()"
   ]
  },
  {
   "cell_type": "markdown",
   "metadata": {},
   "source": [
    "### identifying Unique values in HeadQuarter colmun"
   ]
  },
  {
   "cell_type": "code",
   "execution_count": 124,
   "metadata": {},
   "outputs": [
    {
     "name": "stdout",
     "output_type": "stream",
     "text": [
      "['Bangalore, Karnataka, India' 'Mumbai, Maharashtra, India'\n",
      " 'Gurgaon, Haryana, India' 'Noida, Uttar Pradesh, India'\n",
      " 'Hyderabad, Andhra Pradesh, India' 'Bengaluru, Karnataka, India'\n",
      " 'Kalkaji, Delhi, India' 'Delhi, Delhi, India' 'India, Asia'\n",
      " 'Hubli, Karnataka, India' 'New Delhi, Delhi, India'\n",
      " 'Chennai, Tamil Nadu, India' 'Mohali, Punjab, India'\n",
      " 'Kolkata, West Bengal, India' 'Pune, Maharashtra, India'\n",
      " 'Jodhpur, Rajasthan, India' 'Kanpur, Uttar Pradesh, India'\n",
      " 'Ahmedabad, Gujarat, India' 'Azadpur, Delhi, India'\n",
      " 'Haryana, Haryana, India' 'Cochin, Kerala, India'\n",
      " 'Faridabad, Haryana, India' 'Jaipur, Rajasthan, India'\n",
      " 'Kota, Rajasthan, India' 'Anand, Gujarat, India'\n",
      " 'Bangalore City, Karnataka, India' 'Belgaum, Karnataka, India'\n",
      " 'Thane, Maharashtra, India' 'Margão, Goa, India'\n",
      " 'Indore, Madhya Pradesh, India' 'Alwar, Rajasthan, India'\n",
      " 'Kannur, Kerala, India' 'Trivandrum, Kerala, India'\n",
      " 'Ernakulam, Kerala, India' 'Kormangala, Karnataka, India'\n",
      " 'Uttar Pradesh, India, Asia' 'Andheri, Maharashtra, India'\n",
      " 'Mylapore, Tamil Nadu, India' 'Ghaziabad, Uttar Pradesh, India'\n",
      " 'Kochi, Kerala, India' 'Powai, Assam, India'\n",
      " 'Guntur, Andhra Pradesh, India' 'Kalpakkam, Tamil Nadu, India'\n",
      " 'Bhopal, Madhya Pradesh, India' 'Coimbatore, Tamil Nadu, India'\n",
      " 'Worli, Maharashtra, India' 'Alleppey, Kerala, India'\n",
      " 'Chandigarh, Chandigarh, India' 'Guindy, Tamil Nadu, India'\n",
      " 'Lucknow, Uttar Pradesh, India']\n"
     ]
    }
   ],
   "source": [
    "print(data_2018['HeadQuarter'].unique())"
   ]
  },
  {
   "cell_type": "markdown",
   "metadata": {},
   "source": [
    "### splits the 'HeadQuarter' column into three columns based on the comma and space separator and then removes the unnecessary 'f' and 'u' columns "
   ]
  },
  {
   "cell_type": "code",
   "execution_count": 125,
   "metadata": {},
   "outputs": [],
   "source": [
    "data_2018[['HeadQuarter','f','u']] = data_2018['HeadQuarter'].str.split(', ',expand=True)\n",
    "data_2018.drop(columns=['f','u'], axis=1, inplace = True)"
   ]
  },
  {
   "cell_type": "markdown",
   "metadata": {},
   "source": [
    "### identifying Unique values in Stage colmun"
   ]
  },
  {
   "cell_type": "code",
   "execution_count": 126,
   "metadata": {},
   "outputs": [
    {
     "name": "stdout",
     "output_type": "stream",
     "text": [
      "['Seed' 'Series A' 'Angel' 'Series B' 'Pre-Seed' 'Private Equity'\n",
      " 'Venture - Series Unknown' 'Grant' 'Debt Financing' 'Post-IPO Debt'\n",
      " 'Series H' 'Series C' 'Series E' 'Corporate Round' 'Undisclosed'\n",
      " 'https://docs.google.com/spreadsheets/d/1x9ziNeaz6auNChIHnMI8U6kS7knTr3byy_YBGfQaoUA/edit#gid=1861303593'\n",
      " 'Series D' 'Secondary Market' 'Post-IPO Equity' 'Non-equity Assistance'\n",
      " 'Funding Round']\n"
     ]
    }
   ],
   "source": [
    "print(data_2018['Stage'].unique())"
   ]
  },
  {
   "cell_type": "markdown",
   "metadata": {},
   "source": [
    "### reassigns or consolidates different stage labels into a more uniform set of stage names within the 'Stage' column."
   ]
  },
  {
   "cell_type": "code",
   "execution_count": 127,
   "metadata": {},
   "outputs": [],
   "source": [
    "replacement ={\n",
    "    'Seed':'Pre-series A', \n",
    "    'Angel':'Angel Round', \n",
    "    'Pre-Seed':'Pre-series A',\n",
    "    'Private Equity':'Equity',\n",
    "    'Venture - Series Unknown':'Unknown', \n",
    "    'Debt Financing':'Debt', \n",
    "    'Post-IPO Debt':'Debt',\n",
    "    'Undisclosed':'Unknown',\n",
    "    'https://docs.google.com/spreadsheets/d/1x9ziNeaz6auNChIHnMI8U6kS7knTr3byy_YBGfQaoUA/edit#gid=1861303593':'Unknown',\n",
    "    'Secondary Market':'Unknown', \n",
    "    'Post-IPO Equity': 'Equity',\n",
    "    'Non-equity Assistance':'Pre-series A',\n",
    "    'Funding Round':'Pre-series A', \n",
    "    }\n",
    "data_2018['Stage'] = data_2018['Stage'].replace(replacement)"
   ]
  },
  {
   "cell_type": "markdown",
   "metadata": {},
   "source": [
    "### identifying Unique values in Amount colmun"
   ]
  },
  {
   "cell_type": "code",
   "execution_count": 128,
   "metadata": {},
   "outputs": [
    {
     "name": "stdout",
     "output_type": "stream",
     "text": [
      "['250000' '₹40,000,000' '₹65,000,000' '2000000' '—' '1600000'\n",
      " '₹16,000,000' '₹50,000,000' '₹100,000,000' '150000' '1100000' '₹500,000'\n",
      " '6000000' '650000' '₹35,000,000' '₹64,000,000' '₹20,000,000' '1000000'\n",
      " '5000000' '4000000' '₹30,000,000' '2800000' '1700000' '1300000'\n",
      " '₹5,000,000' '₹12,500,000' '₹15,000,000' '500000' '₹104,000,000'\n",
      " '₹45,000,000' '13400000' '₹25,000,000' '₹26,400,000' '₹8,000,000'\n",
      " '₹60,000' '9000000' '100000' '20000' '120000' '₹34,000,000'\n",
      " '₹342,000,000' '$143,145' '₹600,000,000' '$742,000,000' '₹1,000,000,000'\n",
      " '₹2,000,000,000' '$3,980,000' '$10,000' '₹100,000' '₹250,000,000'\n",
      " '$1,000,000,000' '$7,000,000' '$35,000,000' '₹550,000,000' '$28,500,000'\n",
      " '$2,000,000' '₹240,000,000' '₹120,000,000' '$2,400,000' '$30,000,000'\n",
      " '₹2,500,000,000' '$23,000,000' '$150,000' '$11,000,000' '₹44,000,000'\n",
      " '$3,240,000' '₹60,000,000' '$540,000,000' '₹650,000,000' '₹1,600,000,000'\n",
      " '$900,000' '$10,000,000' '$1,500,000' '₹70,000,000' '$1,000,000'\n",
      " '$5,000,000' '$14,000,000' '₹102,500,000' '$100,000,000' '₹1,200,000'\n",
      " '₹5,200,000,000' '$800,000' '$1,041,000' '$100,000' '$15,000' '1400000'\n",
      " '1200000' '2200000' '1800000' '3600000' '₹9,500,000' '300000' '6830000'\n",
      " '200000' '₹150,000,000' '4300000' '364846' '400000' '1500000'\n",
      " '₹7,000,000' '₹1,400,000' '₹10,000,000' '₹22,500,000' '13200000' '50000'\n",
      " '₹140,200,000' '3000000' '1250000' '180000' '₹19,200,000' '₹103,000,000'\n",
      " '4200000' '175000' '1450000' '₹200,000' '4500000' '600000' '₹16,600,000'\n",
      " '₹12,000,000' '15000000' '₹33,000,000' '125000' '130000' '₹34,900,000'\n",
      " '₹72,000,000' '17200000' '₹32,000,000' '3500000' '₹135,000,000'\n",
      " '12000000' '$40,000,000' '$1,100,000' '$50,000,000' '₹1,540,000,000'\n",
      " '$3,000,000' '$6,000,000' '₹140,000,000' '$41,900,000' '₹1,410,000,000'\n",
      " '$3,530,000' '$200,000' '$3,300,000' '₹580,000,000' '₹36,000,000'\n",
      " '₹340,000,000' '$210,000,000' '$37,680,000' '$250,000' '$20,000'\n",
      " '₹510,000,000' '₹2,200,000,000' '22000000' '70000' '10000000'\n",
      " '₹15,392,000,000' '₹20,000,000,000' '₹4,000,000,000' '185000000'\n",
      " '65000000' '₹165,000,000' '700000' '30000000' '₹210,000,000' '210000000'\n",
      " '₹2,029,600,000' '75000000' '₹80,000,000' '1760000' '2700000'\n",
      " '₹280,000,000' '₹800,000,000' '750000' '2500000' '80000000' '25000000'\n",
      " '₹730,000,000' '₹400,000,000' '3700000' '5600000' '₹260,000,000'\n",
      " '99230000' '70000000' '40000' '550000' '50000000' '365000000'\n",
      " '₹8,750,000' '₹78,000,000' '28000000' '₹264,000,000' '100000000'\n",
      " '₹1,130,000,000' '₹810,000,000' '₹1,400,000,000' '14900000' '225000000'\n",
      " '7500' '35000000']\n"
     ]
    }
   ],
   "source": [
    "print(data_2018['Amount'].unique())"
   ]
  },
  {
   "cell_type": "markdown",
   "metadata": {},
   "source": [
    "### Ultimately, this code ensures that the 'Amount' column contains uniformly formatted values in USD, converting amounts in INR to USD using the defined exchange rate and handling different currency symbols or irregularities in the data."
   ]
  },
  {
   "cell_type": "code",
   "execution_count": 129,
   "metadata": {},
   "outputs": [
    {
     "name": "stdout",
     "output_type": "stream",
     "text": [
      "0      2.500000e+05\n",
      "1      5.797101e+05\n",
      "2      9.420290e+05\n",
      "3      2.000000e+06\n",
      "4               NaN\n",
      "           ...     \n",
      "521    2.250000e+08\n",
      "522             NaN\n",
      "523    7.500000e+03\n",
      "524    5.072464e+05\n",
      "525    3.500000e+07\n",
      "Name: Amount, Length: 525, dtype: float64\n"
     ]
    }
   ],
   "source": [
    "# Define the exchange rate from INR to USD (as of 2018)\n",
    "exchange_rate_inr_to_usd_2018 = 1 / 69  # 1 USD is approximately 69 INR in 2018\n",
    "\n",
    "# Function to clean and convert amounts to USD\n",
    "def clean_convert_amount(amount):\n",
    "    if '₹' in amount:  # Convert INR to USD\n",
    "        amount = amount.replace('₹', '').replace(',', '')  # Remove symbols and commas\n",
    "        return float(amount) * exchange_rate_inr_to_usd_2018\n",
    "    elif '$' in amount:  # Already in USD\n",
    "        amount = amount.replace('$', '').replace(',', '')  # Remove symbols and commas\n",
    "        return float(amount)\n",
    "    else:\n",
    "        try:\n",
    "            return float(amount)\n",
    "        except ValueError:\n",
    "            return np.nan  # Return NaN for invalid entries\n",
    "\n",
    "# Apply the function to clean and convert the 'Amount' column\n",
    "data_2018['Amount'] = data_2018['Amount'].apply(clean_convert_amount)\n",
    "\n",
    "# Display the cleaned and converted data\n",
    "print(data_2018['Amount'])\n"
   ]
  },
  {
   "cell_type": "code",
   "execution_count": 130,
   "metadata": {},
   "outputs": [
    {
     "name": "stdout",
     "output_type": "stream",
     "text": [
      "[2.50000000e+05 5.79710145e+05 9.42028986e+05 2.00000000e+06\n",
      "            nan 1.60000000e+06 2.31884058e+05 7.24637681e+05\n",
      " 1.44927536e+06 1.50000000e+05 1.10000000e+06 7.24637681e+03\n",
      " 6.00000000e+06 6.50000000e+05 5.07246377e+05 9.27536232e+05\n",
      " 2.89855072e+05 1.00000000e+06 5.00000000e+06 4.00000000e+06\n",
      " 4.34782609e+05 2.80000000e+06 1.70000000e+06 1.30000000e+06\n",
      " 7.24637681e+04 1.81159420e+05 2.17391304e+05 5.00000000e+05\n",
      " 1.50724638e+06 6.52173913e+05 1.34000000e+07 3.62318841e+05\n",
      " 3.82608696e+05 1.15942029e+05 8.69565217e+02 9.00000000e+06\n",
      " 1.00000000e+05 2.00000000e+04 1.20000000e+05 4.92753623e+05\n",
      " 4.95652174e+06 1.43145000e+05 8.69565217e+06 7.42000000e+08\n",
      " 1.44927536e+07 2.89855072e+07 3.98000000e+06 1.00000000e+04\n",
      " 1.44927536e+03 3.62318841e+06 1.00000000e+09 7.00000000e+06\n",
      " 3.50000000e+07 7.97101449e+06 2.85000000e+07 3.47826087e+06\n",
      " 1.73913043e+06 2.40000000e+06 3.00000000e+07 3.62318841e+07\n",
      " 2.30000000e+07 1.10000000e+07 6.37681159e+05 3.24000000e+06\n",
      " 8.69565217e+05 5.40000000e+08 9.42028986e+06 2.31884058e+07\n",
      " 9.00000000e+05 1.00000000e+07 1.50000000e+06 1.01449275e+06\n",
      " 1.40000000e+07 1.48550725e+06 1.00000000e+08 1.73913043e+04\n",
      " 7.53623188e+07 8.00000000e+05 1.04100000e+06 1.50000000e+04\n",
      " 1.40000000e+06 1.20000000e+06 2.20000000e+06 1.80000000e+06\n",
      " 3.60000000e+06 1.37681159e+05 3.00000000e+05 6.83000000e+06\n",
      " 2.00000000e+05 2.17391304e+06 4.30000000e+06 3.64846000e+05\n",
      " 4.00000000e+05 1.01449275e+05 2.02898551e+04 1.44927536e+05\n",
      " 3.26086957e+05 1.32000000e+07 5.00000000e+04 2.03188406e+06\n",
      " 3.00000000e+06 1.25000000e+06 1.80000000e+05 2.78260870e+05\n",
      " 1.49275362e+06 4.20000000e+06 1.75000000e+05 1.45000000e+06\n",
      " 2.89855072e+03 4.50000000e+06 6.00000000e+05 2.40579710e+05\n",
      " 1.73913043e+05 1.50000000e+07 4.78260870e+05 1.25000000e+05\n",
      " 1.30000000e+05 5.05797101e+05 1.04347826e+06 1.72000000e+07\n",
      " 4.63768116e+05 3.50000000e+06 1.95652174e+06 1.20000000e+07\n",
      " 4.00000000e+07 5.00000000e+07 2.23188406e+07 2.02898551e+06\n",
      " 4.19000000e+07 2.04347826e+07 3.53000000e+06 3.30000000e+06\n",
      " 8.40579710e+06 5.21739130e+05 4.92753623e+06 2.10000000e+08\n",
      " 3.76800000e+07 7.39130435e+06 3.18840580e+07 2.20000000e+07\n",
      " 7.00000000e+04 2.23072464e+08 2.89855072e+08 5.79710145e+07\n",
      " 1.85000000e+08 6.50000000e+07 2.39130435e+06 7.00000000e+05\n",
      " 3.04347826e+06 2.94144928e+07 7.50000000e+07 1.15942029e+06\n",
      " 1.76000000e+06 2.70000000e+06 4.05797101e+06 1.15942029e+07\n",
      " 7.50000000e+05 2.50000000e+06 8.00000000e+07 2.50000000e+07\n",
      " 1.05797101e+07 5.79710145e+06 3.70000000e+06 5.60000000e+06\n",
      " 3.76811594e+06 9.92300000e+07 7.00000000e+07 4.00000000e+04\n",
      " 5.50000000e+05 3.65000000e+08 1.26811594e+05 1.13043478e+06\n",
      " 2.80000000e+07 3.82608696e+06 1.63768116e+07 1.17391304e+07\n",
      " 2.02898551e+07 1.49000000e+07 2.25000000e+08 7.50000000e+03]\n"
     ]
    }
   ],
   "source": [
    "print(data_2018['Amount'].unique())"
   ]
  },
  {
   "cell_type": "code",
   "execution_count": 131,
   "metadata": {},
   "outputs": [
    {
     "data": {
      "text/plain": [
       "148"
      ]
     },
     "execution_count": 131,
     "metadata": {},
     "output_type": "execute_result"
    }
   ],
   "source": [
    "# Identify rows with missing Amount values\n",
    "data_2018['Amount'].isnull().sum() "
   ]
  },
  {
   "cell_type": "markdown",
   "metadata": {},
   "source": [
    "### missing values in the 'Amount' column by substituting them with a representative measure (the median) "
   ]
  },
  {
   "cell_type": "code",
   "execution_count": 132,
   "metadata": {},
   "outputs": [],
   "source": [
    "# Impute with Central Tendency Measure: This approach assumes that the missing values are representative of the overall distribution of the 'Amount' column.\n",
    "median_amount = data_2018['Amount'].median()\n",
    "data_2018['Amount'].fillna(median_amount, inplace=True)"
   ]
  },
  {
   "cell_type": "code",
   "execution_count": 133,
   "metadata": {},
   "outputs": [
    {
     "data": {
      "text/plain": [
       "0"
      ]
     },
     "execution_count": 133,
     "metadata": {},
     "output_type": "execute_result"
    }
   ],
   "source": [
    "# Identify rows with missing Amount values\n",
    "data_2018['Amount'].isnull().sum()"
   ]
  },
  {
   "cell_type": "markdown",
   "metadata": {},
   "source": [
    "### adding new colmun year for 2018 for analysis"
   ]
  },
  {
   "cell_type": "code",
   "execution_count": 134,
   "metadata": {},
   "outputs": [],
   "source": [
    "# add Year column \n",
    "data_2018['Year'] = 2018"
   ]
  },
  {
   "cell_type": "code",
   "execution_count": 135,
   "metadata": {},
   "outputs": [
    {
     "data": {
      "text/html": [
       "<div>\n",
       "<style scoped>\n",
       "    .dataframe tbody tr th:only-of-type {\n",
       "        vertical-align: middle;\n",
       "    }\n",
       "\n",
       "    .dataframe tbody tr th {\n",
       "        vertical-align: top;\n",
       "    }\n",
       "\n",
       "    .dataframe thead th {\n",
       "        text-align: right;\n",
       "    }\n",
       "</style>\n",
       "<table border=\"1\" class=\"dataframe\">\n",
       "  <thead>\n",
       "    <tr style=\"text-align: right;\">\n",
       "      <th></th>\n",
       "      <th>Company Brand</th>\n",
       "      <th>Sector</th>\n",
       "      <th>Stage</th>\n",
       "      <th>Amount</th>\n",
       "      <th>HeadQuarter</th>\n",
       "      <th>What it does</th>\n",
       "      <th>Year</th>\n",
       "    </tr>\n",
       "  </thead>\n",
       "  <tbody>\n",
       "    <tr>\n",
       "      <th>0</th>\n",
       "      <td>TheCollegeFever</td>\n",
       "      <td>Brand Marketing, Event Promotion, Marketing, S...</td>\n",
       "      <td>Pre-series A</td>\n",
       "      <td>2.500000e+05</td>\n",
       "      <td>Bangalore</td>\n",
       "      <td>TheCollegeFever is a hub for fun, fiesta and f...</td>\n",
       "      <td>2018</td>\n",
       "    </tr>\n",
       "    <tr>\n",
       "      <th>1</th>\n",
       "      <td>Happy Cow Dairy</td>\n",
       "      <td>Agriculture, Farming</td>\n",
       "      <td>Pre-series A</td>\n",
       "      <td>5.797101e+05</td>\n",
       "      <td>Mumbai</td>\n",
       "      <td>A startup which aggregates milk from dairy far...</td>\n",
       "      <td>2018</td>\n",
       "    </tr>\n",
       "    <tr>\n",
       "      <th>2</th>\n",
       "      <td>MyLoanCare</td>\n",
       "      <td>Credit, Financial Services, Lending, Marketplace</td>\n",
       "      <td>Series A</td>\n",
       "      <td>9.420290e+05</td>\n",
       "      <td>Gurgaon</td>\n",
       "      <td>Leading Online Loans Marketplace in India</td>\n",
       "      <td>2018</td>\n",
       "    </tr>\n",
       "    <tr>\n",
       "      <th>3</th>\n",
       "      <td>PayMe India</td>\n",
       "      <td>Financial Services, FinTech</td>\n",
       "      <td>Angel Round</td>\n",
       "      <td>2.000000e+06</td>\n",
       "      <td>Noida</td>\n",
       "      <td>PayMe India is an innovative FinTech organizat...</td>\n",
       "      <td>2018</td>\n",
       "    </tr>\n",
       "    <tr>\n",
       "      <th>4</th>\n",
       "      <td>Eunimart</td>\n",
       "      <td>E-Commerce Platforms, Retail, SaaS</td>\n",
       "      <td>Pre-series A</td>\n",
       "      <td>1.300000e+06</td>\n",
       "      <td>Hyderabad</td>\n",
       "      <td>Eunimart is a one stop solution for merchants ...</td>\n",
       "      <td>2018</td>\n",
       "    </tr>\n",
       "    <tr>\n",
       "      <th>...</th>\n",
       "      <td>...</td>\n",
       "      <td>...</td>\n",
       "      <td>...</td>\n",
       "      <td>...</td>\n",
       "      <td>...</td>\n",
       "      <td>...</td>\n",
       "      <td>...</td>\n",
       "    </tr>\n",
       "    <tr>\n",
       "      <th>521</th>\n",
       "      <td>Udaan</td>\n",
       "      <td>B2B, Business Development, Internet, Marketplace</td>\n",
       "      <td>Series C</td>\n",
       "      <td>2.250000e+08</td>\n",
       "      <td>Bangalore</td>\n",
       "      <td>Udaan is a B2B trade platform, designed specif...</td>\n",
       "      <td>2018</td>\n",
       "    </tr>\n",
       "    <tr>\n",
       "      <th>522</th>\n",
       "      <td>Happyeasygo Group</td>\n",
       "      <td>Tourism, Travel</td>\n",
       "      <td>Series A</td>\n",
       "      <td>1.300000e+06</td>\n",
       "      <td>Haryana</td>\n",
       "      <td>HappyEasyGo is an online travel domain.</td>\n",
       "      <td>2018</td>\n",
       "    </tr>\n",
       "    <tr>\n",
       "      <th>523</th>\n",
       "      <td>Mombay</td>\n",
       "      <td>Food and Beverage, Food Delivery, Internet</td>\n",
       "      <td>Pre-series A</td>\n",
       "      <td>7.500000e+03</td>\n",
       "      <td>Mumbai</td>\n",
       "      <td>Mombay is a unique opportunity for housewives ...</td>\n",
       "      <td>2018</td>\n",
       "    </tr>\n",
       "    <tr>\n",
       "      <th>524</th>\n",
       "      <td>Droni Tech</td>\n",
       "      <td>Information Technology</td>\n",
       "      <td>Pre-series A</td>\n",
       "      <td>5.072464e+05</td>\n",
       "      <td>Mumbai</td>\n",
       "      <td>Droni Tech manufacture UAVs and develop softwa...</td>\n",
       "      <td>2018</td>\n",
       "    </tr>\n",
       "    <tr>\n",
       "      <th>525</th>\n",
       "      <td>Netmeds</td>\n",
       "      <td>Biotechnology, Health Care, Pharmaceutical</td>\n",
       "      <td>Series C</td>\n",
       "      <td>3.500000e+07</td>\n",
       "      <td>Chennai</td>\n",
       "      <td>Welcome to India's most convenient pharmacy!</td>\n",
       "      <td>2018</td>\n",
       "    </tr>\n",
       "  </tbody>\n",
       "</table>\n",
       "<p>525 rows × 7 columns</p>\n",
       "</div>"
      ],
      "text/plain": [
       "         Company Brand                                             Sector  \\\n",
       "0      TheCollegeFever  Brand Marketing, Event Promotion, Marketing, S...   \n",
       "1      Happy Cow Dairy                               Agriculture, Farming   \n",
       "2           MyLoanCare   Credit, Financial Services, Lending, Marketplace   \n",
       "3          PayMe India                        Financial Services, FinTech   \n",
       "4             Eunimart                 E-Commerce Platforms, Retail, SaaS   \n",
       "..                 ...                                                ...   \n",
       "521              Udaan   B2B, Business Development, Internet, Marketplace   \n",
       "522  Happyeasygo Group                                    Tourism, Travel   \n",
       "523             Mombay         Food and Beverage, Food Delivery, Internet   \n",
       "524         Droni Tech                             Information Technology   \n",
       "525            Netmeds         Biotechnology, Health Care, Pharmaceutical   \n",
       "\n",
       "            Stage        Amount HeadQuarter  \\\n",
       "0    Pre-series A  2.500000e+05   Bangalore   \n",
       "1    Pre-series A  5.797101e+05      Mumbai   \n",
       "2        Series A  9.420290e+05     Gurgaon   \n",
       "3     Angel Round  2.000000e+06       Noida   \n",
       "4    Pre-series A  1.300000e+06   Hyderabad   \n",
       "..            ...           ...         ...   \n",
       "521      Series C  2.250000e+08   Bangalore   \n",
       "522      Series A  1.300000e+06     Haryana   \n",
       "523  Pre-series A  7.500000e+03      Mumbai   \n",
       "524  Pre-series A  5.072464e+05      Mumbai   \n",
       "525      Series C  3.500000e+07     Chennai   \n",
       "\n",
       "                                          What it does  Year  \n",
       "0    TheCollegeFever is a hub for fun, fiesta and f...  2018  \n",
       "1    A startup which aggregates milk from dairy far...  2018  \n",
       "2            Leading Online Loans Marketplace in India  2018  \n",
       "3    PayMe India is an innovative FinTech organizat...  2018  \n",
       "4    Eunimart is a one stop solution for merchants ...  2018  \n",
       "..                                                 ...   ...  \n",
       "521  Udaan is a B2B trade platform, designed specif...  2018  \n",
       "522            HappyEasyGo is an online travel domain.  2018  \n",
       "523  Mombay is a unique opportunity for housewives ...  2018  \n",
       "524  Droni Tech manufacture UAVs and develop softwa...  2018  \n",
       "525       Welcome to India's most convenient pharmacy!  2018  \n",
       "\n",
       "[525 rows x 7 columns]"
      ]
     },
     "execution_count": 135,
     "metadata": {},
     "output_type": "execute_result"
    }
   ],
   "source": [
    "data_2018"
   ]
  },
  {
   "cell_type": "markdown",
   "metadata": {},
   "source": [
    "## Join the tables"
   ]
  },
  {
   "cell_type": "code",
   "execution_count": 136,
   "metadata": {},
   "outputs": [
    {
     "data": {
      "text/html": [
       "<div>\n",
       "<style scoped>\n",
       "    .dataframe tbody tr th:only-of-type {\n",
       "        vertical-align: middle;\n",
       "    }\n",
       "\n",
       "    .dataframe tbody tr th {\n",
       "        vertical-align: top;\n",
       "    }\n",
       "\n",
       "    .dataframe thead th {\n",
       "        text-align: right;\n",
       "    }\n",
       "</style>\n",
       "<table border=\"1\" class=\"dataframe\">\n",
       "  <thead>\n",
       "    <tr style=\"text-align: right;\">\n",
       "      <th></th>\n",
       "      <th>Company Brand</th>\n",
       "      <th>Founded</th>\n",
       "      <th>HeadQuarter</th>\n",
       "      <th>Sector</th>\n",
       "      <th>What it does</th>\n",
       "      <th>Founders</th>\n",
       "      <th>Investor</th>\n",
       "      <th>Amount</th>\n",
       "      <th>Stage</th>\n",
       "      <th>Year</th>\n",
       "    </tr>\n",
       "  </thead>\n",
       "  <tbody>\n",
       "    <tr>\n",
       "      <th>0</th>\n",
       "      <td>Krayonnz</td>\n",
       "      <td>2019.0</td>\n",
       "      <td>Bangalore</td>\n",
       "      <td>EdTech</td>\n",
       "      <td>An academy-guardian-scholar centric ecosystem ...</td>\n",
       "      <td>Saurabh Dixit, Gurudutt Upadhyay</td>\n",
       "      <td>GSF Accelerator</td>\n",
       "      <td>100000.0</td>\n",
       "      <td>Pre-series A</td>\n",
       "      <td>2020</td>\n",
       "    </tr>\n",
       "    <tr>\n",
       "      <th>1</th>\n",
       "      <td>qZense</td>\n",
       "      <td>2019.0</td>\n",
       "      <td>Bangalore</td>\n",
       "      <td>AgriTech</td>\n",
       "      <td>qZense Labs is building the next-generation Io...</td>\n",
       "      <td>Rubal Chib, Dr Srishti Batra</td>\n",
       "      <td>Venture Catalysts, 9Unicorns Accelerator Fund</td>\n",
       "      <td>600000.0</td>\n",
       "      <td>Pre-series A</td>\n",
       "      <td>2020</td>\n",
       "    </tr>\n",
       "    <tr>\n",
       "      <th>2</th>\n",
       "      <td>MyClassboard</td>\n",
       "      <td>2008.0</td>\n",
       "      <td>Hyderabad</td>\n",
       "      <td>EdTech</td>\n",
       "      <td>MyClassboard is a full-fledged School / Colleg...</td>\n",
       "      <td>Ajay Sakhamuri</td>\n",
       "      <td>ICICI Bank.</td>\n",
       "      <td>600000.0</td>\n",
       "      <td>Pre-series A</td>\n",
       "      <td>2020</td>\n",
       "    </tr>\n",
       "    <tr>\n",
       "      <th>3</th>\n",
       "      <td>Rupeek</td>\n",
       "      <td>2015.0</td>\n",
       "      <td>Bangalore</td>\n",
       "      <td>FinTech</td>\n",
       "      <td>Rupeek is an online lending platform that spec...</td>\n",
       "      <td>Amar Prabhu, Ashwin Soni, Sumit Maniyar</td>\n",
       "      <td>KB Investment, Bertelsmann India Investments</td>\n",
       "      <td>45000000.0</td>\n",
       "      <td>Series C</td>\n",
       "      <td>2020</td>\n",
       "    </tr>\n",
       "    <tr>\n",
       "      <th>4</th>\n",
       "      <td>Gig India</td>\n",
       "      <td>2017.0</td>\n",
       "      <td>Pune</td>\n",
       "      <td>Crowdsourcing</td>\n",
       "      <td>GigIndia is a marketplace that provides on-dem...</td>\n",
       "      <td>Aditya Shirole, Sahil Sharma</td>\n",
       "      <td>Shantanu Deshpande, Subramaniam Ramadorai</td>\n",
       "      <td>1000000.0</td>\n",
       "      <td>Pre-series A</td>\n",
       "      <td>2020</td>\n",
       "    </tr>\n",
       "    <tr>\n",
       "      <th>5</th>\n",
       "      <td>Slurrp Farm</td>\n",
       "      <td>2016.0</td>\n",
       "      <td>Gurgaon</td>\n",
       "      <td>Food &amp; Bevarages</td>\n",
       "      <td>Slurrp Farm is a children health food brand.</td>\n",
       "      <td>Meghana Narayan</td>\n",
       "      <td>Fireside Ventures</td>\n",
       "      <td>2000000.0</td>\n",
       "      <td>Series A</td>\n",
       "      <td>2020</td>\n",
       "    </tr>\n",
       "    <tr>\n",
       "      <th>6</th>\n",
       "      <td>Shiprocket</td>\n",
       "      <td>2017.0</td>\n",
       "      <td>New Delhi</td>\n",
       "      <td>E-commerce</td>\n",
       "      <td>Shiprocket helps online retailers simplify the...</td>\n",
       "      <td>Gautam Kapoor, Saahil Goel, Vishesh Khurana</td>\n",
       "      <td>Bertelsmann India Investments, InnoVen Capital</td>\n",
       "      <td>7500000.0</td>\n",
       "      <td>Series C</td>\n",
       "      <td>2020</td>\n",
       "    </tr>\n",
       "    <tr>\n",
       "      <th>7</th>\n",
       "      <td>CoinDCX</td>\n",
       "      <td>2017.0</td>\n",
       "      <td>Mumbai</td>\n",
       "      <td>FinTech</td>\n",
       "      <td>CoinDCX is a company that specializes in crypt...</td>\n",
       "      <td>Neeraj Khandelwal, Sumit Gupta</td>\n",
       "      <td>Coinbase Ventures, Polychain</td>\n",
       "      <td>10000000.0</td>\n",
       "      <td>Series B</td>\n",
       "      <td>2020</td>\n",
       "    </tr>\n",
       "    <tr>\n",
       "      <th>8</th>\n",
       "      <td>Arya</td>\n",
       "      <td>1982.0</td>\n",
       "      <td>Noida</td>\n",
       "      <td>AgriTech</td>\n",
       "      <td>\"Simplifying Agribusiness\" Throughout Agri-Sup...</td>\n",
       "      <td>Chattanathan Devarajan, Prasanna Rao, Anand Ch...</td>\n",
       "      <td>Quona Capital</td>\n",
       "      <td>21000000.0</td>\n",
       "      <td>Series B</td>\n",
       "      <td>2020</td>\n",
       "    </tr>\n",
       "    <tr>\n",
       "      <th>9</th>\n",
       "      <td>Countingwell</td>\n",
       "      <td>2018.0</td>\n",
       "      <td>Bangalore</td>\n",
       "      <td>EdTech</td>\n",
       "      <td>An interactive Maths app, Countingwell breaks ...</td>\n",
       "      <td>Nirmal Shah</td>\n",
       "      <td>Delhi Private School, UAE, Interstar</td>\n",
       "      <td>1000000.0</td>\n",
       "      <td>Pre-series A</td>\n",
       "      <td>2020</td>\n",
       "    </tr>\n",
       "  </tbody>\n",
       "</table>\n",
       "</div>"
      ],
      "text/plain": [
       "  Company Brand  Founded HeadQuarter            Sector  \\\n",
       "0      Krayonnz   2019.0   Bangalore            EdTech   \n",
       "1        qZense   2019.0   Bangalore          AgriTech   \n",
       "2  MyClassboard   2008.0   Hyderabad            EdTech   \n",
       "3        Rupeek   2015.0   Bangalore           FinTech   \n",
       "4     Gig India   2017.0        Pune     Crowdsourcing   \n",
       "5   Slurrp Farm   2016.0     Gurgaon  Food & Bevarages   \n",
       "6    Shiprocket   2017.0   New Delhi        E-commerce   \n",
       "7       CoinDCX   2017.0      Mumbai           FinTech   \n",
       "8          Arya   1982.0       Noida          AgriTech   \n",
       "9  Countingwell   2018.0   Bangalore            EdTech   \n",
       "\n",
       "                                        What it does  \\\n",
       "0  An academy-guardian-scholar centric ecosystem ...   \n",
       "1  qZense Labs is building the next-generation Io...   \n",
       "2  MyClassboard is a full-fledged School / Colleg...   \n",
       "3  Rupeek is an online lending platform that spec...   \n",
       "4  GigIndia is a marketplace that provides on-dem...   \n",
       "5       Slurrp Farm is a children health food brand.   \n",
       "6  Shiprocket helps online retailers simplify the...   \n",
       "7  CoinDCX is a company that specializes in crypt...   \n",
       "8  \"Simplifying Agribusiness\" Throughout Agri-Sup...   \n",
       "9  An interactive Maths app, Countingwell breaks ...   \n",
       "\n",
       "                                            Founders  \\\n",
       "0                   Saurabh Dixit, Gurudutt Upadhyay   \n",
       "1                       Rubal Chib, Dr Srishti Batra   \n",
       "2                                     Ajay Sakhamuri   \n",
       "3            Amar Prabhu, Ashwin Soni, Sumit Maniyar   \n",
       "4                       Aditya Shirole, Sahil Sharma   \n",
       "5                                    Meghana Narayan   \n",
       "6        Gautam Kapoor, Saahil Goel, Vishesh Khurana   \n",
       "7                     Neeraj Khandelwal, Sumit Gupta   \n",
       "8  Chattanathan Devarajan, Prasanna Rao, Anand Ch...   \n",
       "9                                        Nirmal Shah   \n",
       "\n",
       "                                         Investor      Amount         Stage  \\\n",
       "0                                 GSF Accelerator    100000.0  Pre-series A   \n",
       "1   Venture Catalysts, 9Unicorns Accelerator Fund    600000.0  Pre-series A   \n",
       "2                                     ICICI Bank.    600000.0  Pre-series A   \n",
       "3    KB Investment, Bertelsmann India Investments  45000000.0      Series C   \n",
       "4       Shantanu Deshpande, Subramaniam Ramadorai   1000000.0  Pre-series A   \n",
       "5                               Fireside Ventures   2000000.0      Series A   \n",
       "6  Bertelsmann India Investments, InnoVen Capital   7500000.0      Series C   \n",
       "7                    Coinbase Ventures, Polychain  10000000.0      Series B   \n",
       "8                                   Quona Capital  21000000.0      Series B   \n",
       "9            Delhi Private School, UAE, Interstar   1000000.0  Pre-series A   \n",
       "\n",
       "   Year  \n",
       "0  2020  \n",
       "1  2020  \n",
       "2  2020  \n",
       "3  2020  \n",
       "4  2020  \n",
       "5  2020  \n",
       "6  2020  \n",
       "7  2020  \n",
       "8  2020  \n",
       "9  2020  "
      ]
     },
     "execution_count": 136,
     "metadata": {},
     "output_type": "execute_result"
    }
   ],
   "source": [
    "concatenated = pd.concat([data_2020, data_2021, data_2019, data_2018], ignore_index=True)\n",
    "concatenated.head(10)"
   ]
  },
  {
   "cell_type": "code",
   "execution_count": 137,
   "metadata": {},
   "outputs": [
    {
     "name": "stdout",
     "output_type": "stream",
     "text": [
      "<class 'pandas.core.frame.DataFrame'>\n",
      "RangeIndex: 1753 entries, 0 to 1752\n",
      "Data columns (total 10 columns):\n",
      " #   Column         Non-Null Count  Dtype  \n",
      "---  ------         --------------  -----  \n",
      " 0   Company Brand  1753 non-null   object \n",
      " 1   Founded        1228 non-null   float64\n",
      " 2   HeadQuarter    1753 non-null   object \n",
      " 3   Sector         1753 non-null   object \n",
      " 4   What it does   1753 non-null   object \n",
      " 5   Founders       1228 non-null   object \n",
      " 6   Investor       1228 non-null   object \n",
      " 7   Amount         1753 non-null   float64\n",
      " 8   Stage          1753 non-null   object \n",
      " 9   Year           1753 non-null   int64  \n",
      "dtypes: float64(2), int64(1), object(7)\n",
      "memory usage: 137.1+ KB\n"
     ]
    }
   ],
   "source": [
    "concatenated.info()"
   ]
  },
  {
   "cell_type": "markdown",
   "metadata": {},
   "source": [
    "### Grouping Sector to be more brief"
   ]
  },
  {
   "cell_type": "code",
   "execution_count": 138,
   "metadata": {},
   "outputs": [],
   "source": [
    "# for a more efficient regex grouping convert some more brief sector names\n",
    "\n",
    "concatenated['Sector'] = concatenated['Sector'].str.lower()\n",
    "concatenated['Sector'] = concatenated['Sector'].apply(lambda x: 'business consumer' if x == 'consumer' else x)\n",
    "concatenated['Sector'] = concatenated['Sector'].apply(lambda x: 'e-vehicle' if x == 'ev' else x)\n",
    "concatenated['Sector'] = concatenated['Sector'].apply(lambda x: 'tech' if x == 'it' else x)\n",
    "\n",
    "def sector_redistribution(sector):\n",
    "    if re.search('bank|fintech|finance|crypto|account|credit|venture|crowd|blockchain|fund|lending|financial|'\n",
    "                 'trading|wealth|insurance|remittance|money|wealth|equity|investment|mortgage|financial services|'\n",
    "                 'nft|payments', sector):\n",
    "        return 'Finance'\n",
    "    elif re.search(r'automotive|air transport|transport|logistics|vehicle|transportation|'\n",
    "                   r'aviation|vehicles|tyre|fleet|wheels|aero|mobility|aeorspace|wl & rac protection|'\n",
    "                   r'micro-mobiity|delivery service', sector):\n",
    "        return 'Transport'\n",
    "    elif re.search(r'clean energy|energy|boil &|\\boil\\b|solar|electricity|environment', sector):\n",
    "        return 'Energy'\n",
    "    elif re.search(r'analytics|consulting|human|career|\\berp\\b|advertising|advertisement|market research|'\n",
    "                   r'entrepre|recruit|\\bhr\\b|working|sultancy|advisory|work|job|management|skill|legal|'\n",
    "                   r'crm|specific domain to individuals|information services', sector):\n",
    "        return 'Business Intelligence'\n",
    "    elif re.search('beauty|cosmetic|skincare|fashion|wear|cosmetics|textiles|eyewear|jewellery|cloth|eyeglasses', \n",
    "                   sector):\n",
    "        return 'Beauty & Fashion'\n",
    "    elif re.search('decor|fitness|training|wellness|personal care|deisgn|craft|design|podcast|'\n",
    "                   'lifestyle|spiritual|matrimony|living|cultural|home', sector):\n",
    "        return 'LifeStyle'\n",
    "    elif re.search('edutech|education|learn|edtech', sector):\n",
    "        return 'Education'\n",
    "    elif re.search(r'beverage|catering|cook|food|restaurants', sector):\n",
    "        return 'Food & Beverages'\n",
    "    elif re.search('sports|esports|game|ball|player|manchester', sector):\n",
    "        return 'Sports'\n",
    "    elif re.search('customer|hospital|tourism|events|weedding|travel|hosts|booking|wedding|qsr', sector):\n",
    "        return 'Hospitality'\n",
    "    elif re.search('2|trade|enterpise|commerce|business|commercial|consumer goods|Marketplace|'\n",
    "                   'business consumer|marketing|retail|market|store|furniture|wholesale|wine & spirits|'\n",
    "                   'multinational|e-|packaging|sales|tplace|warehouse|fm|product|merchandise|reatil|'\n",
    "                   'conglomerates|invoice discounting|supply chain|car service|service industry|'\n",
    "                   'company-as-a-service|consumer service|facilities support services|'\n",
    "                   'facilities services', sector):\n",
    "        return 'Commerce'\n",
    "    elif re.search('dental|health|health insurance|medic|supplement|biopharma|veterinary|'\n",
    "                   'pharma|heathcare|nutrition|hygiene|care|sanitation|bio|cannabis|tobacco|sciences', sector):\n",
    "        return 'Health'\n",
    "    elif re.search('agri|biotechnology|Industrial|farming|fish|milk|diary|dairy|dairy startup', sector):\n",
    "        return 'Agriculture'\n",
    "    elif re.search('battery|manufacturing|electronics|industrial automation|aerospace|conductor|'\n",
    "                   'gaming|robotics|engineering|mechanical|appliance|automation|ev startup|'\n",
    "                   'startup laboratory|e-vehicle|luxury car', sector):\n",
    "        return 'Manufacturing'\n",
    "    elif re.search('communities|smart cities|government|classifieds|community|water|defense|'\n",
    "                   'pollution|translation & localization|taxation|maritime', sector):\n",
    "        return 'Government'\n",
    "    elif re.search('media|dating|music|audio|gaming|creative|entertainment|broadcasting|video|'\n",
    "                   'blogging|content|celebrity|ott', sector):\n",
    "        return 'Media & Entertainment'\n",
    "    elif re.search('apartment|real estate|home|interior|construction|rental|housing|accomodation|hauz', sector):\n",
    "        return 'Real Estate'\n",
    "    elif re.search('telecom|news|escrow|publication', sector):\n",
    "        return 'Telecommunications'\n",
    "    elif re.search(r'artificial intelligence|tech|cloud|artificial|data|internet|things|apps|android|software|'\n",
    "                r'computer|mobile|3d printing|funding platform|applications|file|embedded systems|'\n",
    "                r'portals|fraud detection|search engine|nanotechnology|security|saas|\\bit company\\b|'\n",
    "                r'augmented reality|drone|ar startup|]\\baas\\b|app|/|virtual|it startup|'\n",
    "                r'photonics|e tailor|\\bai\\b|ai & debt|ai company|ai chatbot|iot startup|ai startup|\\biot\\b|'\n",
    "                r'\\bsocial platform\\b|\\bar platform\\b|\\bapi platform\\b|\\bmlops platform\\b|online storytelling|'\n",
    "                r'\\bdigital platform\\b|paas startup|taas startup|digital assistant',sector):\n",
    "        return 'Technology'\n",
    "    else:\n",
    "        return sector\n",
    "    \n",
    "\n",
    "concatenated['Sector'] = concatenated['Sector'].apply(sector_redistribution)"
   ]
  },
  {
   "cell_type": "code",
   "execution_count": 139,
   "metadata": {},
   "outputs": [
    {
     "data": {
      "text/html": [
       "<div>\n",
       "<style scoped>\n",
       "    .dataframe tbody tr th:only-of-type {\n",
       "        vertical-align: middle;\n",
       "    }\n",
       "\n",
       "    .dataframe tbody tr th {\n",
       "        vertical-align: top;\n",
       "    }\n",
       "\n",
       "    .dataframe thead th {\n",
       "        text-align: right;\n",
       "    }\n",
       "</style>\n",
       "<table border=\"1\" class=\"dataframe\">\n",
       "  <thead>\n",
       "    <tr style=\"text-align: right;\">\n",
       "      <th></th>\n",
       "      <th>Company Brand</th>\n",
       "      <th>Founded</th>\n",
       "      <th>HeadQuarter</th>\n",
       "      <th>Sector</th>\n",
       "      <th>What it does</th>\n",
       "      <th>Founders</th>\n",
       "      <th>Investor</th>\n",
       "      <th>Amount</th>\n",
       "      <th>Stage</th>\n",
       "      <th>Year</th>\n",
       "    </tr>\n",
       "  </thead>\n",
       "  <tbody>\n",
       "    <tr>\n",
       "      <th>0</th>\n",
       "      <td>Krayonnz</td>\n",
       "      <td>2019.0</td>\n",
       "      <td>Bangalore</td>\n",
       "      <td>Education</td>\n",
       "      <td>An academy-guardian-scholar centric ecosystem ...</td>\n",
       "      <td>Saurabh Dixit, Gurudutt Upadhyay</td>\n",
       "      <td>GSF Accelerator</td>\n",
       "      <td>1.000000e+05</td>\n",
       "      <td>Pre-series A</td>\n",
       "      <td>2020</td>\n",
       "    </tr>\n",
       "    <tr>\n",
       "      <th>1</th>\n",
       "      <td>qZense</td>\n",
       "      <td>2019.0</td>\n",
       "      <td>Bangalore</td>\n",
       "      <td>Agriculture</td>\n",
       "      <td>qZense Labs is building the next-generation Io...</td>\n",
       "      <td>Rubal Chib, Dr Srishti Batra</td>\n",
       "      <td>Venture Catalysts, 9Unicorns Accelerator Fund</td>\n",
       "      <td>6.000000e+05</td>\n",
       "      <td>Pre-series A</td>\n",
       "      <td>2020</td>\n",
       "    </tr>\n",
       "    <tr>\n",
       "      <th>2</th>\n",
       "      <td>MyClassboard</td>\n",
       "      <td>2008.0</td>\n",
       "      <td>Hyderabad</td>\n",
       "      <td>Education</td>\n",
       "      <td>MyClassboard is a full-fledged School / Colleg...</td>\n",
       "      <td>Ajay Sakhamuri</td>\n",
       "      <td>ICICI Bank.</td>\n",
       "      <td>6.000000e+05</td>\n",
       "      <td>Pre-series A</td>\n",
       "      <td>2020</td>\n",
       "    </tr>\n",
       "    <tr>\n",
       "      <th>3</th>\n",
       "      <td>Rupeek</td>\n",
       "      <td>2015.0</td>\n",
       "      <td>Bangalore</td>\n",
       "      <td>Finance</td>\n",
       "      <td>Rupeek is an online lending platform that spec...</td>\n",
       "      <td>Amar Prabhu, Ashwin Soni, Sumit Maniyar</td>\n",
       "      <td>KB Investment, Bertelsmann India Investments</td>\n",
       "      <td>4.500000e+07</td>\n",
       "      <td>Series C</td>\n",
       "      <td>2020</td>\n",
       "    </tr>\n",
       "    <tr>\n",
       "      <th>4</th>\n",
       "      <td>Gig India</td>\n",
       "      <td>2017.0</td>\n",
       "      <td>Pune</td>\n",
       "      <td>Finance</td>\n",
       "      <td>GigIndia is a marketplace that provides on-dem...</td>\n",
       "      <td>Aditya Shirole, Sahil Sharma</td>\n",
       "      <td>Shantanu Deshpande, Subramaniam Ramadorai</td>\n",
       "      <td>1.000000e+06</td>\n",
       "      <td>Pre-series A</td>\n",
       "      <td>2020</td>\n",
       "    </tr>\n",
       "    <tr>\n",
       "      <th>...</th>\n",
       "      <td>...</td>\n",
       "      <td>...</td>\n",
       "      <td>...</td>\n",
       "      <td>...</td>\n",
       "      <td>...</td>\n",
       "      <td>...</td>\n",
       "      <td>...</td>\n",
       "      <td>...</td>\n",
       "      <td>...</td>\n",
       "      <td>...</td>\n",
       "    </tr>\n",
       "    <tr>\n",
       "      <th>1748</th>\n",
       "      <td>Udaan</td>\n",
       "      <td>NaN</td>\n",
       "      <td>Bangalore</td>\n",
       "      <td>Commerce</td>\n",
       "      <td>Udaan is a B2B trade platform, designed specif...</td>\n",
       "      <td>NaN</td>\n",
       "      <td>NaN</td>\n",
       "      <td>2.250000e+08</td>\n",
       "      <td>Series C</td>\n",
       "      <td>2018</td>\n",
       "    </tr>\n",
       "    <tr>\n",
       "      <th>1749</th>\n",
       "      <td>Happyeasygo Group</td>\n",
       "      <td>NaN</td>\n",
       "      <td>Haryana</td>\n",
       "      <td>Hospitality</td>\n",
       "      <td>HappyEasyGo is an online travel domain.</td>\n",
       "      <td>NaN</td>\n",
       "      <td>NaN</td>\n",
       "      <td>1.300000e+06</td>\n",
       "      <td>Series A</td>\n",
       "      <td>2018</td>\n",
       "    </tr>\n",
       "    <tr>\n",
       "      <th>1750</th>\n",
       "      <td>Mombay</td>\n",
       "      <td>NaN</td>\n",
       "      <td>Mumbai</td>\n",
       "      <td>Food &amp; Beverages</td>\n",
       "      <td>Mombay is a unique opportunity for housewives ...</td>\n",
       "      <td>NaN</td>\n",
       "      <td>NaN</td>\n",
       "      <td>7.500000e+03</td>\n",
       "      <td>Pre-series A</td>\n",
       "      <td>2018</td>\n",
       "    </tr>\n",
       "    <tr>\n",
       "      <th>1751</th>\n",
       "      <td>Droni Tech</td>\n",
       "      <td>NaN</td>\n",
       "      <td>Mumbai</td>\n",
       "      <td>Technology</td>\n",
       "      <td>Droni Tech manufacture UAVs and develop softwa...</td>\n",
       "      <td>NaN</td>\n",
       "      <td>NaN</td>\n",
       "      <td>5.072464e+05</td>\n",
       "      <td>Pre-series A</td>\n",
       "      <td>2018</td>\n",
       "    </tr>\n",
       "    <tr>\n",
       "      <th>1752</th>\n",
       "      <td>Netmeds</td>\n",
       "      <td>NaN</td>\n",
       "      <td>Chennai</td>\n",
       "      <td>Health</td>\n",
       "      <td>Welcome to India's most convenient pharmacy!</td>\n",
       "      <td>NaN</td>\n",
       "      <td>NaN</td>\n",
       "      <td>3.500000e+07</td>\n",
       "      <td>Series C</td>\n",
       "      <td>2018</td>\n",
       "    </tr>\n",
       "  </tbody>\n",
       "</table>\n",
       "<p>1753 rows × 10 columns</p>\n",
       "</div>"
      ],
      "text/plain": [
       "          Company Brand  Founded HeadQuarter            Sector  \\\n",
       "0              Krayonnz   2019.0   Bangalore         Education   \n",
       "1                qZense   2019.0   Bangalore       Agriculture   \n",
       "2          MyClassboard   2008.0   Hyderabad         Education   \n",
       "3                Rupeek   2015.0   Bangalore           Finance   \n",
       "4             Gig India   2017.0        Pune           Finance   \n",
       "...                 ...      ...         ...               ...   \n",
       "1748              Udaan      NaN   Bangalore          Commerce   \n",
       "1749  Happyeasygo Group      NaN     Haryana       Hospitality   \n",
       "1750             Mombay      NaN      Mumbai  Food & Beverages   \n",
       "1751         Droni Tech      NaN      Mumbai        Technology   \n",
       "1752            Netmeds      NaN     Chennai            Health   \n",
       "\n",
       "                                           What it does  \\\n",
       "0     An academy-guardian-scholar centric ecosystem ...   \n",
       "1     qZense Labs is building the next-generation Io...   \n",
       "2     MyClassboard is a full-fledged School / Colleg...   \n",
       "3     Rupeek is an online lending platform that spec...   \n",
       "4     GigIndia is a marketplace that provides on-dem...   \n",
       "...                                                 ...   \n",
       "1748  Udaan is a B2B trade platform, designed specif...   \n",
       "1749            HappyEasyGo is an online travel domain.   \n",
       "1750  Mombay is a unique opportunity for housewives ...   \n",
       "1751  Droni Tech manufacture UAVs and develop softwa...   \n",
       "1752       Welcome to India's most convenient pharmacy!   \n",
       "\n",
       "                                     Founders  \\\n",
       "0            Saurabh Dixit, Gurudutt Upadhyay   \n",
       "1                Rubal Chib, Dr Srishti Batra   \n",
       "2                              Ajay Sakhamuri   \n",
       "3     Amar Prabhu, Ashwin Soni, Sumit Maniyar   \n",
       "4                Aditya Shirole, Sahil Sharma   \n",
       "...                                       ...   \n",
       "1748                                      NaN   \n",
       "1749                                      NaN   \n",
       "1750                                      NaN   \n",
       "1751                                      NaN   \n",
       "1752                                      NaN   \n",
       "\n",
       "                                           Investor        Amount  \\\n",
       "0                                   GSF Accelerator  1.000000e+05   \n",
       "1     Venture Catalysts, 9Unicorns Accelerator Fund  6.000000e+05   \n",
       "2                                       ICICI Bank.  6.000000e+05   \n",
       "3      KB Investment, Bertelsmann India Investments  4.500000e+07   \n",
       "4         Shantanu Deshpande, Subramaniam Ramadorai  1.000000e+06   \n",
       "...                                             ...           ...   \n",
       "1748                                            NaN  2.250000e+08   \n",
       "1749                                            NaN  1.300000e+06   \n",
       "1750                                            NaN  7.500000e+03   \n",
       "1751                                            NaN  5.072464e+05   \n",
       "1752                                            NaN  3.500000e+07   \n",
       "\n",
       "             Stage  Year  \n",
       "0     Pre-series A  2020  \n",
       "1     Pre-series A  2020  \n",
       "2     Pre-series A  2020  \n",
       "3         Series C  2020  \n",
       "4     Pre-series A  2020  \n",
       "...            ...   ...  \n",
       "1748      Series C  2018  \n",
       "1749      Series A  2018  \n",
       "1750  Pre-series A  2018  \n",
       "1751  Pre-series A  2018  \n",
       "1752      Series C  2018  \n",
       "\n",
       "[1753 rows x 10 columns]"
      ]
     },
     "execution_count": 139,
     "metadata": {},
     "output_type": "execute_result"
    }
   ],
   "source": [
    "# Verify the concatenated \n",
    "concatenated"
   ]
  },
  {
   "cell_type": "code",
   "execution_count": 140,
   "metadata": {},
   "outputs": [
    {
     "data": {
      "text/plain": [
       "array(['Education', 'Agriculture', 'Finance', 'Food & Beverages',\n",
       "       'Commerce', 'Technology', 'Health', 'Business Intelligence',\n",
       "       'Manufacturing', 'Real Estate', 'Media & Entertainment',\n",
       "       'Transport', 'Beauty & Fashion', 'LifeStyle', 'Hospitality',\n",
       "       'Telecommunications', 'Energy', 'Government', 'aistartup',\n",
       "       'itstartup', 'aichatbot', 'Sports', 'consumergoods',\n",
       "       'mlopsplatform', 'consumerservices', 'realestate',\n",
       "       'deliveryservice', 'taasstartup', 'itcompany', 'evstartup',\n",
       "       'supplychainplatform', 'socialplatform', 'aicompany',\n",
       "       'informationservices', 'translation&localization', '—'],\n",
       "      dtype=object)"
      ]
     },
     "execution_count": 140,
     "metadata": {},
     "output_type": "execute_result"
    }
   ],
   "source": [
    "\n",
    "concatenated['Sector'].unique()"
   ]
  },
  {
   "cell_type": "code",
   "execution_count": 141,
   "metadata": {},
   "outputs": [
    {
     "data": {
      "text/plain": [
       "(1753, 10)"
      ]
     },
     "execution_count": 141,
     "metadata": {},
     "output_type": "execute_result"
    }
   ],
   "source": [
    "concatenated.shape"
   ]
  },
  {
   "cell_type": "code",
   "execution_count": 142,
   "metadata": {},
   "outputs": [
    {
     "name": "stdout",
     "output_type": "stream",
     "text": [
      "<class 'pandas.core.frame.DataFrame'>\n",
      "RangeIndex: 1753 entries, 0 to 1752\n",
      "Data columns (total 10 columns):\n",
      " #   Column         Non-Null Count  Dtype  \n",
      "---  ------         --------------  -----  \n",
      " 0   Company Brand  1753 non-null   object \n",
      " 1   Founded        1228 non-null   float64\n",
      " 2   HeadQuarter    1753 non-null   object \n",
      " 3   Sector         1753 non-null   object \n",
      " 4   What it does   1753 non-null   object \n",
      " 5   Founders       1228 non-null   object \n",
      " 6   Investor       1228 non-null   object \n",
      " 7   Amount         1753 non-null   float64\n",
      " 8   Stage          1753 non-null   object \n",
      " 9   Year           1753 non-null   int64  \n",
      "dtypes: float64(2), int64(1), object(7)\n",
      "memory usage: 137.1+ KB\n"
     ]
    }
   ],
   "source": [
    "concatenated.info()"
   ]
  },
  {
   "cell_type": "code",
   "execution_count": 143,
   "metadata": {},
   "outputs": [
    {
     "data": {
      "text/plain": [
       "Company Brand      0\n",
       "Founded          525\n",
       "HeadQuarter        0\n",
       "Sector             0\n",
       "What it does       0\n",
       "Founders         525\n",
       "Investor         525\n",
       "Amount             0\n",
       "Stage              0\n",
       "Year               0\n",
       "dtype: int64"
      ]
     },
     "execution_count": 143,
     "metadata": {},
     "output_type": "execute_result"
    }
   ],
   "source": [
    "concatenated.isna().sum()"
   ]
  },
  {
   "cell_type": "code",
   "execution_count": 144,
   "metadata": {},
   "outputs": [],
   "source": [
    "concatenated.fillna('Unknown', inplace=True)"
   ]
  },
  {
   "cell_type": "code",
   "execution_count": 145,
   "metadata": {},
   "outputs": [
    {
     "data": {
      "text/html": [
       "<div>\n",
       "<style scoped>\n",
       "    .dataframe tbody tr th:only-of-type {\n",
       "        vertical-align: middle;\n",
       "    }\n",
       "\n",
       "    .dataframe tbody tr th {\n",
       "        vertical-align: top;\n",
       "    }\n",
       "\n",
       "    .dataframe thead th {\n",
       "        text-align: right;\n",
       "    }\n",
       "</style>\n",
       "<table border=\"1\" class=\"dataframe\">\n",
       "  <thead>\n",
       "    <tr style=\"text-align: right;\">\n",
       "      <th></th>\n",
       "      <th>Company Brand</th>\n",
       "      <th>Founded</th>\n",
       "      <th>HeadQuarter</th>\n",
       "      <th>Sector</th>\n",
       "      <th>What it does</th>\n",
       "      <th>Founders</th>\n",
       "      <th>Investor</th>\n",
       "      <th>Amount</th>\n",
       "      <th>Stage</th>\n",
       "      <th>Year</th>\n",
       "    </tr>\n",
       "  </thead>\n",
       "  <tbody>\n",
       "    <tr>\n",
       "      <th>0</th>\n",
       "      <td>Krayonnz</td>\n",
       "      <td>2019.0</td>\n",
       "      <td>Bangalore</td>\n",
       "      <td>Education</td>\n",
       "      <td>An academy-guardian-scholar centric ecosystem ...</td>\n",
       "      <td>Saurabh Dixit, Gurudutt Upadhyay</td>\n",
       "      <td>GSF Accelerator</td>\n",
       "      <td>1.000000e+05</td>\n",
       "      <td>Pre-series A</td>\n",
       "      <td>2020</td>\n",
       "    </tr>\n",
       "    <tr>\n",
       "      <th>1</th>\n",
       "      <td>qZense</td>\n",
       "      <td>2019.0</td>\n",
       "      <td>Bangalore</td>\n",
       "      <td>Agriculture</td>\n",
       "      <td>qZense Labs is building the next-generation Io...</td>\n",
       "      <td>Rubal Chib, Dr Srishti Batra</td>\n",
       "      <td>Venture Catalysts, 9Unicorns Accelerator Fund</td>\n",
       "      <td>6.000000e+05</td>\n",
       "      <td>Pre-series A</td>\n",
       "      <td>2020</td>\n",
       "    </tr>\n",
       "    <tr>\n",
       "      <th>2</th>\n",
       "      <td>MyClassboard</td>\n",
       "      <td>2008.0</td>\n",
       "      <td>Hyderabad</td>\n",
       "      <td>Education</td>\n",
       "      <td>MyClassboard is a full-fledged School / Colleg...</td>\n",
       "      <td>Ajay Sakhamuri</td>\n",
       "      <td>ICICI Bank.</td>\n",
       "      <td>6.000000e+05</td>\n",
       "      <td>Pre-series A</td>\n",
       "      <td>2020</td>\n",
       "    </tr>\n",
       "    <tr>\n",
       "      <th>3</th>\n",
       "      <td>Rupeek</td>\n",
       "      <td>2015.0</td>\n",
       "      <td>Bangalore</td>\n",
       "      <td>Finance</td>\n",
       "      <td>Rupeek is an online lending platform that spec...</td>\n",
       "      <td>Amar Prabhu, Ashwin Soni, Sumit Maniyar</td>\n",
       "      <td>KB Investment, Bertelsmann India Investments</td>\n",
       "      <td>4.500000e+07</td>\n",
       "      <td>Series C</td>\n",
       "      <td>2020</td>\n",
       "    </tr>\n",
       "    <tr>\n",
       "      <th>4</th>\n",
       "      <td>Gig India</td>\n",
       "      <td>2017.0</td>\n",
       "      <td>Pune</td>\n",
       "      <td>Finance</td>\n",
       "      <td>GigIndia is a marketplace that provides on-dem...</td>\n",
       "      <td>Aditya Shirole, Sahil Sharma</td>\n",
       "      <td>Shantanu Deshpande, Subramaniam Ramadorai</td>\n",
       "      <td>1.000000e+06</td>\n",
       "      <td>Pre-series A</td>\n",
       "      <td>2020</td>\n",
       "    </tr>\n",
       "    <tr>\n",
       "      <th>...</th>\n",
       "      <td>...</td>\n",
       "      <td>...</td>\n",
       "      <td>...</td>\n",
       "      <td>...</td>\n",
       "      <td>...</td>\n",
       "      <td>...</td>\n",
       "      <td>...</td>\n",
       "      <td>...</td>\n",
       "      <td>...</td>\n",
       "      <td>...</td>\n",
       "    </tr>\n",
       "    <tr>\n",
       "      <th>1748</th>\n",
       "      <td>Udaan</td>\n",
       "      <td>Unknown</td>\n",
       "      <td>Bangalore</td>\n",
       "      <td>Commerce</td>\n",
       "      <td>Udaan is a B2B trade platform, designed specif...</td>\n",
       "      <td>Unknown</td>\n",
       "      <td>Unknown</td>\n",
       "      <td>2.250000e+08</td>\n",
       "      <td>Series C</td>\n",
       "      <td>2018</td>\n",
       "    </tr>\n",
       "    <tr>\n",
       "      <th>1749</th>\n",
       "      <td>Happyeasygo Group</td>\n",
       "      <td>Unknown</td>\n",
       "      <td>Haryana</td>\n",
       "      <td>Hospitality</td>\n",
       "      <td>HappyEasyGo is an online travel domain.</td>\n",
       "      <td>Unknown</td>\n",
       "      <td>Unknown</td>\n",
       "      <td>1.300000e+06</td>\n",
       "      <td>Series A</td>\n",
       "      <td>2018</td>\n",
       "    </tr>\n",
       "    <tr>\n",
       "      <th>1750</th>\n",
       "      <td>Mombay</td>\n",
       "      <td>Unknown</td>\n",
       "      <td>Mumbai</td>\n",
       "      <td>Food &amp; Beverages</td>\n",
       "      <td>Mombay is a unique opportunity for housewives ...</td>\n",
       "      <td>Unknown</td>\n",
       "      <td>Unknown</td>\n",
       "      <td>7.500000e+03</td>\n",
       "      <td>Pre-series A</td>\n",
       "      <td>2018</td>\n",
       "    </tr>\n",
       "    <tr>\n",
       "      <th>1751</th>\n",
       "      <td>Droni Tech</td>\n",
       "      <td>Unknown</td>\n",
       "      <td>Mumbai</td>\n",
       "      <td>Technology</td>\n",
       "      <td>Droni Tech manufacture UAVs and develop softwa...</td>\n",
       "      <td>Unknown</td>\n",
       "      <td>Unknown</td>\n",
       "      <td>5.072464e+05</td>\n",
       "      <td>Pre-series A</td>\n",
       "      <td>2018</td>\n",
       "    </tr>\n",
       "    <tr>\n",
       "      <th>1752</th>\n",
       "      <td>Netmeds</td>\n",
       "      <td>Unknown</td>\n",
       "      <td>Chennai</td>\n",
       "      <td>Health</td>\n",
       "      <td>Welcome to India's most convenient pharmacy!</td>\n",
       "      <td>Unknown</td>\n",
       "      <td>Unknown</td>\n",
       "      <td>3.500000e+07</td>\n",
       "      <td>Series C</td>\n",
       "      <td>2018</td>\n",
       "    </tr>\n",
       "  </tbody>\n",
       "</table>\n",
       "<p>1753 rows × 10 columns</p>\n",
       "</div>"
      ],
      "text/plain": [
       "          Company Brand  Founded HeadQuarter            Sector  \\\n",
       "0              Krayonnz   2019.0   Bangalore         Education   \n",
       "1                qZense   2019.0   Bangalore       Agriculture   \n",
       "2          MyClassboard   2008.0   Hyderabad         Education   \n",
       "3                Rupeek   2015.0   Bangalore           Finance   \n",
       "4             Gig India   2017.0        Pune           Finance   \n",
       "...                 ...      ...         ...               ...   \n",
       "1748              Udaan  Unknown   Bangalore          Commerce   \n",
       "1749  Happyeasygo Group  Unknown     Haryana       Hospitality   \n",
       "1750             Mombay  Unknown      Mumbai  Food & Beverages   \n",
       "1751         Droni Tech  Unknown      Mumbai        Technology   \n",
       "1752            Netmeds  Unknown     Chennai            Health   \n",
       "\n",
       "                                           What it does  \\\n",
       "0     An academy-guardian-scholar centric ecosystem ...   \n",
       "1     qZense Labs is building the next-generation Io...   \n",
       "2     MyClassboard is a full-fledged School / Colleg...   \n",
       "3     Rupeek is an online lending platform that spec...   \n",
       "4     GigIndia is a marketplace that provides on-dem...   \n",
       "...                                                 ...   \n",
       "1748  Udaan is a B2B trade platform, designed specif...   \n",
       "1749            HappyEasyGo is an online travel domain.   \n",
       "1750  Mombay is a unique opportunity for housewives ...   \n",
       "1751  Droni Tech manufacture UAVs and develop softwa...   \n",
       "1752       Welcome to India's most convenient pharmacy!   \n",
       "\n",
       "                                     Founders  \\\n",
       "0            Saurabh Dixit, Gurudutt Upadhyay   \n",
       "1                Rubal Chib, Dr Srishti Batra   \n",
       "2                              Ajay Sakhamuri   \n",
       "3     Amar Prabhu, Ashwin Soni, Sumit Maniyar   \n",
       "4                Aditya Shirole, Sahil Sharma   \n",
       "...                                       ...   \n",
       "1748                                  Unknown   \n",
       "1749                                  Unknown   \n",
       "1750                                  Unknown   \n",
       "1751                                  Unknown   \n",
       "1752                                  Unknown   \n",
       "\n",
       "                                           Investor        Amount  \\\n",
       "0                                   GSF Accelerator  1.000000e+05   \n",
       "1     Venture Catalysts, 9Unicorns Accelerator Fund  6.000000e+05   \n",
       "2                                       ICICI Bank.  6.000000e+05   \n",
       "3      KB Investment, Bertelsmann India Investments  4.500000e+07   \n",
       "4         Shantanu Deshpande, Subramaniam Ramadorai  1.000000e+06   \n",
       "...                                             ...           ...   \n",
       "1748                                        Unknown  2.250000e+08   \n",
       "1749                                        Unknown  1.300000e+06   \n",
       "1750                                        Unknown  7.500000e+03   \n",
       "1751                                        Unknown  5.072464e+05   \n",
       "1752                                        Unknown  3.500000e+07   \n",
       "\n",
       "             Stage  Year  \n",
       "0     Pre-series A  2020  \n",
       "1     Pre-series A  2020  \n",
       "2     Pre-series A  2020  \n",
       "3         Series C  2020  \n",
       "4     Pre-series A  2020  \n",
       "...            ...   ...  \n",
       "1748      Series C  2018  \n",
       "1749      Series A  2018  \n",
       "1750  Pre-series A  2018  \n",
       "1751  Pre-series A  2018  \n",
       "1752      Series C  2018  \n",
       "\n",
       "[1753 rows x 10 columns]"
      ]
     },
     "execution_count": 145,
     "metadata": {},
     "output_type": "execute_result"
    }
   ],
   "source": [
    "concatenated"
   ]
  },
  {
   "cell_type": "markdown",
   "metadata": {},
   "source": [
    "### correcting or replacing  inconsistency in HeadQuarter colmun"
   ]
  },
  {
   "cell_type": "code",
   "execution_count": 146,
   "metadata": {},
   "outputs": [],
   "source": [
    "replacement5 = { \n",
    "'Ahmadabad': 'Ahmedabad',\n",
    "'Bangaldesh':'Bangladesh',\n",
    "'Bangalore City':'Bangalore',\n",
    "'Banglore':'Bangalore',\n",
    "'Bengaluru':'Bangalore',\n",
    "'Cochin':'Kochi',\n",
    "'Computer Games':'New Delhi',\n",
    "'Faridabad, Haryana':'Faridabad',\n",
    "'France': 'Grenoble',\n",
    "'Gurugram':'Gurgaon',\n",
    "'Gurugram\\t#REF!':'Gurgaon',\n",
    "'Hyderebad':'Hyderabad',\n",
    "'Kalkaji':'New Delhi',\n",
    "'Kalpakkam':'Chennai',\n",
    "'Kanpur':'Kannur',\n",
    "'Margão':'Margao',\n",
    "'Milano':'Milan',\n",
    "'Mountain View, CA':'Mountain View',\n",
    "'Online Media':'Bangalore',\n",
    "'Orissia':'Odisha',\n",
    "'Pharmaceuticals\\t#REF!':'Mumbai',\n",
    "'Rajastan':'Rajasthan',\n",
    "'Samsitpur':'Samastipur',\n",
    "'San Franciscao':'San Francisco',\n",
    "'San Francisco Bay Area':'San Francisco',\n",
    "'Small Towns, Andhra Pradesh':'Andhra Pradesh',\n",
    "'Telugana':'Telangana',\n",
    "'Trivandrum':'Thiruvananthapuram',\n",
    "'Manchester, Greater Manchester':'Manchester',\n",
    "'Delhi':'New Delhi',\n",
    "'Uttar pradesh':'Uttar Pradesh',\n",
    "}\n",
    "\n",
    "concatenated['HeadQuarter'] = concatenated['HeadQuarter'].replace(replacement5)"
   ]
  },
  {
   "cell_type": "code",
   "execution_count": 147,
   "metadata": {},
   "outputs": [
    {
     "data": {
      "text/plain": [
       "Company Brand    0\n",
       "Founded          0\n",
       "HeadQuarter      0\n",
       "Sector           0\n",
       "What it does     0\n",
       "Founders         0\n",
       "Investor         0\n",
       "Amount           0\n",
       "Stage            0\n",
       "Year             0\n",
       "dtype: int64"
      ]
     },
     "execution_count": 147,
     "metadata": {},
     "output_type": "execute_result"
    }
   ],
   "source": [
    "concatenated.isna().sum()"
   ]
  },
  {
   "cell_type": "code",
   "execution_count": 148,
   "metadata": {},
   "outputs": [
    {
     "name": "stdout",
     "output_type": "stream",
     "text": [
      "[1.00000000e+05 6.00000000e+05 4.50000000e+07 1.00000000e+06\n",
      " 2.00000000e+06 7.50000000e+06 1.00000000e+07 2.10000000e+07\n",
      " 5.60000000e+05 4.00000000e+05 2.75000000e+05 2.00000000e+07\n",
      " 1.50000000e+07 5.10000000e+06 5.00000000e+05 2.30000000e+06\n",
      " 7.00000000e+05 9.00000000e+06 4.00000000e+07 1.20000000e+06\n",
      " 7.50000000e+05 1.50000000e+06 7.80000000e+06 4.00000000e+06\n",
      " 8.00000000e+07 4.00000000e+04 3.50000000e+07 3.00000000e+06\n",
      " 3.00000000e+05 2.50000000e+07 3.50000000e+06 2.00000000e+08\n",
      " 7.00000000e+06 6.00000000e+06 1.30000000e+06 8.00000000e+05\n",
      " 1.80000000e+07 1.00000000e+08 5.00000000e+06 9.00000000e+05\n",
      " 2.50000000e+05 3.20000000e+06 7.50000000e+07 1.21000000e+08\n",
      " 2.00000000e+05 3.30000000e+06 1.10000000e+07 4.50000000e+06\n",
      " 1.50000000e+08 2.50000000e+06 2.20000000e+07 1.10000000e+06\n",
      " 4.20000000e+06 1.70000000e+06 1.60000000e+06 1.85000000e+07\n",
      " 5.50000000e+07 1.20000000e+07 1.34000000e+07 1.70000000e+08\n",
      " 2.90000000e+06 5.43000000e+05 9.00000000e+07 3.00000000e+07\n",
      " 3.40000000e+06 2.30000000e+07 8.09000000e+06 1.03000000e+06\n",
      " 5.04000000e+06 3.60000000e+05 8.00000000e+06 1.40000000e+06\n",
      " 6.50000000e+05 5.40000000e+07 4.25000000e+07 2.80000000e+07\n",
      " 1.13700000e+07 3.25000000e+05 4.10000000e+05 4.50000000e+05\n",
      " 6.82000000e+05 5.06000000e+06 4.05000000e+06 1.05000000e+06\n",
      " 5.00000000e+07 1.08000000e+06 4.30000000e+06 2.11000000e+06\n",
      " 2.92000000e+05 8.87000000e+05 2.20000000e+06 1.10000000e+05\n",
      " 1.16350000e+07 2.80000000e+06 1.06500000e+06 1.60760000e+07\n",
      " 6.70000000e+06 2.20000000e+05 2.87900000e+06 2.65000000e+07\n",
      " 4.67610000e+07 1.75000000e+05 1.12410000e+07 4.67000000e+05\n",
      " 9.27000000e+05 9.71000000e+05 1.86200000e+06 2.88800000e+06\n",
      " 1.55000000e+07 5.60000000e+07 2.25000000e+06 1.67530000e+07\n",
      " 2.67000000e+05 7.20000000e+06 2.74300000e+06 6.08200000e+06\n",
      " 2.77000000e+07 3.93700000e+06 1.50000000e+05 5.50000000e+06\n",
      " 2.64000000e+05 1.75000000e+06 5.96700000e+06 3.23000000e+05\n",
      " 2.70000000e+07 2.53000000e+06 6.00000000e+07 1.13630000e+07\n",
      " 3.29000000e+05 5.27100000e+06 5.90000000e+06 4.40000000e+07\n",
      " 9.40000000e+06 7.90000000e+05 1.60000000e+05 8.20000000e+06\n",
      " 4.25700000e+06 7.86000000e+05 2.00400000e+06 6.80000000e+06\n",
      " 2.48000000e+05 1.30000000e+07 2.45000000e+07 3.80000000e+06\n",
      " 1.83700000e+07 4.80000000e+06 1.25000000e+07 4.30000000e+07\n",
      " 2.16000000e+07 1.15000000e+08 8.50000000e+06 3.14800000e+06\n",
      " 4.70000000e+06 1.05000000e+07 4.37000000e+07 3.06900000e+05\n",
      " 6.27300000e+05 1.13000000e+08 3.20000000e+07 1.10000000e+08\n",
      " 7.97570000e+06 2.40000000e+07 5.20000000e+06 2.96000000e+08\n",
      " 9.82530000e+05 2.10000000e+08 2.70000000e+06 1.40340000e+06\n",
      " 1.05000000e+08 1.27000000e+04 2.50000000e+04 9.75000000e+07\n",
      " 5.07000000e+05 1.25000000e+08 1.47000000e+07 8.04300000e+06\n",
      " 3.17400000e+06 2.75000000e+08 4.94000000e+07 2.60000000e+07\n",
      " 7.00000000e+07 2.10000000e+06 5.79710145e+05 9.42028986e+05\n",
      " 2.31884058e+05 7.24637681e+05 1.44927536e+06 7.24637681e+03\n",
      " 5.07246377e+05 9.27536232e+05 2.89855072e+05 4.34782609e+05\n",
      " 7.24637681e+04 1.81159420e+05 2.17391304e+05 1.50724638e+06\n",
      " 6.52173913e+05 3.62318841e+05 3.82608696e+05 1.15942029e+05\n",
      " 8.69565217e+02 2.00000000e+04 1.20000000e+05 4.92753623e+05\n",
      " 4.95652174e+06 1.43145000e+05 8.69565217e+06 7.42000000e+08\n",
      " 1.44927536e+07 2.89855072e+07 3.98000000e+06 1.00000000e+04\n",
      " 1.44927536e+03 3.62318841e+06 1.00000000e+09 7.97101449e+06\n",
      " 2.85000000e+07 3.47826087e+06 1.73913043e+06 2.40000000e+06\n",
      " 3.62318841e+07 6.37681159e+05 3.24000000e+06 8.69565217e+05\n",
      " 5.40000000e+08 9.42028986e+06 2.31884058e+07 1.01449275e+06\n",
      " 1.40000000e+07 1.48550725e+06 1.73913043e+04 7.53623188e+07\n",
      " 1.04100000e+06 1.50000000e+04 1.80000000e+06 3.60000000e+06\n",
      " 1.37681159e+05 6.83000000e+06 2.17391304e+06 3.64846000e+05\n",
      " 1.01449275e+05 2.02898551e+04 1.44927536e+05 3.26086957e+05\n",
      " 1.32000000e+07 5.00000000e+04 2.03188406e+06 1.25000000e+06\n",
      " 1.80000000e+05 2.78260870e+05 1.49275362e+06 1.45000000e+06\n",
      " 2.89855072e+03 2.40579710e+05 1.73913043e+05 4.78260870e+05\n",
      " 1.25000000e+05 1.30000000e+05 5.05797101e+05 1.04347826e+06\n",
      " 1.72000000e+07 4.63768116e+05 1.95652174e+06 2.23188406e+07\n",
      " 2.02898551e+06 4.19000000e+07 2.04347826e+07 3.53000000e+06\n",
      " 8.40579710e+06 5.21739130e+05 4.92753623e+06 3.76800000e+07\n",
      " 7.39130435e+06 3.18840580e+07 7.00000000e+04 2.23072464e+08\n",
      " 2.89855072e+08 5.79710145e+07 1.85000000e+08 6.50000000e+07\n",
      " 2.39130435e+06 3.04347826e+06 2.94144928e+07 1.15942029e+06\n",
      " 1.76000000e+06 4.05797101e+06 1.15942029e+07 1.05797101e+07\n",
      " 5.79710145e+06 3.70000000e+06 5.60000000e+06 3.76811594e+06\n",
      " 9.92300000e+07 5.50000000e+05 3.65000000e+08 1.26811594e+05\n",
      " 1.13043478e+06 3.82608696e+06 1.63768116e+07 1.17391304e+07\n",
      " 2.02898551e+07 1.49000000e+07 2.25000000e+08 7.50000000e+03]\n"
     ]
    }
   ],
   "source": [
    "print(concatenated['Amount'].unique())"
   ]
  },
  {
   "cell_type": "code",
   "execution_count": 149,
   "metadata": {},
   "outputs": [
    {
     "data": {
      "text/plain": [
       "count    1.753000e+03\n",
       "mean     1.092983e+07\n",
       "std      4.244612e+07\n",
       "min      8.695652e+02\n",
       "25%      1.300000e+06\n",
       "50%      3.174000e+06\n",
       "75%      4.300000e+06\n",
       "max      1.000000e+09\n",
       "Name: Amount, dtype: float64"
      ]
     },
     "execution_count": 149,
     "metadata": {},
     "output_type": "execute_result"
    }
   ],
   "source": [
    "concatenated['Amount'].describe()"
   ]
  },
  {
   "cell_type": "code",
   "execution_count": 150,
   "metadata": {},
   "outputs": [
    {
     "name": "stdout",
     "output_type": "stream",
     "text": [
      "<class 'pandas.core.frame.DataFrame'>\n",
      "RangeIndex: 1753 entries, 0 to 1752\n",
      "Data columns (total 10 columns):\n",
      " #   Column         Non-Null Count  Dtype  \n",
      "---  ------         --------------  -----  \n",
      " 0   Company Brand  1753 non-null   object \n",
      " 1   Founded        1753 non-null   object \n",
      " 2   HeadQuarter    1753 non-null   object \n",
      " 3   Sector         1753 non-null   object \n",
      " 4   What it does   1753 non-null   object \n",
      " 5   Founders       1753 non-null   object \n",
      " 6   Investor       1753 non-null   object \n",
      " 7   Amount         1753 non-null   float64\n",
      " 8   Stage          1753 non-null   object \n",
      " 9   Year           1753 non-null   int64  \n",
      "dtypes: float64(1), int64(1), object(8)\n",
      "memory usage: 137.1+ KB\n"
     ]
    }
   ],
   "source": [
    "concatenated.info()"
   ]
  },
  {
   "cell_type": "code",
   "execution_count": 151,
   "metadata": {},
   "outputs": [],
   "source": [
    "# Filter out rows where 'Amount' is not numeric\n",
    "concatenated = concatenated[concatenated['Amount'].apply(lambda x: str(x).replace('.', '').isdigit())]\n",
    "\n",
    "# Convert 'Amount' column to numeric\n",
    "concatenated['Amount'] = pd.to_numeric(concatenated['Amount'])\n"
   ]
  },
  {
   "cell_type": "code",
   "execution_count": 152,
   "metadata": {},
   "outputs": [
    {
     "name": "stdout",
     "output_type": "stream",
     "text": [
      "[2019.0 2008.0 2015.0 2017.0 2016.0 1982.0 2018.0 2013.0 2014.0 2012.0\n",
      " 2011.0 2020.0 2006.0 2010.0 1994.0 2009.0 2021.0 1999.0 1989.0 2002.0\n",
      " 2000.0 2007.0 2004.0 'Unknown']\n"
     ]
    }
   ],
   "source": [
    "print(concatenated['Founded'].unique())"
   ]
  },
  {
   "cell_type": "code",
   "execution_count": 153,
   "metadata": {},
   "outputs": [],
   "source": [
    "concatenated['Founded'] = pd.to_numeric(concatenated['Founded'], errors='coerce')"
   ]
  },
  {
   "cell_type": "code",
   "execution_count": 154,
   "metadata": {},
   "outputs": [],
   "source": [
    "# Convert the resulting numeric values to integers, handling NaN as needed\n",
    "concatenated['Founded'] = concatenated['Founded'].fillna(0).astype(np.int64)\n"
   ]
  },
  {
   "cell_type": "code",
   "execution_count": 155,
   "metadata": {},
   "outputs": [
    {
     "name": "stdout",
     "output_type": "stream",
     "text": [
      "[2019 2008 2015 2017 2016 1982 2018 2013 2014 2012 2011 2020 2006 2010\n",
      " 1994 2009 2021 1999 1989 2002 2000 2007 2004    0]\n"
     ]
    }
   ],
   "source": [
    "print(concatenated['Founded'].unique())"
   ]
  },
  {
   "cell_type": "code",
   "execution_count": 156,
   "metadata": {},
   "outputs": [],
   "source": [
    "# Replace 'Unknown' values with NaN\n",
    "concatenated['Amount'] = pd.to_numeric(concatenated['Amount'], errors='coerce')"
   ]
  },
  {
   "cell_type": "markdown",
   "metadata": {},
   "source": [
    "## Research Questions "
   ]
  },
  {
   "cell_type": "markdown",
   "metadata": {},
   "source": [
    " 1. Trends in Funding over Time"
   ]
  },
  {
   "cell_type": "markdown",
   "metadata": {},
   "source": [
    " How has the total funding received by start-ups in India evolved from 2018 to 2021? Are there any noticeable patterns or trends in the amounts or frequency of funding rounds across these years?"
   ]
  },
  {
   "cell_type": "code",
   "execution_count": 157,
   "metadata": {},
   "outputs": [
    {
     "data": {
      "image/png": "[encoded data removed]",
      "text/plain": [
       "<Figure size 1000x600 with 1 Axes>"
      ]
     },
     "metadata": {},
     "output_type": "display_data"
    }
   ],
   "source": [
    "# Group the filtered data by year and calculate the total funding amount for each year\n",
    "# Group the data by company_brand and calculate the total funding amount\n",
    "funding_over_time = concatenated.groupby('Year')['Amount'].sum()\n",
    "\n",
    "# Convert the index (years) to integers\n",
    "funding_over_time.index = funding_over_time.index.astype(int)\n",
    "\n",
    "plt.figure(figsize=(10, 6))\n",
    "plt.plot(funding_over_time.index, funding_over_time.values, marker='o', color='purple')\n",
    "\n",
    "plt.xlabel('Year')\n",
    "plt.ylabel('Total Funding (Amount)')\n",
    "plt.title('Trends in Funding Over Time')\n",
    "\n",
    "# Set the x-axis ticks to only display the needed years\n",
    "plt.xticks(funding_over_time.index)\n",
    "plt.show()\n"
   ]
  },
  {
   "cell_type": "markdown",
   "metadata": {},
   "source": [
    "2. Which sector receive funding more?"
   ]
  },
  {
   "cell_type": "markdown",
   "metadata": {},
   "source": [
    "Which sectors or industries received the most funding during this period? Are there specific sectors that consistently attracted higher investment compared to others?"
   ]
  },
  {
   "cell_type": "code",
   "execution_count": 166,
   "metadata": {},
   "outputs": [
    {
     "data": {
      "image/png": "[encoded data removed]",
      "text/plain": [
       "<Figure size 1000x800 with 1 Axes>"
      ]
     },
     "metadata": {},
     "output_type": "display_data"
    }
   ],
   "source": [
    "# Calculate the sum of amounts for the top 10 most funded sectors\n",
    "top_10_sectors_sum = concatenated.groupby('Sector')['Amount'].sum().nlargest(10)\n",
    "\n",
    "# Plot a bar graph with custom colors for the bars\n",
    "plt.figure(figsize=(10, 8))\n",
    "\n",
    "bars = plt.bar(top_10_sectors_sum.index, top_10_sectors_sum.values, color='#17becf')\n",
    "\n",
    "plt.title('Top 10 Most Funded Sectors', fontsize=16)\n",
    "plt.xlabel('Sector', fontsize=12)\n",
    "plt.ylabel('Total Amount', fontsize=12)\n",
    "\n",
    "\n",
    "plt.xticks(rotation=45)  # Rotate x-axis labels for better readability\n",
    "plt.tight_layout()  # Adjust layout to prevent clipping of labels\n",
    "plt.show()\n"
   ]
  },
  {
   "cell_type": "markdown",
   "metadata": {},
   "source": [
    "3. how does the distribution of funding across different stages  relate to the sector's prominence or growth potential?"
   ]
  },
  {
   "cell_type": "code",
   "execution_count": 159,
   "metadata": {},
   "outputs": [
    {
     "data": {
      "image/png": "[encoded data removed]",
      "text/plain": [
       "<Figure size 640x480 with 1 Axes>"
      ]
     },
     "metadata": {},
     "output_type": "display_data"
    }
   ],
   "source": [
    "# Identify top sectors based on prominence metric\n",
    "top_sectors = concatenated['Sector'].value_counts().head(5)  # Assuming top 5 sectors\n",
    "\n",
    "# Filter data for the top sectors\n",
    "filtered_data = concatenated[concatenated['Sector'].isin(top_sectors.index)]\n",
    "\n",
    "# Grouped or stacked bar plot for distribution of funding stages by sectors\n",
    "grouped_stage_sector = filtered_data.groupby(['Stage', 'Sector']).size().unstack()\n",
    "grouped_stage_sector.plot(kind='bar', stacked=True)\n",
    "\n",
    "plt.xlabel('Funding Stage')\n",
    "plt.ylabel('Count of Startups')\n",
    "plt.title('Distribution of Funding Stages Across Top Sectors')\n",
    "plt.legend(title='Sector', loc='upper right')\n",
    "plt.show()\n",
    "\n"
   ]
  },
  {
   "cell_type": "markdown",
   "metadata": {},
   "source": [
    "4. Which companies received the highest amount of funding?"
   ]
  },
  {
   "cell_type": "code",
   "execution_count": 160,
   "metadata": {},
   "outputs": [
    {
     "data": {
      "image/png": "[encoded data removed]",
      "text/plain": [
       "<Figure size 1000x600 with 1 Axes>"
      ]
     },
     "metadata": {},
     "output_type": "display_data"
    }
   ],
   "source": [
    "# Find the top 5 companies with the highest funding amounts\n",
    "top_5_companies = concatenated.nlargest(5, 'Amount')\n",
    "\n",
    "# Plotting a bar chart to show the top 5 companies with the highest funding\n",
    "plt.figure(figsize=(10, 6))\n",
    "plt.bar(top_5_companies['Company Brand'], top_5_companies['Amount'], color='#1f77b4')\n",
    "plt.xlabel('Company')\n",
    "plt.ylabel('Funding Amount')\n",
    "plt.title('Top 5 Companies with the Highest Funding Amounts')\n",
    "\n",
    "plt.tight_layout()\n",
    "plt.show()"
   ]
  },
  {
   "cell_type": "markdown",
   "metadata": {},
   "source": [
    "5. what are Geographical Distribution of Funding"
   ]
  },
  {
   "cell_type": "code",
   "execution_count": 161,
   "metadata": {},
   "outputs": [
    {
     "data": {
      "image/png": "[encoded data removed]",
      "text/plain": [
       "<Figure size 640x480 with 1 Axes>"
      ]
     },
     "metadata": {},
     "output_type": "display_data"
    }
   ],
   "source": [
    "top_5_cities = concatenated['HeadQuarter'].value_counts().head()\n",
    "\n",
    "# Group the data by headquarter and calculate the total funding amount\n",
    "total_funding_by_city = concatenated.groupby('HeadQuarter')['Amount'].sum()\n",
    "\n",
    "# Sort the total funding amounts for the top 5 cities\n",
    "top_5_total_funding = total_funding_by_city[top_5_cities.index]\n",
    "\n",
    "# Plotting the total funding amount for the top 5 cities using a horizontal bar chart\n",
    "plt.barh(top_5_total_funding.index, top_5_total_funding.values, color='#1f77b4')\n",
    "plt.xlabel('Total Funding (Amount)')\n",
    "plt.ylabel('HeadQuarter')\n",
    "plt.title('Total Funding for Top 5 Cities')\n",
    "plt.show()\n",
    "\n"
   ]
  },
  {
   "cell_type": "markdown",
   "metadata": {},
   "source": [
    "we having seleted Top Ten citys more funded based on Bar Graph we say Bangalore is first city to be funded then followed by Mumbai and then followed by Gugaon as Top 3 city that recived the most funding, while now Hyderabad, Jaipur,and Novida the last city Fundid. "
   ]
  },
  {
   "cell_type": "markdown",
   "metadata": {},
   "source": [
    "## Hypothesis\n",
    "\n",
    "Null Hypothesis (H0): There is no significant difference in the amount of funding received by different sectors.\n",
    "\n",
    "Alternative Hypothesis (Ha): There is a significant difference in the amount of funding received by different sectors.\n"
   ]
  },
  {
   "cell_type": "code",
   "execution_count": 162,
   "metadata": {},
   "outputs": [
    {
     "name": "stdout",
     "output_type": "stream",
     "text": [
      "ANOVA Test Results:\n",
      "F-statistic: 0.6315580497112359\n",
      "p-value: 0.9546781055450407\n",
      "Fail to reject the null hypothesis.\n",
      "There is no significant difference in funding amounts among different sectors.\n"
     ]
    }
   ],
   "source": [
    "# Grouping funding amounts by sector\n",
    "grouped_data = {sector: concatenated[concatenated['Sector'] == sector]['Amount'] for sector in concatenated['Sector'].unique()}\n",
    "\n",
    "# Perform ANOVA test\n",
    "f_statistic, p_value = stats.f_oneway(*grouped_data.values())\n",
    "\n",
    "# Interpret the results\n",
    "alpha = 0.05  # the significance level\n",
    "print(\"ANOVA Test Results:\")\n",
    "print(\"F-statistic:\", f_statistic)\n",
    "print(\"p-value:\", p_value)\n",
    "\n",
    "if p_value < alpha:\n",
    "    print(\"Reject the null hypothesis.\")\n",
    "    print(\"There is a significant difference in funding amounts among different sectors.\")\n",
    "else:\n",
    "    print(\"Fail to reject the null hypothesis.\")\n",
    "    print(\"There is no significant difference in funding amounts among different sectors.\")\n"
   ]
  },
  {
   "cell_type": "code",
   "execution_count": 163,
   "metadata": {},
   "outputs": [],
   "source": [
    "# save concatenated data to CSV\n",
    "concatenated.to_csv('completed_data.csv', index=False)"
   ]
  },
  {
   "cell_type": "code",
   "execution_count": 164,
   "metadata": {},
   "outputs": [
    {
     "data": {
      "text/html": [
       "<div>\n",
       "<style scoped>\n",
       "    .dataframe tbody tr th:only-of-type {\n",
       "        vertical-align: middle;\n",
       "    }\n",
       "\n",
       "    .dataframe tbody tr th {\n",
       "        vertical-align: top;\n",
       "    }\n",
       "\n",
       "    .dataframe thead th {\n",
       "        text-align: right;\n",
       "    }\n",
       "</style>\n",
       "<table border=\"1\" class=\"dataframe\">\n",
       "  <thead>\n",
       "    <tr style=\"text-align: right;\">\n",
       "      <th></th>\n",
       "      <th>Company Brand</th>\n",
       "      <th>Founded</th>\n",
       "      <th>HeadQuarter</th>\n",
       "      <th>Sector</th>\n",
       "      <th>What it does</th>\n",
       "      <th>Founders</th>\n",
       "      <th>Investor</th>\n",
       "      <th>Amount</th>\n",
       "      <th>Stage</th>\n",
       "      <th>Year</th>\n",
       "    </tr>\n",
       "  </thead>\n",
       "  <tbody>\n",
       "    <tr>\n",
       "      <th>0</th>\n",
       "      <td>Krayonnz</td>\n",
       "      <td>2019</td>\n",
       "      <td>Bangalore</td>\n",
       "      <td>Education</td>\n",
       "      <td>An academy-guardian-scholar centric ecosystem ...</td>\n",
       "      <td>Saurabh Dixit, Gurudutt Upadhyay</td>\n",
       "      <td>GSF Accelerator</td>\n",
       "      <td>1.000000e+05</td>\n",
       "      <td>Pre-series A</td>\n",
       "      <td>2020</td>\n",
       "    </tr>\n",
       "    <tr>\n",
       "      <th>1</th>\n",
       "      <td>qZense</td>\n",
       "      <td>2019</td>\n",
       "      <td>Bangalore</td>\n",
       "      <td>Agriculture</td>\n",
       "      <td>qZense Labs is building the next-generation Io...</td>\n",
       "      <td>Rubal Chib, Dr Srishti Batra</td>\n",
       "      <td>Venture Catalysts, 9Unicorns Accelerator Fund</td>\n",
       "      <td>6.000000e+05</td>\n",
       "      <td>Pre-series A</td>\n",
       "      <td>2020</td>\n",
       "    </tr>\n",
       "    <tr>\n",
       "      <th>2</th>\n",
       "      <td>MyClassboard</td>\n",
       "      <td>2008</td>\n",
       "      <td>Hyderabad</td>\n",
       "      <td>Education</td>\n",
       "      <td>MyClassboard is a full-fledged School / Colleg...</td>\n",
       "      <td>Ajay Sakhamuri</td>\n",
       "      <td>ICICI Bank.</td>\n",
       "      <td>6.000000e+05</td>\n",
       "      <td>Pre-series A</td>\n",
       "      <td>2020</td>\n",
       "    </tr>\n",
       "    <tr>\n",
       "      <th>3</th>\n",
       "      <td>Rupeek</td>\n",
       "      <td>2015</td>\n",
       "      <td>Bangalore</td>\n",
       "      <td>Finance</td>\n",
       "      <td>Rupeek is an online lending platform that spec...</td>\n",
       "      <td>Amar Prabhu, Ashwin Soni, Sumit Maniyar</td>\n",
       "      <td>KB Investment, Bertelsmann India Investments</td>\n",
       "      <td>4.500000e+07</td>\n",
       "      <td>Series C</td>\n",
       "      <td>2020</td>\n",
       "    </tr>\n",
       "    <tr>\n",
       "      <th>4</th>\n",
       "      <td>Gig India</td>\n",
       "      <td>2017</td>\n",
       "      <td>Pune</td>\n",
       "      <td>Finance</td>\n",
       "      <td>GigIndia is a marketplace that provides on-dem...</td>\n",
       "      <td>Aditya Shirole, Sahil Sharma</td>\n",
       "      <td>Shantanu Deshpande, Subramaniam Ramadorai</td>\n",
       "      <td>1.000000e+06</td>\n",
       "      <td>Pre-series A</td>\n",
       "      <td>2020</td>\n",
       "    </tr>\n",
       "    <tr>\n",
       "      <th>...</th>\n",
       "      <td>...</td>\n",
       "      <td>...</td>\n",
       "      <td>...</td>\n",
       "      <td>...</td>\n",
       "      <td>...</td>\n",
       "      <td>...</td>\n",
       "      <td>...</td>\n",
       "      <td>...</td>\n",
       "      <td>...</td>\n",
       "      <td>...</td>\n",
       "    </tr>\n",
       "    <tr>\n",
       "      <th>1748</th>\n",
       "      <td>Udaan</td>\n",
       "      <td>0</td>\n",
       "      <td>Bangalore</td>\n",
       "      <td>Commerce</td>\n",
       "      <td>Udaan is a B2B trade platform, designed specif...</td>\n",
       "      <td>Unknown</td>\n",
       "      <td>Unknown</td>\n",
       "      <td>2.250000e+08</td>\n",
       "      <td>Series C</td>\n",
       "      <td>2018</td>\n",
       "    </tr>\n",
       "    <tr>\n",
       "      <th>1749</th>\n",
       "      <td>Happyeasygo Group</td>\n",
       "      <td>0</td>\n",
       "      <td>Haryana</td>\n",
       "      <td>Hospitality</td>\n",
       "      <td>HappyEasyGo is an online travel domain.</td>\n",
       "      <td>Unknown</td>\n",
       "      <td>Unknown</td>\n",
       "      <td>1.300000e+06</td>\n",
       "      <td>Series A</td>\n",
       "      <td>2018</td>\n",
       "    </tr>\n",
       "    <tr>\n",
       "      <th>1750</th>\n",
       "      <td>Mombay</td>\n",
       "      <td>0</td>\n",
       "      <td>Mumbai</td>\n",
       "      <td>Food &amp; Beverages</td>\n",
       "      <td>Mombay is a unique opportunity for housewives ...</td>\n",
       "      <td>Unknown</td>\n",
       "      <td>Unknown</td>\n",
       "      <td>7.500000e+03</td>\n",
       "      <td>Pre-series A</td>\n",
       "      <td>2018</td>\n",
       "    </tr>\n",
       "    <tr>\n",
       "      <th>1751</th>\n",
       "      <td>Droni Tech</td>\n",
       "      <td>0</td>\n",
       "      <td>Mumbai</td>\n",
       "      <td>Technology</td>\n",
       "      <td>Droni Tech manufacture UAVs and develop softwa...</td>\n",
       "      <td>Unknown</td>\n",
       "      <td>Unknown</td>\n",
       "      <td>5.072464e+05</td>\n",
       "      <td>Pre-series A</td>\n",
       "      <td>2018</td>\n",
       "    </tr>\n",
       "    <tr>\n",
       "      <th>1752</th>\n",
       "      <td>Netmeds</td>\n",
       "      <td>0</td>\n",
       "      <td>Chennai</td>\n",
       "      <td>Health</td>\n",
       "      <td>Welcome to India's most convenient pharmacy!</td>\n",
       "      <td>Unknown</td>\n",
       "      <td>Unknown</td>\n",
       "      <td>3.500000e+07</td>\n",
       "      <td>Series C</td>\n",
       "      <td>2018</td>\n",
       "    </tr>\n",
       "  </tbody>\n",
       "</table>\n",
       "<p>1753 rows × 10 columns</p>\n",
       "</div>"
      ],
      "text/plain": [
       "          Company Brand  Founded HeadQuarter            Sector  \\\n",
       "0              Krayonnz     2019   Bangalore         Education   \n",
       "1                qZense     2019   Bangalore       Agriculture   \n",
       "2          MyClassboard     2008   Hyderabad         Education   \n",
       "3                Rupeek     2015   Bangalore           Finance   \n",
       "4             Gig India     2017        Pune           Finance   \n",
       "...                 ...      ...         ...               ...   \n",
       "1748              Udaan        0   Bangalore          Commerce   \n",
       "1749  Happyeasygo Group        0     Haryana       Hospitality   \n",
       "1750             Mombay        0      Mumbai  Food & Beverages   \n",
       "1751         Droni Tech        0      Mumbai        Technology   \n",
       "1752            Netmeds        0     Chennai            Health   \n",
       "\n",
       "                                           What it does  \\\n",
       "0     An academy-guardian-scholar centric ecosystem ...   \n",
       "1     qZense Labs is building the next-generation Io...   \n",
       "2     MyClassboard is a full-fledged School / Colleg...   \n",
       "3     Rupeek is an online lending platform that spec...   \n",
       "4     GigIndia is a marketplace that provides on-dem...   \n",
       "...                                                 ...   \n",
       "1748  Udaan is a B2B trade platform, designed specif...   \n",
       "1749            HappyEasyGo is an online travel domain.   \n",
       "1750  Mombay is a unique opportunity for housewives ...   \n",
       "1751  Droni Tech manufacture UAVs and develop softwa...   \n",
       "1752       Welcome to India's most convenient pharmacy!   \n",
       "\n",
       "                                     Founders  \\\n",
       "0            Saurabh Dixit, Gurudutt Upadhyay   \n",
       "1                Rubal Chib, Dr Srishti Batra   \n",
       "2                              Ajay Sakhamuri   \n",
       "3     Amar Prabhu, Ashwin Soni, Sumit Maniyar   \n",
       "4                Aditya Shirole, Sahil Sharma   \n",
       "...                                       ...   \n",
       "1748                                  Unknown   \n",
       "1749                                  Unknown   \n",
       "1750                                  Unknown   \n",
       "1751                                  Unknown   \n",
       "1752                                  Unknown   \n",
       "\n",
       "                                           Investor        Amount  \\\n",
       "0                                   GSF Accelerator  1.000000e+05   \n",
       "1     Venture Catalysts, 9Unicorns Accelerator Fund  6.000000e+05   \n",
       "2                                       ICICI Bank.  6.000000e+05   \n",
       "3      KB Investment, Bertelsmann India Investments  4.500000e+07   \n",
       "4         Shantanu Deshpande, Subramaniam Ramadorai  1.000000e+06   \n",
       "...                                             ...           ...   \n",
       "1748                                        Unknown  2.250000e+08   \n",
       "1749                                        Unknown  1.300000e+06   \n",
       "1750                                        Unknown  7.500000e+03   \n",
       "1751                                        Unknown  5.072464e+05   \n",
       "1752                                        Unknown  3.500000e+07   \n",
       "\n",
       "             Stage  Year  \n",
       "0     Pre-series A  2020  \n",
       "1     Pre-series A  2020  \n",
       "2     Pre-series A  2020  \n",
       "3         Series C  2020  \n",
       "4     Pre-series A  2020  \n",
       "...            ...   ...  \n",
       "1748      Series C  2018  \n",
       "1749      Series A  2018  \n",
       "1750  Pre-series A  2018  \n",
       "1751  Pre-series A  2018  \n",
       "1752      Series C  2018  \n",
       "\n",
       "[1753 rows x 10 columns]"
      ]
     },
     "execution_count": 164,
     "metadata": {},
     "output_type": "execute_result"
    }
   ],
   "source": [
    "concatenated"
   ]
  }
 ],
 "metadata": {
  "kernelspec": {
   "display_name": "Python 3",
   "language": "python",
   "name": "python3"
  },
  "language_info": {
   "codemirror_mode": {
    "name": "ipython",
    "version": 3
   },
   "file_extension": ".py",
   "mimetype": "text/x-python",
   "name": "python",
   "nbconvert_exporter": "python",
   "pygments_lexer": "ipython3",
   "version": "3.10.11"
  }
 },
 "nbformat": 4,
 "nbformat_minor": 2
}
